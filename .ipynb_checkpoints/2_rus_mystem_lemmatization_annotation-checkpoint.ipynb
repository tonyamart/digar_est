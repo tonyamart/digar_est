{
 "cells": [
  {
   "cell_type": "markdown",
   "metadata": {},
   "source": [
    "### Lemmatization & tagging for Russian texts\n",
    "\n",
    "The package used here is Python [Pymystem3](https://pypi.org/project/pymystem3/), which is a wrapper around Mystem morphological analyser commonly used for Russian. I use it because I find its quality both for historical (i.e. 19th-century) and modern texts quite good, although there's a problem that Mystem is not an opensource tool but a property of Yandex. We can test/switch to another tool if necessary."
   ]
  },
  {
   "cell_type": "code",
   "execution_count": 7,
   "metadata": {},
   "outputs": [],
   "source": [
    "import re\n",
    "import json\n",
    "import pandas as pd\n",
    "from pymystem3 import Mystem\n",
    "\n",
    "m = Mystem()"
   ]
  },
  {
   "cell_type": "markdown",
   "metadata": {},
   "source": [
    "### Basic usage for strings"
   ]
  },
  {
   "cell_type": "code",
   "execution_count": 3,
   "metadata": {},
   "outputs": [
    {
     "name": "stdout",
     "output_type": "stream",
     "text": [
      "['попробовать', ' ', 'этот', ' ', 'мягкий', ' ', 'французский', ' ', 'булка', '\\n']\n"
     ]
    }
   ],
   "source": [
    "test = 'Попробуй этих мягких французских булок'\n",
    "lemma = m.lemmatize(test)\n",
    "print(lemma) # list output"
   ]
  },
  {
   "cell_type": "markdown",
   "metadata": {},
   "source": [
    "#### Annotation"
   ]
  },
  {
   "cell_type": "code",
   "execution_count": null,
   "metadata": {},
   "outputs": [],
   "source": [
    "import json"
   ]
  },
  {
   "cell_type": "code",
   "execution_count": 9,
   "metadata": {},
   "outputs": [],
   "source": [
    "an = m.analyze(test) # Mystem output is hierarchical "
   ]
  },
  {
   "cell_type": "code",
   "execution_count": 10,
   "metadata": {},
   "outputs": [
    {
     "name": "stdout",
     "output_type": "stream",
     "text": [
      "[{'analysis': [{'lex': 'попробовать', 'wt': 1, 'gr': 'V,сов,пе=ед,пов,2-л'}], 'text': 'Попробуй'}, {'text': ' '}, {'analysis': [{'lex': 'этот', 'wt': 1, 'gr': 'APRO=(пр,мн|род,мн|вин,мн,од)'}], 'text': 'этих'}, {'text': ' '}, {'analysis': [{'lex': 'мягкий', 'wt': 1, 'gr': 'A=(пр,мн,полн|вин,мн,полн,од|род,мн,полн)'}], 'text': 'мягких'}, {'text': ' '}, {'analysis': [{'lex': 'французский', 'wt': 1, 'gr': 'A=(пр,мн,полн|вин,мн,полн,од|род,мн,полн)'}], 'text': 'французских'}, {'text': ' '}, {'analysis': [{'lex': 'булка', 'wt': 1, 'gr': 'S,жен,неод=род,мн'}], 'text': 'булок'}, {'text': '\\n'}]\n"
     ]
    }
   ],
   "source": [
    "print(an)"
   ]
  },
  {
   "cell_type": "code",
   "execution_count": 41,
   "metadata": {},
   "outputs": [
    {
     "name": "stdout",
     "output_type": "stream",
     "text": [
      "{'analysis': [{'lex': 'этот', 'wt': 1, 'gr': 'APRO=(пр,мн|род,мн|вин,мн,од)'}], 'text': 'этих'}\n",
      "\n",
      "root list length: 10\n"
     ]
    }
   ],
   "source": [
    "print(an[2])\n",
    "print('\\nroot list length:', len(an))"
   ]
  },
  {
   "cell_type": "code",
   "execution_count": 42,
   "metadata": {},
   "outputs": [
    {
     "data": {
      "text/html": [
       "<div>\n",
       "<style scoped>\n",
       "    .dataframe tbody tr th:only-of-type {\n",
       "        vertical-align: middle;\n",
       "    }\n",
       "\n",
       "    .dataframe tbody tr th {\n",
       "        vertical-align: top;\n",
       "    }\n",
       "\n",
       "    .dataframe thead th {\n",
       "        text-align: right;\n",
       "    }\n",
       "</style>\n",
       "<table border=\"1\" class=\"dataframe\">\n",
       "  <thead>\n",
       "    <tr style=\"text-align: right;\">\n",
       "      <th></th>\n",
       "      <th>lex</th>\n",
       "      <th>wt</th>\n",
       "      <th>gr</th>\n",
       "      <th>text</th>\n",
       "    </tr>\n",
       "  </thead>\n",
       "  <tbody>\n",
       "    <tr>\n",
       "      <th>0</th>\n",
       "      <td>этот</td>\n",
       "      <td>1</td>\n",
       "      <td>APRO=(пр,мн|род,мн|вин,мн,од)</td>\n",
       "      <td>этих</td>\n",
       "    </tr>\n",
       "  </tbody>\n",
       "</table>\n",
       "</div>"
      ],
      "text/plain": [
       "    lex  wt                             gr  text\n",
       "0  этот   1  APRO=(пр,мн|род,мн|вин,мн,од)  этих"
      ]
     },
     "execution_count": 42,
     "metadata": {},
     "output_type": "execute_result"
    }
   ],
   "source": [
    "pd.json_normalize(an[2], record_path = ['analysis'],\n",
    "                 meta = ['text'])"
   ]
  },
  {
   "cell_type": "code",
   "execution_count": 49,
   "metadata": {},
   "outputs": [
    {
     "data": {
      "text/html": [
       "<div>\n",
       "<style scoped>\n",
       "    .dataframe tbody tr th:only-of-type {\n",
       "        vertical-align: middle;\n",
       "    }\n",
       "\n",
       "    .dataframe tbody tr th {\n",
       "        vertical-align: top;\n",
       "    }\n",
       "\n",
       "    .dataframe thead th {\n",
       "        text-align: right;\n",
       "    }\n",
       "</style>\n",
       "<table border=\"1\" class=\"dataframe\">\n",
       "  <thead>\n",
       "    <tr style=\"text-align: right;\">\n",
       "      <th></th>\n",
       "      <th>lex</th>\n",
       "      <th>wt</th>\n",
       "      <th>gr</th>\n",
       "      <th>text</th>\n",
       "    </tr>\n",
       "  </thead>\n",
       "  <tbody>\n",
       "  </tbody>\n",
       "</table>\n",
       "</div>"
      ],
      "text/plain": [
       "Empty DataFrame\n",
       "Columns: [lex, wt, gr, text]\n",
       "Index: []"
      ]
     },
     "execution_count": 49,
     "metadata": {},
     "output_type": "execute_result"
    }
   ],
   "source": [
    "df = pd.DataFrame(columns = ['lex', 'wt', 'gr', 'text'])\n",
    "df"
   ]
  },
  {
   "cell_type": "code",
   "execution_count": 50,
   "metadata": {},
   "outputs": [],
   "source": [
    "for i in range(len(an)):\n",
    "    try: \n",
    "        t = pd.json_normalize(an[i], record_path = ['analysis'], meta = ['text'])\n",
    "        df = df.append(t)\n",
    "        t = None\n",
    "    except:\n",
    "        continue"
   ]
  },
  {
   "cell_type": "code",
   "execution_count": 51,
   "metadata": {},
   "outputs": [
    {
     "data": {
      "text/html": [
       "<div>\n",
       "<style scoped>\n",
       "    .dataframe tbody tr th:only-of-type {\n",
       "        vertical-align: middle;\n",
       "    }\n",
       "\n",
       "    .dataframe tbody tr th {\n",
       "        vertical-align: top;\n",
       "    }\n",
       "\n",
       "    .dataframe thead th {\n",
       "        text-align: right;\n",
       "    }\n",
       "</style>\n",
       "<table border=\"1\" class=\"dataframe\">\n",
       "  <thead>\n",
       "    <tr style=\"text-align: right;\">\n",
       "      <th></th>\n",
       "      <th>lex</th>\n",
       "      <th>wt</th>\n",
       "      <th>gr</th>\n",
       "      <th>text</th>\n",
       "    </tr>\n",
       "  </thead>\n",
       "  <tbody>\n",
       "    <tr>\n",
       "      <th>0</th>\n",
       "      <td>попробовать</td>\n",
       "      <td>1</td>\n",
       "      <td>V,сов,пе=ед,пов,2-л</td>\n",
       "      <td>Попробуй</td>\n",
       "    </tr>\n",
       "    <tr>\n",
       "      <th>0</th>\n",
       "      <td>этот</td>\n",
       "      <td>1</td>\n",
       "      <td>APRO=(пр,мн|род,мн|вин,мн,од)</td>\n",
       "      <td>этих</td>\n",
       "    </tr>\n",
       "    <tr>\n",
       "      <th>0</th>\n",
       "      <td>мягкий</td>\n",
       "      <td>1</td>\n",
       "      <td>A=(пр,мн,полн|вин,мн,полн,од|род,мн,полн)</td>\n",
       "      <td>мягких</td>\n",
       "    </tr>\n",
       "    <tr>\n",
       "      <th>0</th>\n",
       "      <td>французский</td>\n",
       "      <td>1</td>\n",
       "      <td>A=(пр,мн,полн|вин,мн,полн,од|род,мн,полн)</td>\n",
       "      <td>французских</td>\n",
       "    </tr>\n",
       "    <tr>\n",
       "      <th>0</th>\n",
       "      <td>булка</td>\n",
       "      <td>1</td>\n",
       "      <td>S,жен,неод=род,мн</td>\n",
       "      <td>булок</td>\n",
       "    </tr>\n",
       "  </tbody>\n",
       "</table>\n",
       "</div>"
      ],
      "text/plain": [
       "           lex wt                                         gr         text\n",
       "0  попробовать  1                        V,сов,пе=ед,пов,2-л     Попробуй\n",
       "0         этот  1              APRO=(пр,мн|род,мн|вин,мн,од)         этих\n",
       "0       мягкий  1  A=(пр,мн,полн|вин,мн,полн,од|род,мн,полн)       мягких\n",
       "0  французский  1  A=(пр,мн,полн|вин,мн,полн,од|род,мн,полн)  французских\n",
       "0        булка  1                          S,жен,неод=род,мн        булок"
      ]
     },
     "execution_count": 51,
     "metadata": {},
     "output_type": "execute_result"
    }
   ],
   "source": [
    "df"
   ]
  },
  {
   "cell_type": "markdown",
   "metadata": {},
   "source": [
    "### Table input \n",
    "(lemmatization only)"
   ]
  },
  {
   "cell_type": "markdown",
   "metadata": {},
   "source": [
    "1. For tidy-like table w/1 row = 1 word"
   ]
  },
  {
   "cell_type": "code",
   "execution_count": 60,
   "metadata": {},
   "outputs": [
    {
     "name": "stdout",
     "output_type": "stream",
     "text": [
      "   id         text lemma\n",
      "0   1     Попробуй      \n",
      "1   2         этих      \n",
      "2   3       мягких      \n",
      "3   4  французских      \n",
      "4   5        булок      \n"
     ]
    }
   ],
   "source": [
    "#df = pd.read_csv('test.tsv', sep = '\\t')\n",
    "\n",
    "df = pd.DataFrame(data = {'id': [1,2,3,4,5],\n",
    "                         'text':['Попробуй','этих','мягких','французских','булок'],\n",
    "                         'lemma':['','','','','']})\n",
    "\n",
    "print(df.head(5))"
   ]
  },
  {
   "cell_type": "code",
   "execution_count": 62,
   "metadata": {},
   "outputs": [],
   "source": [
    "df['lemma'] = df['text'].apply(m.lemmatize)\n",
    "df['lemma'] = [''.join(map(str, l)) for l in df['lemma']] \n",
    "df['lemma'] = df['lemma'].str.replace('\\n', '', regex = True)"
   ]
  },
  {
   "cell_type": "code",
   "execution_count": 63,
   "metadata": {},
   "outputs": [
    {
     "name": "stdout",
     "output_type": "stream",
     "text": [
      "   id         text        lemma\n",
      "0   1     Попробуй  попробовать\n",
      "1   2         этих         этот\n",
      "2   3       мягких       мягкий\n",
      "3   4  французских  французский\n",
      "4   5        булок        булка\n"
     ]
    }
   ],
   "source": [
    "print(df.head())"
   ]
  },
  {
   "cell_type": "code",
   "execution_count": 74,
   "metadata": {},
   "outputs": [
    {
     "name": "stdout",
     "output_type": "stream",
     "text": [
      "id                 4\n",
      "text     французских\n",
      "lemma    французский\n",
      "Name: 3, dtype: object\n",
      "\n",
      " французских\n"
     ]
    }
   ],
   "source": [
    "print(df.iloc[3])\n",
    "print(\"\\n\", df.iloc[3][1])"
   ]
  },
  {
   "cell_type": "code",
   "execution_count": 77,
   "metadata": {},
   "outputs": [],
   "source": [
    "df['analysis'] = df['text'].apply(m.analyze)"
   ]
  },
  {
   "cell_type": "code",
   "execution_count": 101,
   "metadata": {},
   "outputs": [
    {
     "data": {
      "text/html": [
       "<div>\n",
       "<style scoped>\n",
       "    .dataframe tbody tr th:only-of-type {\n",
       "        vertical-align: middle;\n",
       "    }\n",
       "\n",
       "    .dataframe tbody tr th {\n",
       "        vertical-align: top;\n",
       "    }\n",
       "\n",
       "    .dataframe thead th {\n",
       "        text-align: right;\n",
       "    }\n",
       "</style>\n",
       "<table border=\"1\" class=\"dataframe\">\n",
       "  <thead>\n",
       "    <tr style=\"text-align: right;\">\n",
       "      <th></th>\n",
       "      <th>id</th>\n",
       "      <th>text</th>\n",
       "      <th>lemma</th>\n",
       "      <th>analysis</th>\n",
       "    </tr>\n",
       "  </thead>\n",
       "  <tbody>\n",
       "    <tr>\n",
       "      <th>0</th>\n",
       "      <td>1</td>\n",
       "      <td>Попробуй</td>\n",
       "      <td>попробовать</td>\n",
       "      <td>[{'analysis': [{'lex': 'попробовать', 'wt': 1,...</td>\n",
       "    </tr>\n",
       "    <tr>\n",
       "      <th>1</th>\n",
       "      <td>2</td>\n",
       "      <td>этих</td>\n",
       "      <td>этот</td>\n",
       "      <td>[{'analysis': [{'lex': 'этот', 'wt': 1, 'gr': ...</td>\n",
       "    </tr>\n",
       "    <tr>\n",
       "      <th>2</th>\n",
       "      <td>3</td>\n",
       "      <td>мягких</td>\n",
       "      <td>мягкий</td>\n",
       "      <td>[{'analysis': [{'lex': 'мягкий', 'wt': 1, 'gr'...</td>\n",
       "    </tr>\n",
       "    <tr>\n",
       "      <th>3</th>\n",
       "      <td>4</td>\n",
       "      <td>французских</td>\n",
       "      <td>французский</td>\n",
       "      <td>[{'analysis': [{'lex': 'французский', 'wt': 1,...</td>\n",
       "    </tr>\n",
       "    <tr>\n",
       "      <th>4</th>\n",
       "      <td>5</td>\n",
       "      <td>булок</td>\n",
       "      <td>булка</td>\n",
       "      <td>[{'analysis': [{'lex': 'булка', 'wt': 1, 'gr':...</td>\n",
       "    </tr>\n",
       "  </tbody>\n",
       "</table>\n",
       "</div>"
      ],
      "text/plain": [
       "   id         text        lemma  \\\n",
       "0   1     Попробуй  попробовать   \n",
       "1   2         этих         этот   \n",
       "2   3       мягких       мягкий   \n",
       "3   4  французских  французский   \n",
       "4   5        булок        булка   \n",
       "\n",
       "                                            analysis  \n",
       "0  [{'analysis': [{'lex': 'попробовать', 'wt': 1,...  \n",
       "1  [{'analysis': [{'lex': 'этот', 'wt': 1, 'gr': ...  \n",
       "2  [{'analysis': [{'lex': 'мягкий', 'wt': 1, 'gr'...  \n",
       "3  [{'analysis': [{'lex': 'французский', 'wt': 1,...  \n",
       "4  [{'analysis': [{'lex': 'булка', 'wt': 1, 'gr':...  "
      ]
     },
     "execution_count": 101,
     "metadata": {},
     "output_type": "execute_result"
    }
   ],
   "source": [
    "df.head()"
   ]
  },
  {
   "cell_type": "code",
   "execution_count": 88,
   "metadata": {},
   "outputs": [
    {
     "data": {
      "text/plain": [
       "'APRO=(пр,мн|род,мн|вин,мн,од)'"
      ]
     },
     "execution_count": 88,
     "metadata": {},
     "output_type": "execute_result"
    }
   ],
   "source": [
    "# indexes to get only grammar annotation\n",
    "df['analysis'][1][0].get('analysis')[0].get('gr')"
   ]
  },
  {
   "cell_type": "code",
   "execution_count": 106,
   "metadata": {},
   "outputs": [],
   "source": [
    "# separate column 'gr' with only grammar features(to be sep furthier with regex)\n",
    "df['gr'] = [df['analysis'][i][0].get('analysis')[0].get('gr') for i in range(len(df))]\n",
    "df.drop('analysis', inplace = True, axis = 1) # axis = 1 for columns"
   ]
  },
  {
   "cell_type": "code",
   "execution_count": 107,
   "metadata": {},
   "outputs": [
    {
     "data": {
      "text/html": [
       "<div>\n",
       "<style scoped>\n",
       "    .dataframe tbody tr th:only-of-type {\n",
       "        vertical-align: middle;\n",
       "    }\n",
       "\n",
       "    .dataframe tbody tr th {\n",
       "        vertical-align: top;\n",
       "    }\n",
       "\n",
       "    .dataframe thead th {\n",
       "        text-align: right;\n",
       "    }\n",
       "</style>\n",
       "<table border=\"1\" class=\"dataframe\">\n",
       "  <thead>\n",
       "    <tr style=\"text-align: right;\">\n",
       "      <th></th>\n",
       "      <th>id</th>\n",
       "      <th>text</th>\n",
       "      <th>lemma</th>\n",
       "      <th>gr</th>\n",
       "    </tr>\n",
       "  </thead>\n",
       "  <tbody>\n",
       "    <tr>\n",
       "      <th>0</th>\n",
       "      <td>1</td>\n",
       "      <td>Попробуй</td>\n",
       "      <td>попробовать</td>\n",
       "      <td>V,сов,пе=ед,пов,2-л</td>\n",
       "    </tr>\n",
       "    <tr>\n",
       "      <th>1</th>\n",
       "      <td>2</td>\n",
       "      <td>этих</td>\n",
       "      <td>этот</td>\n",
       "      <td>APRO=(пр,мн|род,мн|вин,мн,од)</td>\n",
       "    </tr>\n",
       "    <tr>\n",
       "      <th>2</th>\n",
       "      <td>3</td>\n",
       "      <td>мягких</td>\n",
       "      <td>мягкий</td>\n",
       "      <td>A=(пр,мн,полн|вин,мн,полн,од|род,мн,полн)</td>\n",
       "    </tr>\n",
       "    <tr>\n",
       "      <th>3</th>\n",
       "      <td>4</td>\n",
       "      <td>французских</td>\n",
       "      <td>французский</td>\n",
       "      <td>A=(пр,мн,полн|вин,мн,полн,од|род,мн,полн)</td>\n",
       "    </tr>\n",
       "    <tr>\n",
       "      <th>4</th>\n",
       "      <td>5</td>\n",
       "      <td>булок</td>\n",
       "      <td>булка</td>\n",
       "      <td>S,жен,неод=род,мн</td>\n",
       "    </tr>\n",
       "  </tbody>\n",
       "</table>\n",
       "</div>"
      ],
      "text/plain": [
       "   id         text        lemma                                         gr\n",
       "0   1     Попробуй  попробовать                        V,сов,пе=ед,пов,2-л\n",
       "1   2         этих         этот              APRO=(пр,мн|род,мн|вин,мн,од)\n",
       "2   3       мягких       мягкий  A=(пр,мн,полн|вин,мн,полн,од|род,мн,полн)\n",
       "3   4  французских  французский  A=(пр,мн,полн|вин,мн,полн,од|род,мн,полн)\n",
       "4   5        булок        булка                          S,жен,неод=род,мн"
      ]
     },
     "execution_count": 107,
     "metadata": {},
     "output_type": "execute_result"
    }
   ],
   "source": [
    "df"
   ]
  },
  {
   "cell_type": "code",
   "execution_count": null,
   "metadata": {},
   "outputs": [],
   "source": [
    "# write to file\n",
    "# df.to_csv('test.csv')"
   ]
  },
  {
   "cell_type": "markdown",
   "metadata": {},
   "source": [
    "2. Non-tokenized text in rows (lemmatization only)"
   ]
  },
  {
   "cell_type": "code",
   "execution_count": 54,
   "metadata": {},
   "outputs": [
    {
     "name": "stdout",
     "output_type": "stream",
     "text": [
      "   id                                    text lemma\n",
      "0   1                          Мама мыла раму      \n",
      "1   2  Попробуй этих мягких французских булок      \n"
     ]
    }
   ],
   "source": [
    "df = pd.DataFrame(data = {'id': [1,2],\n",
    "                          'text': ['Мама мыла раму', 'Попробуй этих мягких французских булок'],\n",
    "                         'lemma': ['','']})\n",
    "print(df.head())"
   ]
  },
  {
   "cell_type": "code",
   "execution_count": 58,
   "metadata": {},
   "outputs": [
    {
     "name": "stdout",
     "output_type": "stream",
     "text": [
      "   id                                    text  \\\n",
      "0   1                          Мама мыла раму   \n",
      "1   2  Попробуй этих мягких французских булок   \n",
      "\n",
      "                                       lemma  \n",
      "0                             мама мыть рама  \n",
      "1  попробовать этот мягкий французский булка  \n"
     ]
    }
   ],
   "source": [
    "df['lemma'] = df['text'].apply(m.lemmatize)\n",
    "df['lemma'] = [''.join(map(str, l)) for l in df['lemma']] # mystem output is a list\n",
    "# second part is: for list in all rows of df['lemma'] do join as string (same as str.get but for multiple list el-s)\n",
    "df['lemma'] = df['lemma'].str.replace('\\n', '', regex = True)\n",
    "\n",
    "print(df.head())"
   ]
  },
  {
   "cell_type": "code",
   "execution_count": 55,
   "metadata": {},
   "outputs": [],
   "source": []
  },
  {
   "cell_type": "code",
   "execution_count": null,
   "metadata": {},
   "outputs": [],
   "source": []
  }
 ],
 "metadata": {
  "kernelspec": {
   "display_name": "Python 3",
   "language": "python",
   "name": "python3"
  },
  "language_info": {
   "codemirror_mode": {
    "name": "ipython",
    "version": 3
   },
   "file_extension": ".py",
   "mimetype": "text/x-python",
   "name": "python",
   "nbconvert_exporter": "python",
   "pygments_lexer": "ipython3",
   "version": "3.7.4"
  }
 },
 "nbformat": 4,
 "nbformat_minor": 2
}
