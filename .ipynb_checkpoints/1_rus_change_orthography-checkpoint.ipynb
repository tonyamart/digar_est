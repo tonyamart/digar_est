{
 "cells": [
  {
   "cell_type": "markdown",
   "metadata": {},
   "source": [
    "### russpelling module\n",
    "Before 1917 all texts in Russian were written in pre-reform orthography which can affect further processing i.e. lemmatization & annotation. \n",
    "Here is a code that helps to rewrite texts from pre-reform to the modern orthography using python module russpelling.\n",
    "\n",
    "Module documentation:\n",
    "https://github.com/ingoboerner/russpelling  \n",
    "Developers: Ingo Boerner and David J. Birnbaum"
   ]
  },
  {
   "cell_type": "code",
   "execution_count": 3,
   "metadata": {
    "scrolled": true
   },
   "outputs": [],
   "source": [
    "import os\n",
    "import re\n",
    "from russpelling import *\n",
    "import pandas as pd"
   ]
  },
  {
   "cell_type": "code",
   "execution_count": 2,
   "metadata": {
    "scrolled": true
   },
   "outputs": [
    {
     "name": "stdout",
     "output_type": "stream",
     "text": [
      "из Франции и Италии\n"
     ]
    }
   ],
   "source": [
    "# test a line\n",
    "test = 'изъ Франціи и Италіи'\n",
    "print(normalize(test))"
   ]
  },
  {
   "cell_type": "markdown",
   "metadata": {},
   "source": [
    "#### Table data"
   ]
  },
  {
   "cell_type": "code",
   "execution_count": 5,
   "metadata": {
    "scrolled": true
   },
   "outputs": [
    {
     "data": {
      "text/html": [
       "<div>\n",
       "<style scoped>\n",
       "    .dataframe tbody tr th:only-of-type {\n",
       "        vertical-align: middle;\n",
       "    }\n",
       "\n",
       "    .dataframe tbody tr th {\n",
       "        vertical-align: top;\n",
       "    }\n",
       "\n",
       "    .dataframe thead th {\n",
       "        text-align: right;\n",
       "    }\n",
       "</style>\n",
       "<table border=\"1\" class=\"dataframe\">\n",
       "  <thead>\n",
       "    <tr style=\"text-align: right;\">\n",
       "      <th></th>\n",
       "      <th>id</th>\n",
       "      <th>text</th>\n",
       "    </tr>\n",
       "  </thead>\n",
       "  <tbody>\n",
       "    <tr>\n",
       "      <th>0</th>\n",
       "      <td>1</td>\n",
       "      <td>его попеченіями, юные Художники пріобрѣтаютъ и...</td>\n",
       "    </tr>\n",
       "    <tr>\n",
       "      <th>1</th>\n",
       "      <td>2</td>\n",
       "      <td>въ домѣ Марса на Невскомъ проспектѣ</td>\n",
       "    </tr>\n",
       "  </tbody>\n",
       "</table>\n",
       "</div>"
      ],
      "text/plain": [
       "   id                                               text\n",
       "0   1  его попеченіями, юные Художники пріобрѣтаютъ и...\n",
       "1   2                въ домѣ Марса на Невскомъ проспектѣ"
      ]
     },
     "execution_count": 5,
     "metadata": {},
     "output_type": "execute_result"
    }
   ],
   "source": [
    "df = pd.DataFrame(data = {'id': [1,2],\n",
    "                         'text':['его попеченіями, юные Художники пріобрѣтаютъ извѣстность', 'въ домѣ Марса на Невскомъ проспектѣ']})\n",
    "df"
   ]
  },
  {
   "cell_type": "code",
   "execution_count": 9,
   "metadata": {
    "scrolled": true
   },
   "outputs": [
    {
     "data": {
      "text/html": [
       "<div>\n",
       "<style scoped>\n",
       "    .dataframe tbody tr th:only-of-type {\n",
       "        vertical-align: middle;\n",
       "    }\n",
       "\n",
       "    .dataframe tbody tr th {\n",
       "        vertical-align: top;\n",
       "    }\n",
       "\n",
       "    .dataframe thead th {\n",
       "        text-align: right;\n",
       "    }\n",
       "</style>\n",
       "<table border=\"1\" class=\"dataframe\">\n",
       "  <thead>\n",
       "    <tr style=\"text-align: right;\">\n",
       "      <th></th>\n",
       "      <th>id</th>\n",
       "      <th>text</th>\n",
       "      <th>norm</th>\n",
       "    </tr>\n",
       "  </thead>\n",
       "  <tbody>\n",
       "    <tr>\n",
       "      <th>0</th>\n",
       "      <td>1</td>\n",
       "      <td>его попеченіями, юные Художники пріобрѣтаютъ и...</td>\n",
       "      <td>его попечениями, юные Художники приобретают из...</td>\n",
       "    </tr>\n",
       "    <tr>\n",
       "      <th>1</th>\n",
       "      <td>2</td>\n",
       "      <td>въ домѣ Марса на Невскомъ проспектѣ</td>\n",
       "      <td>в доме Марса на Невском проспекте</td>\n",
       "    </tr>\n",
       "  </tbody>\n",
       "</table>\n",
       "</div>"
      ],
      "text/plain": [
       "   id                                               text  \\\n",
       "0   1  его попеченіями, юные Художники пріобрѣтаютъ и...   \n",
       "1   2                въ домѣ Марса на Невскомъ проспектѣ   \n",
       "\n",
       "                                                norm  \n",
       "0  его попечениями, юные Художники приобретают из...  \n",
       "1                  в доме Марса на Невском проспекте  "
      ]
     },
     "execution_count": 9,
     "metadata": {},
     "output_type": "execute_result"
    }
   ],
   "source": [
    "df['norm'] = df['text'].apply(normalize)\n",
    "df"
   ]
  },
  {
   "cell_type": "markdown",
   "metadata": {},
   "source": [
    "#### File normalization"
   ]
  },
  {
   "cell_type": "code",
   "execution_count": 12,
   "metadata": {
    "scrolled": false
   },
   "outputs": [
    {
     "name": "stdout",
     "output_type": "stream",
     "text": [
      "Общество для поощрения отечественных художников быстро достигает своей благородной и патриотической цели. Юные Художники в недрах сего Общества, как на отеческом лоне, находят покровительство, мудрые и беспристрастные советы, ученую и благонамеренную критику своих произведений: опытные Художники находят в оных просвещенных ценителей своих дарований. Не распространяясь о пользе, принесенной сим Обществом Изящным Художествам, и о пособиях, доставленных многим Артистам, довольно упомянуть, что некоторые молодые люди с отличными дарованиями путешествуют на счет Общества для усовершенствования своих способностей, другие воспитываются или учатся разным Художествам.\n"
     ]
    }
   ],
   "source": [
    "# Test one file\n",
    "# NB: change filename!\n",
    "with open('test.txt') as text:\n",
    "    for line in text:\n",
    "        print(normalize(line)) # no ъ, i or ѣ should be found"
   ]
  },
  {
   "cell_type": "code",
   "execution_count": 14,
   "metadata": {
    "scrolled": true
   },
   "outputs": [
    {
     "name": "stdout",
     "output_type": "stream",
     "text": [
      "Text in the modern orthography is written in test_new-orf.txt\n"
     ]
    }
   ],
   "source": [
    "fh = 'test.txt' # change !\n",
    "new_name = fh.replace('.txt', '_new-orf.txt') # new file name\n",
    "# nested structure for opening existing file and write to the new one\n",
    "with open(fh, 'r') as text:\n",
    "    with open(new_name, 'w') as new_file: # open empty file_new-orf.txt in a writing mode\n",
    "        for line in text: # read exising file\n",
    "            new = None\n",
    "            new_orf = [] # list to store converted results\n",
    "\n",
    "            new = normalize(line) # normalize() -- function to convert to modern orthography \n",
    "            new_orf.append(new + os.linesep) # add all lines from the file separated by newline (could be '\\n' but I put os-specific line separator just in case)\n",
    "\n",
    "            result = ''.join(new_orf) # convert list to string\n",
    "            new_file.write(result) # write new file\n",
    "            print('Text in the modern orthography is written in', new_name)"
   ]
  },
  {
   "cell_type": "markdown",
   "metadata": {},
   "source": [
    "#### Folder rewriting"
   ]
  },
  {
   "cell_type": "code",
   "execution_count": null,
   "metadata": {
    "scrolled": true
   },
   "outputs": [],
   "source": [
    "# change directory to the folder with texts\n",
    "folder = 'test_folder/'\n",
    "os.chdir(folder)"
   ]
  },
  {
   "cell_type": "code",
   "execution_count": null,
   "metadata": {
    "scrolled": true
   },
   "outputs": [],
   "source": [
    "# test if all texts are covered by 'if file.endswith('.txt')\n",
    "# or change the if condition\n",
    "for file in os.listdir():\n",
    "    if file.endswith('.txt'):\n",
    "        print(file)"
   ]
  },
  {
   "cell_type": "code",
   "execution_count": null,
   "metadata": {
    "scrolled": true
   },
   "outputs": [],
   "source": [
    "# compare to the files inside the folder:\n",
    "print(os.listdir())"
   ]
  },
  {
   "cell_type": "code",
   "execution_count": null,
   "metadata": {
    "scrolled": true
   },
   "outputs": [],
   "source": [
    "for file in os.listdir(): # for each file in the folder\n",
    "    if file.endswith('.txt'): # which is .txt\n",
    "        # make a new filename from the exising one by appending '_new-orf.txt'\n",
    "        result_name = file.replace('.txt', '_new-orf.txt')\n",
    "        with open(file, 'r') as text: # read exising file\n",
    "            with open(result_name, 'w') as new_file: # open empty file_new-orf.txt in a writing mode\n",
    "                 for line in text: # input to the function is a string\n",
    "                    new = None # empty variables to store results\n",
    "                    new_orf = []\n",
    "                    \n",
    "                    new = normalize(line) # new orthography function\n",
    "                    new_orf.append(new + os.linesep) # add all lines from the file separated by newline (could be '\\n' but I put os-specific line separator)\n",
    "\n",
    "                    result = ''.join(new_orf) # paste it as strings separated by the new lines\n",
    "                    new_file.write(result) # write the result to the new file\n",
    "                    print('Text in the modern orthography is written in', result_name)\n",
    "                    "
   ]
  },
  {
   "cell_type": "markdown",
   "metadata": {},
   "source": [
    "Done?"
   ]
  }
 ],
 "metadata": {
  "kernelspec": {
   "display_name": "Python 3",
   "language": "python",
   "name": "python3"
  },
  "language_info": {
   "codemirror_mode": {
    "name": "ipython",
    "version": 3
   },
   "file_extension": ".py",
   "mimetype": "text/x-python",
   "name": "python",
   "nbconvert_exporter": "python",
   "pygments_lexer": "ipython3",
   "version": "3.7.4"
  }
 },
 "nbformat": 4,
 "nbformat_minor": 2
}
