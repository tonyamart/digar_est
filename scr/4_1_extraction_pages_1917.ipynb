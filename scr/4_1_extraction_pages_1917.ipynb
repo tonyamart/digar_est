{
 "cells": [
  {
   "cell_type": "markdown",
   "id": "b55a6989",
   "metadata": {},
   "source": [
    "### Text analysis\n",
    "The idea is to see the newspapers which were issued the longest periods of time:\n",
    "- group their texts for decades\n",
    "- count 10k MFW -> lemmatise them for dim. reduction\n",
    "- build a topic model\n",
    "- see the chronology topics distribution over time / see whether there's a thematic clusterings\n",
    "- look into pro-Russian topics"
   ]
  },
  {
   "cell_type": "code",
   "execution_count": 1,
   "id": "21d20fcd",
   "metadata": {},
   "outputs": [
    {
     "name": "stderr",
     "output_type": "stream",
     "text": [
      "── \u001b[1mAttaching packages\u001b[22m ─────────────────────────────────────── tidyverse 1.3.1 ──\n",
      "\n",
      "\u001b[32m✔\u001b[39m \u001b[34mggplot2\u001b[39m 3.3.5     \u001b[32m✔\u001b[39m \u001b[34mpurrr  \u001b[39m 0.3.4\n",
      "\u001b[32m✔\u001b[39m \u001b[34mtibble \u001b[39m 3.1.6     \u001b[32m✔\u001b[39m \u001b[34mdplyr  \u001b[39m 1.0.8\n",
      "\u001b[32m✔\u001b[39m \u001b[34mtidyr  \u001b[39m 1.2.0     \u001b[32m✔\u001b[39m \u001b[34mstringr\u001b[39m 1.4.0\n",
      "\u001b[32m✔\u001b[39m \u001b[34mreadr  \u001b[39m 2.1.2     \u001b[32m✔\u001b[39m \u001b[34mforcats\u001b[39m 0.5.1\n",
      "\n",
      "── \u001b[1mConflicts\u001b[22m ────────────────────────────────────────── tidyverse_conflicts() ──\n",
      "\u001b[31m✖\u001b[39m \u001b[34mdplyr\u001b[39m::\u001b[32mfilter()\u001b[39m masks \u001b[34mstats\u001b[39m::filter()\n",
      "\u001b[31m✖\u001b[39m \u001b[34mdplyr\u001b[39m::\u001b[32mlag()\u001b[39m    masks \u001b[34mstats\u001b[39m::lag()\n",
      "\n"
     ]
    }
   ],
   "source": [
    "library(tidyverse)"
   ]
  },
  {
   "cell_type": "code",
   "execution_count": 2,
   "id": "56cfd513",
   "metadata": {},
   "outputs": [],
   "source": [
    "library(tidytext, lib.loc = \"~/R_pckg/\")"
   ]
  },
  {
   "cell_type": "markdown",
   "id": "102f343a",
   "metadata": {},
   "source": [
    "Loading data:\n",
    "- texts_dorevol_all.csv : a table with page_id, text, language\n",
    "- dorevol_meta_lang.csv : a table with full metadata for each page / issue combined"
   ]
  },
  {
   "cell_type": "code",
   "execution_count": 3,
   "id": "8f0ce553",
   "metadata": {},
   "outputs": [],
   "source": [
    "texts <- read.csv(\"test/texts_dorevol_all.csv\")\n",
    "str(texts)"
   ]
  },
  {
   "cell_type": "code",
   "execution_count": null,
   "id": "b44de91a",
   "metadata": {},
   "outputs": [],
   "source": [
    "meta <- read.csv(\"test/dorevol_meta_lang.csv\")\n",
    "str(meta)"
   ]
  },
  {
   "cell_type": "code",
   "execution_count": 4,
   "id": "e80342cc",
   "metadata": {},
   "outputs": [
    {
     "name": "stdout",
     "output_type": "stream",
     "text": [
      "'data.frame':\t128700 obs. of  3 variables:\n",
      " $ X     : int  1 2 3 4 5 6 7 8 9 10 ...\n",
      " $ PageID: chr  \"borbaorgan19171208.1.4\" \"borbaorgan19171217.1.4\" \"borbaorgan19171201.1.1\" \"borbaorgan19171201.1.2\" ...\n",
      " $ lang  : chr  \"russian-koi8_r\" \"russian-koi8_r\" \"russian-koi8_r\" \"russian-koi8_r\" ...\n"
     ]
    }
   ],
   "source": [
    "# shorter dataset with langauges detected\n",
    "\n",
    "# test <- read.csv(\"dorevol_langs.csv\")\n",
    "# str(test)"
   ]
  },
  {
   "cell_type": "code",
   "execution_count": 6,
   "id": "1e1e1e04",
   "metadata": {},
   "outputs": [],
   "source": [
    "dat <- inner_join(texts, meta, by = \"PageID\")\n",
    "dat <- dat %>% select(-X.x, -X.1, -X.y, -attrs.x)"
   ]
  },
  {
   "cell_type": "code",
   "execution_count": null,
   "id": "5475f56a",
   "metadata": {},
   "outputs": [],
   "source": [
    "str(dat)"
   ]
  },
  {
   "cell_type": "code",
   "execution_count": 8,
   "id": "9514aea5",
   "metadata": {},
   "outputs": [],
   "source": [
    "langs <- c(\"german\", \"russian\", \"ukrainian\", \"estonian\", \"latvian\")\n",
    "\n",
    "dat <- dat %>% \n",
    "  # summarise language tags\n",
    "  mutate(lang_cln = str_replace_all(lang, \"^(\\\\w+)-.*\", \"\\\\1\")) %>% \n",
    "  filter(!is.na(lang_cln) & lang_cln %in% langs)"
   ]
  },
  {
   "cell_type": "markdown",
   "id": "723e9d0a",
   "metadata": {},
   "source": [
    "### Creation & work on the true Russian subset"
   ]
  },
  {
   "cell_type": "code",
   "execution_count": 3,
   "id": "565e0931",
   "metadata": {},
   "outputs": [],
   "source": [
    "rus_subset <- read.csv(\"test/rus_subset_merged.csv\")"
   ]
  },
  {
   "cell_type": "code",
   "execution_count": 4,
   "id": "05728c3c",
   "metadata": {},
   "outputs": [
    {
     "data": {
      "text/html": [
       "<table class=\"dataframe\">\n",
       "<caption>A tibble: 1 × 1</caption>\n",
       "<thead>\n",
       "\t<tr><th scope=col>n</th></tr>\n",
       "\t<tr><th scope=col>&lt;int&gt;</th></tr>\n",
       "</thead>\n",
       "<tbody>\n",
       "\t<tr><td>16</td></tr>\n",
       "</tbody>\n",
       "</table>\n"
      ],
      "text/latex": [
       "A tibble: 1 × 1\n",
       "\\begin{tabular}{l}\n",
       " n\\\\\n",
       " <int>\\\\\n",
       "\\hline\n",
       "\t 16\\\\\n",
       "\\end{tabular}\n"
      ],
      "text/markdown": [
       "\n",
       "A tibble: 1 × 1\n",
       "\n",
       "| n &lt;int&gt; |\n",
       "|---|\n",
       "| 16 |\n",
       "\n"
      ],
      "text/plain": [
       "  n \n",
       "1 16"
      ]
     },
     "metadata": {},
     "output_type": "display_data"
    }
   ],
   "source": [
    "# count number of pages for titles in decades\n",
    "newspapers <- rus_subset %>% \n",
    "    group_by(title, decade.x) %>% \n",
    "    count(sort = T)\n",
    "\n",
    "# if filtering only newspapers with >50 pages in a decade, than it's 21 major newspapers\n",
    "# for >100 pages in decade would be 16 newspapers\n",
    "newspapers %>% filter(n > 100) %>% ungroup() %>% select(title) %>% distinct() %>% count()"
   ]
  },
  {
   "cell_type": "code",
   "execution_count": 5,
   "id": "8f966d64",
   "metadata": {},
   "outputs": [
    {
     "data": {
      "image/png": "[encoded data removed]",
      "text/plain": [
       "plot without title"
      ]
     },
     "metadata": {
      "image/png": {
       "height": 420,
       "width": 420
      }
     },
     "output_type": "display_data"
    }
   ],
   "source": [
    "newspapers %>% filter(n > 100) %>% \n",
    "    ggplot(aes(x = decade.x, y = n, fill = title)) + geom_col() + \n",
    "    theme(legend.position = \"None\")"
   ]
  },
  {
   "cell_type": "code",
   "execution_count": 7,
   "id": "df38caf0",
   "metadata": {},
   "outputs": [
    {
     "data": {
      "text/html": [
       "<style>\n",
       ".list-inline {list-style: none; margin:0; padding: 0}\n",
       ".list-inline>li {display: inline-block}\n",
       ".list-inline>li:not(:last-child)::after {content: \"\\00b7\"; padding: 0 .5ex}\n",
       "</style>\n",
       "<ol class=list-inline><li>'Ревельские известия : газета местных интересов, литературная и политическая'</li><li>'Лифляндские губернские ведомости = Livländische Gouvernements-Zeitung'</li><li>'Эстляндские губернские ведомости'</li><li>'Лифляндские губернские ведомости'</li><li>'Эстляндские губернские ведомости = Estländische Gouvernements-Zeitung'</li><li>'Ревельское слово : ежедневная общественно-политическая газета'</li><li>'Известiя Ревельскаго совета рабочих и воинских депутатов : ежедневная газета = Tallinna Tööliste ja Sõjawäeliste Saadikute Nõukogu Teataja : päewaleht'</li><li>'Ревельский городской листок : газета местных интересов, политическая и литературная'</li><li>'Свободное слово солдата и матроса : политический и литературный орган'</li><li>'Livländische Gouvernements-Zeitung'</li><li>'Лифляндския губернския ведомости'</li><li>'Эстляндские губернские ведомости\\\\u0009'</li><li>'Звезда'</li><li>'Курорт Пернов : [общественно-политическая газета]'</li><li>'Утро правды : орган Ревельского комитета Р.С.-Д.Р.П.'</li><li>'Наше слово : ежедн. общественно-политическая газета'</li></ol>\n"
      ],
      "text/latex": [
       "\\begin{enumerate*}\n",
       "\\item 'Ревельские известия : газета местных интересов, литературная и политическая'\n",
       "\\item 'Лифляндские губернские ведомости = Livländische Gouvernements-Zeitung'\n",
       "\\item 'Эстляндские губернские ведомости'\n",
       "\\item 'Лифляндские губернские ведомости'\n",
       "\\item 'Эстляндские губернские ведомости = Estländische Gouvernements-Zeitung'\n",
       "\\item 'Ревельское слово : ежедневная общественно-политическая газета'\n",
       "\\item 'Известiя Ревельскаго совета рабочих и воинских депутатов : ежедневная газета = Tallinna Tööliste ja Sõjawäeliste Saadikute Nõukogu Teataja : päewaleht'\n",
       "\\item 'Ревельский городской листок : газета местных интересов, политическая и литературная'\n",
       "\\item 'Свободное слово солдата и матроса : политический и литературный орган'\n",
       "\\item 'Livländische Gouvernements-Zeitung'\n",
       "\\item 'Лифляндския губернския ведомости'\n",
       "\\item 'Эстляндские губернские ведомости\\textbackslash{}\\textbackslash{}u0009'\n",
       "\\item 'Звезда'\n",
       "\\item 'Курорт Пернов : {[}общественно-политическая газета{]}'\n",
       "\\item 'Утро правды : орган Ревельского комитета Р.С.-Д.Р.П.'\n",
       "\\item 'Наше слово : ежедн. общественно-политическая газета'\n",
       "\\end{enumerate*}\n"
      ],
      "text/markdown": [
       "1. 'Ревельские известия : газета местных интересов, литературная и политическая'\n",
       "2. 'Лифляндские губернские ведомости = Livländische Gouvernements-Zeitung'\n",
       "3. 'Эстляндские губернские ведомости'\n",
       "4. 'Лифляндские губернские ведомости'\n",
       "5. 'Эстляндские губернские ведомости = Estländische Gouvernements-Zeitung'\n",
       "6. 'Ревельское слово : ежедневная общественно-политическая газета'\n",
       "7. 'Известiя Ревельскаго совета рабочих и воинских депутатов : ежедневная газета = Tallinna Tööliste ja Sõjawäeliste Saadikute Nõukogu Teataja : päewaleht'\n",
       "8. 'Ревельский городской листок : газета местных интересов, политическая и литературная'\n",
       "9. 'Свободное слово солдата и матроса : политический и литературный орган'\n",
       "10. 'Livländische Gouvernements-Zeitung'\n",
       "11. 'Лифляндския губернския ведомости'\n",
       "12. 'Эстляндские губернские ведомости\\\\u0009'\n",
       "13. 'Звезда'\n",
       "14. 'Курорт Пернов : [общественно-политическая газета]'\n",
       "15. 'Утро правды : орган Ревельского комитета Р.С.-Д.Р.П.'\n",
       "16. 'Наше слово : ежедн. общественно-политическая газета'\n",
       "\n",
       "\n"
      ],
      "text/plain": [
       " [1] \"Ревельские известия : газета местных интересов, литературная и политическая\"                                                                           \n",
       " [2] \"Лифляндские губернские ведомости = Livländische Gouvernements-Zeitung\"                                                                                 \n",
       " [3] \"Эстляндские губернские ведомости\"                                                                                                                      \n",
       " [4] \"Лифляндские губернские ведомости\"                                                                                                                      \n",
       " [5] \"Эстляндские губернские ведомости = Estländische Gouvernements-Zeitung\"                                                                                 \n",
       " [6] \"Ревельское слово : ежедневная общественно-политическая газета\"                                                                                         \n",
       " [7] \"Известiя Ревельскаго совета рабочих и воинских депутатов : ежедневная газета = Tallinna Tööliste ja Sõjawäeliste Saadikute Nõukogu Teataja : päewaleht\"\n",
       " [8] \"Ревельский городской листок : газета местных интересов, политическая и литературная\"                                                                   \n",
       " [9] \"Свободное слово солдата и матроса : политический и литературный орган\"                                                                                 \n",
       "[10] \"Livländische Gouvernements-Zeitung\"                                                                                                                    \n",
       "[11] \"Лифляндския губернския ведомости\"                                                                                                                      \n",
       "[12] \"Эстляндские губернские ведомости\\\\u0009\"                                                                                                               \n",
       "[13] \"Звезда\"                                                                                                                                                \n",
       "[14] \"Курорт Пернов : [общественно-политическая газета]\"                                                                                                     \n",
       "[15] \"Утро правды : орган Ревельского комитета Р.С.-Д.Р.П.\"                                                                                                  \n",
       "[16] \"Наше слово : ежедн. общественно-политическая газета\"                                                                                                   "
      ]
     },
     "metadata": {},
     "output_type": "display_data"
    }
   ],
   "source": [
    "np_titles <- newspapers %>% filter(n > 100) %>% ungroup() %>% select(title) %>% distinct()\n",
    "np_titles <- as.vector(np_titles$title)\n",
    "np_titles"
   ]
  },
  {
   "cell_type": "code",
   "execution_count": 8,
   "id": "bf6d4b18",
   "metadata": {},
   "outputs": [],
   "source": [
    "np_selected <- rus_subset %>% filter(title %in% np_titles) %>% \n",
    "    select(docid, PageID, text,\n",
    "         PageOCRAccuracy, PageTitle, MeanOCRAccuracyVol, PageViewURL, PageTextWordCount,\n",
    "         date.x, year.x, decade.x, DocumentTitle, firstyear, lastyear, title, \n",
    "         country, place)\n",
    "\n",
    "np_selected <- np_selected %>% \n",
    "    mutate(id = ifelse(str_detect(title, \"Эстляндские губернские ведомости\"), \"EstGoubVed\", title)) %>%\n",
    "    mutate(id = ifelse(str_detect(\n",
    "        title, \"Livländische Gouvernements-Zeitung|Лифляндские губернские ведомости|Лифляндския губернския ведомости\"), \n",
    "                       \"LivGoubVed\", id)) %>% \n",
    "    mutate(id_dec = paste0(id, \"___\", decade.x))"
   ]
  },
  {
   "cell_type": "code",
   "execution_count": 9,
   "id": "0fba96e3",
   "metadata": {},
   "outputs": [
    {
     "name": "stdout",
     "output_type": "stream",
     "text": [
      "'data.frame':\t74047 obs. of  19 variables:\n",
      " $ docid             : chr  \"ekmteataja18530112\" \"ekmteataja18530112\" \"ekmteataja18530119\" \"ekmteataja18530119\" ...\n",
      " $ PageID            : chr  \"ekmteataja18530112.1.7\" \"ekmteataja18530112.1.9\" \"ekmteataja18530119.1.15\" \"ekmteataja18530119.1.16\" ...\n",
      " $ text              : chr  \"благо даровать Имъ, въ ознаменование происхождения Ихъ отъ Незабвен на го Родоначальника Дома НАШЕГО, наименова\"| __truncated__ \"лужской Губернш *), на счетъ прннадлежащихъ дворянству суммъ, но если къ этому встретится затруднение, въ таком\"| __truncated__ \"распространять практически-полезныя въ этомъ отношен in свЪдЪшя; указывать, съ надлежащею разборчивостно, на ис\"| __truncated__ \"къ Ея нуждамъ и «особенностям?», словомъ, чтобы сделать Землед&amp;дьческую Газету истинно Русскою, редакщя при\"| __truncated__ ...\n",
      " $ PageOCRAccuracy   : chr  \"73.5%\" \"63.6%\" \"65%\" \"65.3%\" ...\n",
      " $ PageTitle         : chr  \"Page 2\" \"Page 4\" \"Page 4\" \"Page 5\" ...\n",
      " $ MeanOCRAccuracyVol: num  76.7 76.7 76.9 76.9 76.9 78 78 78 78.4 78.4 ...\n",
      " $ PageViewURL       : chr  \"/cgi-bin/dea?a=d&d=ekmteataja18530112.1.7\" \"/cgi-bin/dea?a=d&d=ekmteataja18530112.1.9\" \"/cgi-bin/dea?a=d&d=ekmteataja18530119.1.15\" \"/cgi-bin/dea?a=d&d=ekmteataja18530119.1.16\" ...\n",
      " $ PageTextWordCount : int  596 533 558 582 509 546 618 609 608 477 ...\n",
      " $ date.x            : chr  \"1853-01-12\" \"1853-01-12\" \"1853-01-19\" \"1853-01-19\" ...\n",
      " $ year.x            : int  1853 1853 1853 1853 1853 1853 1853 1853 1853 1853 ...\n",
      " $ decade.x          : int  1850 1850 1850 1850 1850 1850 1850 1850 1850 1850 ...\n",
      " $ DocumentTitle     : chr  \"Эстляндские губернские ведомости = Estländische Gouvernements-Zeitung\" \"Эстляндские губернские ведомости = Estländische Gouvernements-Zeitung\" \"Эстляндские губернские ведомости = Estländische Gouvernements-Zeitung\" \"Эстляндские губернские ведомости = Estländische Gouvernements-Zeitung\" ...\n",
      " $ firstyear         : int  1853 1853 1853 1853 1853 1853 1853 1853 1853 1853 ...\n",
      " $ lastyear          : int  1917 1917 1917 1917 1917 1917 1917 1917 1917 1917 ...\n",
      " $ title             : chr  \"Эстляндские губернские ведомости = Estländische Gouvernements-Zeitung\" \"Эстляндские губернские ведомости = Estländische Gouvernements-Zeitung\" \"Эстляндские губернские ведомости = Estländische Gouvernements-Zeitung\" \"Эстляндские губернские ведомости = Estländische Gouvernements-Zeitung\" ...\n",
      " $ country           : chr  \"Estonia\" \"Estonia\" \"Estonia\" \"Estonia\" ...\n",
      " $ place             : chr  \"Ревель (1853-1917)\" \"Ревель (1853-1917)\" \"Ревель (1853-1917)\" \"Ревель (1853-1917)\" ...\n",
      " $ id                : chr  \"EstGoubVed\" \"EstGoubVed\" \"EstGoubVed\" \"EstGoubVed\" ...\n",
      " $ id_dec            : chr  \"EstGoubVed___1850\" \"EstGoubVed___1850\" \"EstGoubVed___1850\" \"EstGoubVed___1850\" ...\n"
     ]
    }
   ],
   "source": [
    "str(np_selected)"
   ]
  },
  {
   "cell_type": "code",
   "execution_count": 9,
   "id": "416350b1",
   "metadata": {},
   "outputs": [
    {
     "data": {
      "text/html": [
       "<table class=\"dataframe\">\n",
       "<caption>A data.frame: 12 × 3</caption>\n",
       "<thead>\n",
       "\t<tr><th scope=col>id</th><th scope=col>firstyear</th><th scope=col>lastyear</th></tr>\n",
       "\t<tr><th scope=col>&lt;chr&gt;</th><th scope=col>&lt;int&gt;</th><th scope=col>&lt;int&gt;</th></tr>\n",
       "</thead>\n",
       "<tbody>\n",
       "\t<tr><td>EstGoubVed                                                                                                                                            </td><td>1853</td><td>1917</td></tr>\n",
       "\t<tr><td>Курорт Пернов : [общественно-политическая газета]                                                                                                     </td><td>1911</td><td>1911</td></tr>\n",
       "\t<tr><td>LivGoubVed                                                                                                                                            </td><td>1852</td><td>1913</td></tr>\n",
       "\t<tr><td>EstGoubVed                                                                                                                                            </td><td>1852</td><td>1913</td></tr>\n",
       "\t<tr><td>Наше слово : ежедн. общественно-политическая газета                                                                                                   </td><td>1917</td><td>1917</td></tr>\n",
       "\t<tr><td>Ревельские известия : газета местных интересов, литературная и политическая                                                                           </td><td>1893</td><td>1917</td></tr>\n",
       "\t<tr><td>Ревельский городской листок : газета местных интересов, политическая и литературная                                                                   </td><td>1891</td><td>1892</td></tr>\n",
       "\t<tr><td>Ревельское слово : ежедневная общественно-политическая газета                                                                                         </td><td>1916</td><td>1919</td></tr>\n",
       "\t<tr><td>Свободное слово солдата и матроса : политический и литературный орган                                                                                 </td><td>1917</td><td>1918</td></tr>\n",
       "\t<tr><td>Известiя Ревельскаго совета рабочих и воинских депутатов : ежедневная газета = Tallinna Tööliste ja Sõjawäeliste Saadikute Nõukogu Teataja : päewaleht</td><td>1917</td><td>1918</td></tr>\n",
       "\t<tr><td>Звезда                                                                                                                                                </td><td>1917</td><td>1918</td></tr>\n",
       "\t<tr><td>Утро правды : орган Ревельского комитета Р.С.-Д.Р.П.                                                                                                  </td><td>1917</td><td>1918</td></tr>\n",
       "</tbody>\n",
       "</table>\n"
      ],
      "text/latex": [
       "A data.frame: 12 × 3\n",
       "\\begin{tabular}{lll}\n",
       " id & firstyear & lastyear\\\\\n",
       " <chr> & <int> & <int>\\\\\n",
       "\\hline\n",
       "\t EstGoubVed                                                                                                                                             & 1853 & 1917\\\\\n",
       "\t Курорт Пернов : {[}общественно-политическая газета{]}                                                                                                      & 1911 & 1911\\\\\n",
       "\t LivGoubVed                                                                                                                                             & 1852 & 1913\\\\\n",
       "\t EstGoubVed                                                                                                                                             & 1852 & 1913\\\\\n",
       "\t Наше слово : ежедн. общественно-политическая газета                                                                                                    & 1917 & 1917\\\\\n",
       "\t Ревельские известия : газета местных интересов, литературная и политическая                                                                            & 1893 & 1917\\\\\n",
       "\t Ревельский городской листок : газета местных интересов, политическая и литературная                                                                    & 1891 & 1892\\\\\n",
       "\t Ревельское слово : ежедневная общественно-политическая газета                                                                                          & 1916 & 1919\\\\\n",
       "\t Свободное слово солдата и матроса : политический и литературный орган                                                                                  & 1917 & 1918\\\\\n",
       "\t Известiя Ревельскаго совета рабочих и воинских депутатов : ежедневная газета = Tallinna Tööliste ja Sõjawäeliste Saadikute Nõukogu Teataja : päewaleht & 1917 & 1918\\\\\n",
       "\t Звезда                                                                                                                                                 & 1917 & 1918\\\\\n",
       "\t Утро правды : орган Ревельского комитета Р.С.-Д.Р.П.                                                                                                   & 1917 & 1918\\\\\n",
       "\\end{tabular}\n"
      ],
      "text/markdown": [
       "\n",
       "A data.frame: 12 × 3\n",
       "\n",
       "| id &lt;chr&gt; | firstyear &lt;int&gt; | lastyear &lt;int&gt; |\n",
       "|---|---|---|\n",
       "| EstGoubVed                                                                                                                                             | 1853 | 1917 |\n",
       "| Курорт Пернов : [общественно-политическая газета]                                                                                                      | 1911 | 1911 |\n",
       "| LivGoubVed                                                                                                                                             | 1852 | 1913 |\n",
       "| EstGoubVed                                                                                                                                             | 1852 | 1913 |\n",
       "| Наше слово : ежедн. общественно-политическая газета                                                                                                    | 1917 | 1917 |\n",
       "| Ревельские известия : газета местных интересов, литературная и политическая                                                                            | 1893 | 1917 |\n",
       "| Ревельский городской листок : газета местных интересов, политическая и литературная                                                                    | 1891 | 1892 |\n",
       "| Ревельское слово : ежедневная общественно-политическая газета                                                                                          | 1916 | 1919 |\n",
       "| Свободное слово солдата и матроса : политический и литературный орган                                                                                  | 1917 | 1918 |\n",
       "| Известiя Ревельскаго совета рабочих и воинских депутатов : ежедневная газета = Tallinna Tööliste ja Sõjawäeliste Saadikute Nõukogu Teataja : päewaleht | 1917 | 1918 |\n",
       "| Звезда                                                                                                                                                 | 1917 | 1918 |\n",
       "| Утро правды : орган Ревельского комитета Р.С.-Д.Р.П.                                                                                                   | 1917 | 1918 |\n",
       "\n"
      ],
      "text/plain": [
       "   id                                                                                                                                                    \n",
       "1  EstGoubVed                                                                                                                                            \n",
       "2  Курорт Пернов : [общественно-политическая газета]                                                                                                     \n",
       "3  LivGoubVed                                                                                                                                            \n",
       "4  EstGoubVed                                                                                                                                            \n",
       "5  Наше слово : ежедн. общественно-политическая газета                                                                                                   \n",
       "6  Ревельские известия : газета местных интересов, литературная и политическая                                                                           \n",
       "7  Ревельский городской листок : газета местных интересов, политическая и литературная                                                                   \n",
       "8  Ревельское слово : ежедневная общественно-политическая газета                                                                                         \n",
       "9  Свободное слово солдата и матроса : политический и литературный орган                                                                                 \n",
       "10 Известiя Ревельскаго совета рабочих и воинских депутатов : ежедневная газета = Tallinna Tööliste ja Sõjawäeliste Saadikute Nõukogu Teataja : päewaleht\n",
       "11 Звезда                                                                                                                                                \n",
       "12 Утро правды : орган Ревельского комитета Р.С.-Д.Р.П.                                                                                                  \n",
       "   firstyear lastyear\n",
       "1  1853      1917    \n",
       "2  1911      1911    \n",
       "3  1852      1913    \n",
       "4  1852      1913    \n",
       "5  1917      1917    \n",
       "6  1893      1917    \n",
       "7  1891      1892    \n",
       "8  1916      1919    \n",
       "9  1917      1918    \n",
       "10 1917      1918    \n",
       "11 1917      1918    \n",
       "12 1917      1918    "
      ]
     },
     "metadata": {},
     "output_type": "display_data"
    }
   ],
   "source": [
    "np_selected %>% \n",
    "    select(id, firstyear, lastyear) %>% \n",
    "    distinct()"
   ]
  },
  {
   "cell_type": "code",
   "execution_count": 19,
   "id": "8d3ce6a0",
   "metadata": {},
   "outputs": [],
   "source": [
    "estved <- np_selected %>% filter(id == \"EstGoubVed\")\n",
    "livved <- np_selected %>% filter(id == \"LivGoubVed\")"
   ]
  },
  {
   "cell_type": "code",
   "execution_count": 8,
   "id": "371046e6",
   "metadata": {},
   "outputs": [],
   "source": [
    "# leave ids as year and month for further grouping\n",
    "\n",
    "#estved <- estved %>% \n",
    "#    mutate(month_id = str_remove_all(docid, \"\\\\d{2}$\"))\n",
    "\n",
    "#livved <- livved %>% \n",
    "#    mutate(month_id = str_remove_all(docid, \"\\\\d{2}$\"))"
   ]
  },
  {
   "cell_type": "code",
   "execution_count": 12,
   "id": "3ece6c89",
   "metadata": {},
   "outputs": [
    {
     "name": "stdout",
     "output_type": "stream",
     "text": [
      "'data.frame':\t17360 obs. of  19 variables:\n",
      " $ docid             : chr  \"ekmteataja18530112\" \"ekmteataja18530112\" \"ekmteataja18530119\" \"ekmteataja18530119\" ...\n",
      " $ PageID            : chr  \"ekmteataja18530112.1.7\" \"ekmteataja18530112.1.9\" \"ekmteataja18530119.1.15\" \"ekmteataja18530119.1.16\" ...\n",
      " $ text              : chr  \"благо даровать Имъ, въ ознаменование происхождения Ихъ отъ Незабвен на го Родоначальника Дома НАШЕГО, наименова\"| __truncated__ \"лужской Губернш *), на счетъ прннадлежащихъ дворянству суммъ, но если къ этому встретится затруднение, въ таком\"| __truncated__ \"распространять практически-полезныя въ этомъ отношен in свЪдЪшя; указывать, съ надлежащею разборчивостно, на ис\"| __truncated__ \"къ Ея нуждамъ и «особенностям?», словомъ, чтобы сделать Землед&amp;дьческую Газету истинно Русскою, редакщя при\"| __truncated__ ...\n",
      " $ PageOCRAccuracy   : chr  \"73.5%\" \"63.6%\" \"65%\" \"65.3%\" ...\n",
      " $ PageTitle         : chr  \"Page 2\" \"Page 4\" \"Page 4\" \"Page 5\" ...\n",
      " $ MeanOCRAccuracyVol: num  76.7 76.7 76.9 76.9 76.9 78 78 78 78.4 78.4 ...\n",
      " $ PageViewURL       : chr  \"/cgi-bin/dea?a=d&d=ekmteataja18530112.1.7\" \"/cgi-bin/dea?a=d&d=ekmteataja18530112.1.9\" \"/cgi-bin/dea?a=d&d=ekmteataja18530119.1.15\" \"/cgi-bin/dea?a=d&d=ekmteataja18530119.1.16\" ...\n",
      " $ PageTextWordCount : int  596 533 558 582 509 546 618 609 608 477 ...\n",
      " $ date.x            : chr  \"1853-01-12\" \"1853-01-12\" \"1853-01-19\" \"1853-01-19\" ...\n",
      " $ year.x            : int  1853 1853 1853 1853 1853 1853 1853 1853 1853 1853 ...\n",
      " $ decade.x          : int  1850 1850 1850 1850 1850 1850 1850 1850 1850 1850 ...\n",
      " $ DocumentTitle     : chr  \"Эстляндские губернские ведомости = Estländische Gouvernements-Zeitung\" \"Эстляндские губернские ведомости = Estländische Gouvernements-Zeitung\" \"Эстляндские губернские ведомости = Estländische Gouvernements-Zeitung\" \"Эстляндские губернские ведомости = Estländische Gouvernements-Zeitung\" ...\n",
      " $ firstyear         : int  1853 1853 1853 1853 1853 1853 1853 1853 1853 1853 ...\n",
      " $ lastyear          : int  1917 1917 1917 1917 1917 1917 1917 1917 1917 1917 ...\n",
      " $ title             : chr  \"Эстляндские губернские ведомости = Estländische Gouvernements-Zeitung\" \"Эстляндские губернские ведомости = Estländische Gouvernements-Zeitung\" \"Эстляндские губернские ведомости = Estländische Gouvernements-Zeitung\" \"Эстляндские губернские ведомости = Estländische Gouvernements-Zeitung\" ...\n",
      " $ country           : chr  \"Estonia\" \"Estonia\" \"Estonia\" \"Estonia\" ...\n",
      " $ place             : chr  \"Ревель (1853-1917)\" \"Ревель (1853-1917)\" \"Ревель (1853-1917)\" \"Ревель (1853-1917)\" ...\n",
      " $ id                : chr  \"EstGoubVed\" \"EstGoubVed\" \"EstGoubVed\" \"EstGoubVed\" ...\n",
      " $ id_dec            : chr  \"EstGoubVed___1850\" \"EstGoubVed___1850\" \"EstGoubVed___1850\" \"EstGoubVed___1850\" ...\n"
     ]
    },
    {
     "data": {
      "image/png": "[encoded data removed]",
      "text/plain": [
       "plot without title"
      ]
     },
     "metadata": {
      "image/png": {
       "height": 420,
       "width": 420
      }
     },
     "output_type": "display_data"
    }
   ],
   "source": [
    "str(estved)\n",
    "\n",
    "estved %>% group_by(year.x) %>% summarise(pages = sum(PageTextWordCount)) %>% \n",
    "    ggplot(aes(x = year.x, y = pages)) + geom_col()"
   ]
  },
  {
   "cell_type": "code",
   "execution_count": 28,
   "id": "6bc45617",
   "metadata": {},
   "outputs": [
    {
     "name": "stdout",
     "output_type": "stream",
     "text": [
      "'data.frame':\t27242 obs. of  19 variables:\n",
      " $ docid             : chr  \"livzeitung18521101\" \"livzeitung18521108\" \"livzeitung18521108\" \"livzeitung18521112\" ...\n",
      " $ PageID            : chr  \"livzeitung18521101.1.1\" \"livzeitung18521108.1.1\" \"livzeitung18521108.1.2\" \"livzeitung18521112.1.3\" ...\n",
      " $ text              : chr  \"Лифляндские Губернские Ведомости  Издаются по Середамъ и Субботалъ. ЦЬна за годъ безъ пересылки 3 руб., съ пере\"| __truncated__ \"Лифляндские Губернские Ведомости  Издаются по Ссредам'Ь и Субботамъ. ЦЬна за годъ безъ пересылки 3 руб., съ пер\"| __truncated__ \"ПРИМЕЧАНИЕ.  I. Уsзды изобильнЬшше хлl;бомъ и «руражемъ суть? Дёрцтскш, ФеллрисйШ, Валкскш и Эзельскш; посредст\"| __truncated__ \"Коллепю для торговъ въ назначенные сроки 2., 4. и 6. Декабря сего года въ 11 часовъ до полудни, но предваритель\"| __truncated__ ...\n",
      " $ PageOCRAccuracy   : chr  \"66%\" \"65.4%\" \"58.5%\" \"61.5%\" ...\n",
      " $ PageTitle         : chr  \"Page 1\" \"Page 1\" \"Page 2\" \"Page 3\" ...\n",
      " $ MeanOCRAccuracyVol: num  74.6 71.1 71.1 76 73.4 74.7 73.2 73.2 73.2 73.9 ...\n",
      " $ PageViewURL       : chr  \"/cgi-bin/dea?a=d&d=livzeitung18521101.1.1\" \"/cgi-bin/dea?a=d&d=livzeitung18521108.1.1\" \"/cgi-bin/dea?a=d&d=livzeitung18521108.1.2\" \"/cgi-bin/dea?a=d&d=livzeitung18521112.1.3\" ...\n",
      " $ PageTextWordCount : int  314 612 427 358 508 615 703 716 646 541 ...\n",
      " $ date.x            : chr  \"1852-11-01\" \"1852-11-08\" \"1852-11-08\" \"1852-11-12\" ...\n",
      " $ year.x            : int  1852 1852 1852 1852 1852 1853 1853 1853 1853 1853 ...\n",
      " $ decade.x          : int  1850 1850 1850 1850 1850 1850 1850 1850 1850 1850 ...\n",
      " $ DocumentTitle     : chr  \"Лифляндские губернские ведомости = Livländische Gouvernements-Zeitung\" \"Лифляндские губернские ведомости = Livländische Gouvernements-Zeitung\" \"Лифляндские губернские ведомости = Livländische Gouvernements-Zeitung\" \"Лифляндские губернские ведомости = Livländische Gouvernements-Zeitung\" ...\n",
      " $ firstyear         : int  1852 1852 1852 1852 1852 1852 1852 1852 1852 1852 ...\n",
      " $ lastyear          : int  1913 1913 1913 1913 1913 1913 1913 1913 1913 1913 ...\n",
      " $ title             : chr  \"Лифляндские губернские ведомости = Livländische Gouvernements-Zeitung\" \"Лифляндские губернские ведомости = Livländische Gouvernements-Zeitung\" \"Лифляндские губернские ведомости = Livländische Gouvernements-Zeitung\" \"Лифляндские губернские ведомости = Livländische Gouvernements-Zeitung\" ...\n",
      " $ country           : chr  \"Latvia\" \"Latvia\" \"Latvia\" \"Latvia\" ...\n",
      " $ place             : chr  \"Рига (1852-1917)\" \"Рига (1852-1917)\" \"Рига (1852-1917)\" \"Рига (1852-1917)\" ...\n",
      " $ id                : chr  \"LivGoubVed\" \"LivGoubVed\" \"LivGoubVed\" \"LivGoubVed\" ...\n",
      " $ id_dec            : chr  \"LivGoubVed___1850\" \"LivGoubVed___1850\" \"LivGoubVed___1850\" \"LivGoubVed___1850\" ...\n"
     ]
    },
    {
     "data": {
      "image/png": "[encoded data removed]",
      "text/plain": [
       "plot without title"
      ]
     },
     "metadata": {
      "image/png": {
       "height": 420,
       "width": 420
      }
     },
     "output_type": "display_data"
    }
   ],
   "source": [
    "str(livved)\n",
    "\n",
    "livved %>% group_by(year.x) %>% count() %>% ggplot(aes(x = year.x, y = n)) + geom_col()"
   ]
  },
  {
   "cell_type": "markdown",
   "id": "89e32813",
   "metadata": {},
   "source": [
    "### Select words for newspapers of 1917-1918"
   ]
  },
  {
   "cell_type": "code",
   "execution_count": 10,
   "id": "547bba27",
   "metadata": {},
   "outputs": [
    {
     "data": {
      "text/html": [
       "<table class=\"dataframe\">\n",
       "<caption>A data.frame: 12 × 3</caption>\n",
       "<thead>\n",
       "\t<tr><th scope=col>id</th><th scope=col>firstyear</th><th scope=col>lastyear</th></tr>\n",
       "\t<tr><th scope=col>&lt;chr&gt;</th><th scope=col>&lt;int&gt;</th><th scope=col>&lt;int&gt;</th></tr>\n",
       "</thead>\n",
       "<tbody>\n",
       "\t<tr><td>EstGoubVed                                                                                                                                            </td><td>1853</td><td>1917</td></tr>\n",
       "\t<tr><td>Курорт Пернов : [общественно-политическая газета]                                                                                                     </td><td>1911</td><td>1911</td></tr>\n",
       "\t<tr><td>LivGoubVed                                                                                                                                            </td><td>1852</td><td>1913</td></tr>\n",
       "\t<tr><td>EstGoubVed                                                                                                                                            </td><td>1852</td><td>1913</td></tr>\n",
       "\t<tr><td>Наше слово : ежедн. общественно-политическая газета                                                                                                   </td><td>1917</td><td>1917</td></tr>\n",
       "\t<tr><td>Ревельские известия : газета местных интересов, литературная и политическая                                                                           </td><td>1893</td><td>1917</td></tr>\n",
       "\t<tr><td>Ревельский городской листок : газета местных интересов, политическая и литературная                                                                   </td><td>1891</td><td>1892</td></tr>\n",
       "\t<tr><td>Ревельское слово : ежедневная общественно-политическая газета                                                                                         </td><td>1916</td><td>1919</td></tr>\n",
       "\t<tr><td>Свободное слово солдата и матроса : политический и литературный орган                                                                                 </td><td>1917</td><td>1918</td></tr>\n",
       "\t<tr><td>Известiя Ревельскаго совета рабочих и воинских депутатов : ежедневная газета = Tallinna Tööliste ja Sõjawäeliste Saadikute Nõukogu Teataja : päewaleht</td><td>1917</td><td>1918</td></tr>\n",
       "\t<tr><td>Звезда                                                                                                                                                </td><td>1917</td><td>1918</td></tr>\n",
       "\t<tr><td>Утро правды : орган Ревельского комитета Р.С.-Д.Р.П.                                                                                                  </td><td>1917</td><td>1918</td></tr>\n",
       "</tbody>\n",
       "</table>\n"
      ],
      "text/latex": [
       "A data.frame: 12 × 3\n",
       "\\begin{tabular}{lll}\n",
       " id & firstyear & lastyear\\\\\n",
       " <chr> & <int> & <int>\\\\\n",
       "\\hline\n",
       "\t EstGoubVed                                                                                                                                             & 1853 & 1917\\\\\n",
       "\t Курорт Пернов : {[}общественно-политическая газета{]}                                                                                                      & 1911 & 1911\\\\\n",
       "\t LivGoubVed                                                                                                                                             & 1852 & 1913\\\\\n",
       "\t EstGoubVed                                                                                                                                             & 1852 & 1913\\\\\n",
       "\t Наше слово : ежедн. общественно-политическая газета                                                                                                    & 1917 & 1917\\\\\n",
       "\t Ревельские известия : газета местных интересов, литературная и политическая                                                                            & 1893 & 1917\\\\\n",
       "\t Ревельский городской листок : газета местных интересов, политическая и литературная                                                                    & 1891 & 1892\\\\\n",
       "\t Ревельское слово : ежедневная общественно-политическая газета                                                                                          & 1916 & 1919\\\\\n",
       "\t Свободное слово солдата и матроса : политический и литературный орган                                                                                  & 1917 & 1918\\\\\n",
       "\t Известiя Ревельскаго совета рабочих и воинских депутатов : ежедневная газета = Tallinna Tööliste ja Sõjawäeliste Saadikute Nõukogu Teataja : päewaleht & 1917 & 1918\\\\\n",
       "\t Звезда                                                                                                                                                 & 1917 & 1918\\\\\n",
       "\t Утро правды : орган Ревельского комитета Р.С.-Д.Р.П.                                                                                                   & 1917 & 1918\\\\\n",
       "\\end{tabular}\n"
      ],
      "text/markdown": [
       "\n",
       "A data.frame: 12 × 3\n",
       "\n",
       "| id &lt;chr&gt; | firstyear &lt;int&gt; | lastyear &lt;int&gt; |\n",
       "|---|---|---|\n",
       "| EstGoubVed                                                                                                                                             | 1853 | 1917 |\n",
       "| Курорт Пернов : [общественно-политическая газета]                                                                                                      | 1911 | 1911 |\n",
       "| LivGoubVed                                                                                                                                             | 1852 | 1913 |\n",
       "| EstGoubVed                                                                                                                                             | 1852 | 1913 |\n",
       "| Наше слово : ежедн. общественно-политическая газета                                                                                                    | 1917 | 1917 |\n",
       "| Ревельские известия : газета местных интересов, литературная и политическая                                                                            | 1893 | 1917 |\n",
       "| Ревельский городской листок : газета местных интересов, политическая и литературная                                                                    | 1891 | 1892 |\n",
       "| Ревельское слово : ежедневная общественно-политическая газета                                                                                          | 1916 | 1919 |\n",
       "| Свободное слово солдата и матроса : политический и литературный орган                                                                                  | 1917 | 1918 |\n",
       "| Известiя Ревельскаго совета рабочих и воинских депутатов : ежедневная газета = Tallinna Tööliste ja Sõjawäeliste Saadikute Nõukogu Teataja : päewaleht | 1917 | 1918 |\n",
       "| Звезда                                                                                                                                                 | 1917 | 1918 |\n",
       "| Утро правды : орган Ревельского комитета Р.С.-Д.Р.П.                                                                                                   | 1917 | 1918 |\n",
       "\n"
      ],
      "text/plain": [
       "   id                                                                                                                                                    \n",
       "1  EstGoubVed                                                                                                                                            \n",
       "2  Курорт Пернов : [общественно-политическая газета]                                                                                                     \n",
       "3  LivGoubVed                                                                                                                                            \n",
       "4  EstGoubVed                                                                                                                                            \n",
       "5  Наше слово : ежедн. общественно-политическая газета                                                                                                   \n",
       "6  Ревельские известия : газета местных интересов, литературная и политическая                                                                           \n",
       "7  Ревельский городской листок : газета местных интересов, политическая и литературная                                                                   \n",
       "8  Ревельское слово : ежедневная общественно-политическая газета                                                                                         \n",
       "9  Свободное слово солдата и матроса : политический и литературный орган                                                                                 \n",
       "10 Известiя Ревельскаго совета рабочих и воинских депутатов : ежедневная газета = Tallinna Tööliste ja Sõjawäeliste Saadikute Nõukogu Teataja : päewaleht\n",
       "11 Звезда                                                                                                                                                \n",
       "12 Утро правды : орган Ревельского комитета Р.С.-Д.Р.П.                                                                                                  \n",
       "   firstyear lastyear\n",
       "1  1853      1917    \n",
       "2  1911      1911    \n",
       "3  1852      1913    \n",
       "4  1852      1913    \n",
       "5  1917      1917    \n",
       "6  1893      1917    \n",
       "7  1891      1892    \n",
       "8  1916      1919    \n",
       "9  1917      1918    \n",
       "10 1917      1918    \n",
       "11 1917      1918    \n",
       "12 1917      1918    "
      ]
     },
     "metadata": {},
     "output_type": "display_data"
    }
   ],
   "source": [
    "np_selected %>% \n",
    "    select(id, firstyear, lastyear) %>% \n",
    "    distinct()"
   ]
  },
  {
   "cell_type": "code",
   "execution_count": 11,
   "id": "6e90686a",
   "metadata": {},
   "outputs": [
    {
     "name": "stdout",
     "output_type": "stream",
     "text": [
      "'data.frame':\t3234 obs. of  19 variables:\n",
      " $ docid             : chr  \"ekmteataja19170112\" \"ekmteataja19170105\" \"ekmteataja19170105\" \"ekmteataja19170105\" ...\n",
      " $ PageID            : chr  \"ekmteataja19170112.1.17\" \"ekmteataja19170105.1.1\" \"ekmteataja19170105.1.2\" \"ekmteataja19170105.1.3\" ...\n",
      " $ text              : chr  \"и укрепленная на принадлежащемъ просителю крестьянском-!» участий Келлемедди подъ креп. № 129 имешя Фридрихсгоф\"| __truncated__ \"Эстляндские губернские ведомости  MM H ' JMs 1.  ЧСТВСРП», 5 ЯНВАРЯ 1917 г.  Jfit  ЧЕТВЕРГЪ, 5 ЯНВАРЯ 1917 г.  \"| __truncated__ \"Особое прибавление къ № 1 „Эстл. Губ. Вед.\\\"\\\" отъ 5 января 1917 г  ОБЯЗАТЕЛЬНОЕ ПОСТАНОВЛЕНИЕ  На основанш пр \"| __truncated__ \"мися сторонами должны быть соблюдаемы правила, изложенныя въ статьяхъ z— 12 отдела i настоящаго постановлены. В\"| __truncated__ ...\n",
      " $ PageOCRAccuracy   : chr  \"58.1%\" \"64.4%\" \"63.6%\" \"60.1%\" ...\n",
      " $ PageTitle         : chr  \"Page 8\" \"Page 1\" \"Page 1\" \"Page 2\" ...\n",
      " $ MeanOCRAccuracyVol: num  47.8 62 62 62 62 62 62 62 47.8 47.8 ...\n",
      " $ PageViewURL       : chr  \"/cgi-bin/dea?a=d&d=ekmteataja19170112.1.17\" \"/cgi-bin/dea?a=d&d=ekmteataja19170105.1.1\" \"/cgi-bin/dea?a=d&d=ekmteataja19170105.1.2\" \"/cgi-bin/dea?a=d&d=ekmteataja19170105.1.3\" ...\n",
      " $ PageTextWordCount : int  1854 1139 1192 2484 482 1920 793 2149 1107 1362 ...\n",
      " $ date.x            : chr  \"1917-01-12\" \"1917-01-05\" \"1917-01-05\" \"1917-01-05\" ...\n",
      " $ year.x            : int  1917 1917 1917 1917 1917 1917 1917 1917 1917 1917 ...\n",
      " $ decade.x          : int  1910 1910 1910 1910 1910 1910 1910 1910 1910 1910 ...\n",
      " $ DocumentTitle     : chr  \"Эстляндские губернские ведомости\" \"Эстляндские губернские ведомости\" \"Эстляндские губернские ведомости\" \"Эстляндские губернские ведомости\" ...\n",
      " $ firstyear         : int  1853 1853 1853 1853 1853 1853 1853 1853 1853 1853 ...\n",
      " $ lastyear          : int  1917 1917 1917 1917 1917 1917 1917 1917 1917 1917 ...\n",
      " $ title             : chr  \"Эстляндские губернские ведомости\" \"Эстляндские губернские ведомости\" \"Эстляндские губернские ведомости\" \"Эстляндские губернские ведомости\" ...\n",
      " $ country           : chr  \"Estonia\" \"Estonia\" \"Estonia\" \"Estonia\" ...\n",
      " $ place             : chr  \"Ревель (1853-1917)\" \"Ревель (1853-1917)\" \"Ревель (1853-1917)\" \"Ревель (1853-1917)\" ...\n",
      " $ id                : chr  \"EstGoubVed\" \"EstGoubVed\" \"EstGoubVed\" \"EstGoubVed\" ...\n",
      " $ id_dec            : chr  \"EstGoubVed___1910\" \"EstGoubVed___1910\" \"EstGoubVed___1910\" \"EstGoubVed___1910\" ...\n"
     ]
    }
   ],
   "source": [
    "np_1917 <- np_selected %>% \n",
    "    filter(year.x == 1917)\n",
    "str(np_1917)"
   ]
  },
  {
   "cell_type": "code",
   "execution_count": 34,
   "id": "b69bcb8e",
   "metadata": {},
   "outputs": [
    {
     "data": {
      "text/html": [
       "<table class=\"dataframe\">\n",
       "<caption>A tibble: 12 × 2</caption>\n",
       "<thead>\n",
       "\t<tr><th scope=col>month</th><th scope=col>pages</th></tr>\n",
       "\t<tr><th scope=col>&lt;chr&gt;</th><th scope=col>&lt;int&gt;</th></tr>\n",
       "</thead>\n",
       "<tbody>\n",
       "\t<tr><td>01</td><td>509424</td></tr>\n",
       "\t<tr><td>02</td><td>470644</td></tr>\n",
       "\t<tr><td>03</td><td>486011</td></tr>\n",
       "\t<tr><td>04</td><td>614239</td></tr>\n",
       "\t<tr><td>05</td><td>693433</td></tr>\n",
       "\t<tr><td>06</td><td>736588</td></tr>\n",
       "\t<tr><td>07</td><td>622276</td></tr>\n",
       "\t<tr><td>08</td><td>611105</td></tr>\n",
       "\t<tr><td>09</td><td>574987</td></tr>\n",
       "\t<tr><td>10</td><td>497958</td></tr>\n",
       "\t<tr><td>11</td><td>560721</td></tr>\n",
       "\t<tr><td>12</td><td>534622</td></tr>\n",
       "</tbody>\n",
       "</table>\n"
      ],
      "text/latex": [
       "A tibble: 12 × 2\n",
       "\\begin{tabular}{ll}\n",
       " month & pages\\\\\n",
       " <chr> & <int>\\\\\n",
       "\\hline\n",
       "\t 01 & 509424\\\\\n",
       "\t 02 & 470644\\\\\n",
       "\t 03 & 486011\\\\\n",
       "\t 04 & 614239\\\\\n",
       "\t 05 & 693433\\\\\n",
       "\t 06 & 736588\\\\\n",
       "\t 07 & 622276\\\\\n",
       "\t 08 & 611105\\\\\n",
       "\t 09 & 574987\\\\\n",
       "\t 10 & 497958\\\\\n",
       "\t 11 & 560721\\\\\n",
       "\t 12 & 534622\\\\\n",
       "\\end{tabular}\n"
      ],
      "text/markdown": [
       "\n",
       "A tibble: 12 × 2\n",
       "\n",
       "| month &lt;chr&gt; | pages &lt;int&gt; |\n",
       "|---|---|\n",
       "| 01 | 509424 |\n",
       "| 02 | 470644 |\n",
       "| 03 | 486011 |\n",
       "| 04 | 614239 |\n",
       "| 05 | 693433 |\n",
       "| 06 | 736588 |\n",
       "| 07 | 622276 |\n",
       "| 08 | 611105 |\n",
       "| 09 | 574987 |\n",
       "| 10 | 497958 |\n",
       "| 11 | 560721 |\n",
       "| 12 | 534622 |\n",
       "\n"
      ],
      "text/plain": [
       "   month pages \n",
       "1  01    509424\n",
       "2  02    470644\n",
       "3  03    486011\n",
       "4  04    614239\n",
       "5  05    693433\n",
       "6  06    736588\n",
       "7  07    622276\n",
       "8  08    611105\n",
       "9  09    574987\n",
       "10 10    497958\n",
       "11 11    560721\n",
       "12 12    534622"
      ]
     },
     "metadata": {},
     "output_type": "display_data"
    },
    {
     "data": {
      "text/html": [
       "2137.29375386518"
      ],
      "text/latex": [
       "2137.29375386518"
      ],
      "text/markdown": [
       "2137.29375386518"
      ],
      "text/plain": [
       "[1] 2137.294"
      ]
     },
     "metadata": {},
     "output_type": "display_data"
    }
   ],
   "source": [
    "np_1917 %>% \n",
    "    separate(date.x, c(\"year\", \"month\", \"day\"), sep = \"-\") %>% \n",
    "    group_by(month) %>% \n",
    "    summarise(pages = sum(PageTextWordCount)) %>% \n",
    "    head(12)\n",
    "    #ggplot(aes(x = month, y = pages, fill = id)) + geom_col()\n",
    "\n",
    "mean(np_1917$PageTextWordCount)"
   ]
  },
  {
   "cell_type": "code",
   "execution_count": 10,
   "id": "f209b739",
   "metadata": {},
   "outputs": [
    {
     "name": "stdout",
     "output_type": "stream",
     "text": [
      "'data.frame':\t3234 obs. of  21 variables:\n",
      " $ docid             : chr  \"ekmteataja19170112\" \"ekmteataja19170105\" \"ekmteataja19170105\" \"ekmteataja19170105\" ...\n",
      " $ PageID            : chr  \"ekmteataja19170112.1.17\" \"ekmteataja19170105.1.1\" \"ekmteataja19170105.1.2\" \"ekmteataja19170105.1.3\" ...\n",
      " $ text              : chr  \"и укрепленная на принадлежащемъ просителю крестьянском-!» участий Келлемедди подъ креп. № 129 имешя Фридрихсгоф\"| __truncated__ \"Эстляндские губернские ведомости  MM H ' JMs 1.  ЧСТВСРП», 5 ЯНВАРЯ 1917 г.  Jfit  ЧЕТВЕРГЪ, 5 ЯНВАРЯ 1917 г.  \"| __truncated__ \"Особое прибавление къ № 1 „Эстл. Губ. Вед.\\\"\\\" отъ 5 января 1917 г  ОБЯЗАТЕЛЬНОЕ ПОСТАНОВЛЕНИЕ  На основанш пр \"| __truncated__ \"мися сторонами должны быть соблюдаемы правила, изложенныя въ статьяхъ z— 12 отдела i настоящаго постановлены. В\"| __truncated__ ...\n",
      " $ PageOCRAccuracy   : chr  \"58.1%\" \"64.4%\" \"63.6%\" \"60.1%\" ...\n",
      " $ PageTitle         : chr  \"Page 8\" \"Page 1\" \"Page 1\" \"Page 2\" ...\n",
      " $ MeanOCRAccuracyVol: num  47.8 62 62 62 62 62 62 62 47.8 47.8 ...\n",
      " $ PageViewURL       : chr  \"/cgi-bin/dea?a=d&d=ekmteataja19170112.1.17\" \"/cgi-bin/dea?a=d&d=ekmteataja19170105.1.1\" \"/cgi-bin/dea?a=d&d=ekmteataja19170105.1.2\" \"/cgi-bin/dea?a=d&d=ekmteataja19170105.1.3\" ...\n",
      " $ PageTextWordCount : int  1854 1139 1192 2484 482 1920 793 2149 1107 1362 ...\n",
      " $ year              : chr  \"1917\" \"1917\" \"1917\" \"1917\" ...\n",
      " $ month             : chr  \"01\" \"01\" \"01\" \"01\" ...\n",
      " $ day               : chr  \"12\" \"05\" \"05\" \"05\" ...\n",
      " $ year.x            : int  1917 1917 1917 1917 1917 1917 1917 1917 1917 1917 ...\n",
      " $ decade.x          : int  1910 1910 1910 1910 1910 1910 1910 1910 1910 1910 ...\n",
      " $ DocumentTitle     : chr  \"Эстляндские губернские ведомости\" \"Эстляндские губернские ведомости\" \"Эстляндские губернские ведомости\" \"Эстляндские губернские ведомости\" ...\n",
      " $ firstyear         : int  1853 1853 1853 1853 1853 1853 1853 1853 1853 1853 ...\n",
      " $ lastyear          : int  1917 1917 1917 1917 1917 1917 1917 1917 1917 1917 ...\n",
      " $ title             : chr  \"Эстляндские губернские ведомости\" \"Эстляндские губернские ведомости\" \"Эстляндские губернские ведомости\" \"Эстляндские губернские ведомости\" ...\n",
      " $ country           : chr  \"Estonia\" \"Estonia\" \"Estonia\" \"Estonia\" ...\n",
      " $ place             : chr  \"Ревель (1853-1917)\" \"Ревель (1853-1917)\" \"Ревель (1853-1917)\" \"Ревель (1853-1917)\" ...\n",
      " $ id                : chr  \"EstGoubVed\" \"EstGoubVed\" \"EstGoubVed\" \"EstGoubVed\" ...\n",
      " $ id_dec            : chr  \"EstGoubVed___1910\" \"EstGoubVed___1910\" \"EstGoubVed___1910\" \"EstGoubVed___1910\" ...\n"
     ]
    }
   ],
   "source": [
    "np_1917_dates <- np_1917 %>% \n",
    "    separate(date.x, c(\"year\", \"month\", \"day\"), sep = \"-\")\n",
    "\n",
    "str(np_1917_dates)"
   ]
  },
  {
   "cell_type": "code",
   "execution_count": 13,
   "id": "39155c40",
   "metadata": {},
   "outputs": [
    {
     "data": {
      "text/plain": [
       "Time difference of 6.07 mins"
      ]
     },
     "metadata": {},
     "output_type": "display_data"
    }
   ],
   "source": [
    "start_time <- Sys.time()\n",
    "tokens_1917 <- np_1917 %>%\n",
    "    unnest_tokens(input = text, outpu = word, token = \"words\") %>% \n",
    "    group_by(word, PageID) %>% \n",
    "    count(sort = T)    \n",
    "end_time <- Sys.time() \n",
    "\n",
    "time_taken <- round(end_time - start_time,2)\n",
    "time_taken"
   ]
  },
  {
   "cell_type": "code",
   "execution_count": 17,
   "id": "9ee39da2",
   "metadata": {},
   "outputs": [
    {
     "data": {
      "text/html": [
       "<table class=\"dataframe\">\n",
       "<caption>A tibble: 6 × 3</caption>\n",
       "<thead>\n",
       "\t<tr><th scope=col>word</th><th scope=col>PageID</th><th scope=col>n</th></tr>\n",
       "\t<tr><th scope=col>&lt;chr&gt;</th><th scope=col>&lt;chr&gt;</th><th scope=col>&lt;int&gt;</th></tr>\n",
       "</thead>\n",
       "<tbody>\n",
       "\t<tr><td>и </td><td>revelskojeslovo19170201.1.2</td><td>191</td></tr>\n",
       "\t<tr><td>gt</td><td>nasheslovo19171129.1.2     </td><td>189</td></tr>\n",
       "\t<tr><td>gt</td><td>nasheslovo19171123.1.3     </td><td>183</td></tr>\n",
       "\t<tr><td>и </td><td>revelskojeslovo19170722.1.2</td><td>178</td></tr>\n",
       "\t<tr><td>и </td><td>revelskojeslovo19170803.1.2</td><td>178</td></tr>\n",
       "\t<tr><td>и </td><td>revelskojeslovo19170609.1.2</td><td>169</td></tr>\n",
       "</tbody>\n",
       "</table>\n"
      ],
      "text/latex": [
       "A tibble: 6 × 3\n",
       "\\begin{tabular}{lll}\n",
       " word & PageID & n\\\\\n",
       " <chr> & <chr> & <int>\\\\\n",
       "\\hline\n",
       "\t и  & revelskojeslovo19170201.1.2 & 191\\\\\n",
       "\t gt & nasheslovo19171129.1.2      & 189\\\\\n",
       "\t gt & nasheslovo19171123.1.3      & 183\\\\\n",
       "\t и  & revelskojeslovo19170722.1.2 & 178\\\\\n",
       "\t и  & revelskojeslovo19170803.1.2 & 178\\\\\n",
       "\t и  & revelskojeslovo19170609.1.2 & 169\\\\\n",
       "\\end{tabular}\n"
      ],
      "text/markdown": [
       "\n",
       "A tibble: 6 × 3\n",
       "\n",
       "| word &lt;chr&gt; | PageID &lt;chr&gt; | n &lt;int&gt; |\n",
       "|---|---|---|\n",
       "| и  | revelskojeslovo19170201.1.2 | 191 |\n",
       "| gt | nasheslovo19171129.1.2      | 189 |\n",
       "| gt | nasheslovo19171123.1.3      | 183 |\n",
       "| и  | revelskojeslovo19170722.1.2 | 178 |\n",
       "| и  | revelskojeslovo19170803.1.2 | 178 |\n",
       "| и  | revelskojeslovo19170609.1.2 | 169 |\n",
       "\n"
      ],
      "text/plain": [
       "  word PageID                      n  \n",
       "1 и    revelskojeslovo19170201.1.2 191\n",
       "2 gt   nasheslovo19171129.1.2      189\n",
       "3 gt   nasheslovo19171123.1.3      183\n",
       "4 и    revelskojeslovo19170722.1.2 178\n",
       "5 и    revelskojeslovo19170803.1.2 178\n",
       "6 и    revelskojeslovo19170609.1.2 169"
      ]
     },
     "metadata": {},
     "output_type": "display_data"
    }
   ],
   "source": [
    "tokens_1917_top <- tokens_1917 %>% \n",
    "    ungroup() %>% \n",
    "    filter(!str_detect(word, \"^\\\\d+$|^\\\\W+$\"))\n",
    "\n",
    "head(tokens_1917_top)"
   ]
  },
  {
   "cell_type": "code",
   "execution_count": 18,
   "id": "bd4d011d",
   "metadata": {},
   "outputs": [],
   "source": [
    "write.csv(tokens_1917_top, \"mfw/MFW_1917_pageID.csv\")"
   ]
  },
  {
   "cell_type": "markdown",
   "id": "7fe8d3fd",
   "metadata": {},
   "source": [
    "#### Small check for pages detected as \"Ukrainian\""
   ]
  },
  {
   "cell_type": "code",
   "execution_count": 9,
   "id": "f27001c9",
   "metadata": {},
   "outputs": [],
   "source": [
    "ukr <- dat %>% \n",
    "    filter(lang_cln == \"ukrainian\") %>% \n",
    "    select(text) %>% \n",
    "    sample_n(10)\n",
    "\n",
    "write.csv(ukr, \"ukr_sample.csv\")"
   ]
  },
  {
   "cell_type": "code",
   "execution_count": 12,
   "id": "df629c9c",
   "metadata": {},
   "outputs": [],
   "source": [
    "t1852 <- dat %>% \n",
    "    filter(year.x == 1852) %>% \n",
    "    select(text) %>% \n",
    "    sample_n(10)\n",
    "\n",
    "write.csv(t1852, \"1852_sample.csv\")"
   ]
  }
 ],
 "metadata": {
  "kernelspec": {
   "display_name": "R 4.1.2",
   "language": "R",
   "name": "ir4-1"
  },
  "language_info": {
   "codemirror_mode": "r",
   "file_extension": ".r",
   "mimetype": "text/x-r-source",
   "name": "R",
   "pygments_lexer": "r",
   "version": "4.1.2"
  }
 },
 "nbformat": 4,
 "nbformat_minor": 5
}
