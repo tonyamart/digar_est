{
 "cells": [
  {
   "cell_type": "markdown",
   "metadata": {},
   "source": [
    "### SpacyR lemmatization & annotation"
   ]
  },
  {
   "cell_type": "code",
   "execution_count": 1,
   "metadata": {},
   "outputs": [
    {
     "name": "stderr",
     "output_type": "stream",
     "text": [
      "── \u001b[1mAttaching packages\u001b[22m ─────────────────────────────────────── tidyverse 1.3.1 ──\n",
      "\n",
      "\u001b[32m✔\u001b[39m \u001b[34mggplot2\u001b[39m 3.3.5     \u001b[32m✔\u001b[39m \u001b[34mpurrr  \u001b[39m 0.3.4\n",
      "\u001b[32m✔\u001b[39m \u001b[34mtibble \u001b[39m 3.1.6     \u001b[32m✔\u001b[39m \u001b[34mdplyr  \u001b[39m 1.0.8\n",
      "\u001b[32m✔\u001b[39m \u001b[34mtidyr  \u001b[39m 1.2.0     \u001b[32m✔\u001b[39m \u001b[34mstringr\u001b[39m 1.4.0\n",
      "\u001b[32m✔\u001b[39m \u001b[34mreadr  \u001b[39m 2.0.1     \u001b[32m✔\u001b[39m \u001b[34mforcats\u001b[39m 0.5.1\n",
      "\n",
      "── \u001b[1mConflicts\u001b[22m ────────────────────────────────────────── tidyverse_conflicts() ──\n",
      "\u001b[31m✖\u001b[39m \u001b[34mdplyr\u001b[39m::\u001b[32mfilter()\u001b[39m masks \u001b[34mstats\u001b[39m::filter()\n",
      "\u001b[31m✖\u001b[39m \u001b[34mdplyr\u001b[39m::\u001b[32mlag()\u001b[39m    masks \u001b[34mstats\u001b[39m::lag()\n",
      "\n",
      "\n",
      "Attaching package: ‘data.table’\n",
      "\n",
      "\n",
      "The following objects are masked from ‘package:dplyr’:\n",
      "\n",
      "    between, first, last\n",
      "\n",
      "\n",
      "The following object is masked from ‘package:purrr’:\n",
      "\n",
      "    transpose\n",
      "\n",
      "\n",
      "Finding a python executable with spaCy installed...\n",
      "\n",
      "spaCy (language model: ru_core_news_sm) is installed in more than one python\n",
      "\n",
      "spacyr will use /Library/Frameworks/Python.framework/Versions/3.7/bin/python3 (because ask = FALSE)\n",
      "\n",
      "successfully initialized (spaCy Version: 3.0.5, language model: ru_core_news_sm)\n",
      "\n",
      "(python options: type = \"python_executable\", value = \"/Library/Frameworks/Python.framework/Versions/3.7/bin/python3\")\n",
      "\n"
     ]
    }
   ],
   "source": [
    "library(tidyverse)\n",
    "library(data.table)\n",
    "library(spacyr)\n",
    "\n",
    "spacy_initialize(model = \"ru_core_news_sm\") # small model trained on newspapers (ideal for texts written in 2000s)"
   ]
  },
  {
   "cell_type": "code",
   "execution_count": 6,
   "metadata": {},
   "outputs": [
    {
     "name": "stderr",
     "output_type": "stream",
     "text": [
      "Warning message in spacy_parse.character(txt, lemma = T, tag = F, entity = F):\n",
      "“lemmatization may not work properly in model 'ru_core_news_lg'”\n"
     ]
    },
    {
     "data": {
      "text/html": [
       "<table class=\"dataframe\">\n",
       "<caption>A spacyr_parsed: 8 × 6</caption>\n",
       "<thead>\n",
       "\t<tr><th scope=col>doc_id</th><th scope=col>sentence_id</th><th scope=col>token_id</th><th scope=col>token</th><th scope=col>lemma</th><th scope=col>pos</th></tr>\n",
       "\t<tr><th scope=col>&lt;chr&gt;</th><th scope=col>&lt;int&gt;</th><th scope=col>&lt;int&gt;</th><th scope=col>&lt;chr&gt;</th><th scope=col>&lt;chr&gt;</th><th scope=col>&lt;chr&gt;</th></tr>\n",
       "</thead>\n",
       "<tbody>\n",
       "\t<tr><td>text1</td><td>1</td><td>1</td><td>Попробуй   </td><td>попробуй   </td><td>ADJ </td></tr>\n",
       "\t<tr><td>text1</td><td>1</td><td>2</td><td>этих       </td><td>этот       </td><td>DET </td></tr>\n",
       "\t<tr><td>text1</td><td>1</td><td>3</td><td>мягких     </td><td>мягкий     </td><td>ADJ </td></tr>\n",
       "\t<tr><td>text1</td><td>1</td><td>4</td><td>французских</td><td>французский</td><td>ADJ </td></tr>\n",
       "\t<tr><td>text1</td><td>1</td><td>5</td><td>булок      </td><td>булка      </td><td>NOUN</td></tr>\n",
       "\t<tr><td>text2</td><td>1</td><td>1</td><td>Мама       </td><td>мама       </td><td>NOUN</td></tr>\n",
       "\t<tr><td>text2</td><td>1</td><td>2</td><td>мыла       </td><td>мыть       </td><td>VERB</td></tr>\n",
       "\t<tr><td>text2</td><td>1</td><td>3</td><td>раму       </td><td>рама       </td><td>NOUN</td></tr>\n",
       "</tbody>\n",
       "</table>\n"
      ],
      "text/latex": [
       "A spacyr\\_parsed: 8 × 6\n",
       "\\begin{tabular}{llllll}\n",
       " doc\\_id & sentence\\_id & token\\_id & token & lemma & pos\\\\\n",
       " <chr> & <int> & <int> & <chr> & <chr> & <chr>\\\\\n",
       "\\hline\n",
       "\t text1 & 1 & 1 & Попробуй    & попробуй    & ADJ \\\\\n",
       "\t text1 & 1 & 2 & этих        & этот        & DET \\\\\n",
       "\t text1 & 1 & 3 & мягких      & мягкий      & ADJ \\\\\n",
       "\t text1 & 1 & 4 & французских & французский & ADJ \\\\\n",
       "\t text1 & 1 & 5 & булок       & булка       & NOUN\\\\\n",
       "\t text2 & 1 & 1 & Мама        & мама        & NOUN\\\\\n",
       "\t text2 & 1 & 2 & мыла        & мыть        & VERB\\\\\n",
       "\t text2 & 1 & 3 & раму        & рама        & NOUN\\\\\n",
       "\\end{tabular}\n"
      ],
      "text/markdown": [
       "\n",
       "A spacyr_parsed: 8 × 6\n",
       "\n",
       "| doc_id &lt;chr&gt; | sentence_id &lt;int&gt; | token_id &lt;int&gt; | token &lt;chr&gt; | lemma &lt;chr&gt; | pos &lt;chr&gt; |\n",
       "|---|---|---|---|---|---|\n",
       "| text1 | 1 | 1 | Попробуй    | попробуй    | ADJ  |\n",
       "| text1 | 1 | 2 | этих        | этот        | DET  |\n",
       "| text1 | 1 | 3 | мягких      | мягкий      | ADJ  |\n",
       "| text1 | 1 | 4 | французских | французский | ADJ  |\n",
       "| text1 | 1 | 5 | булок       | булка       | NOUN |\n",
       "| text2 | 1 | 1 | Мама        | мама        | NOUN |\n",
       "| text2 | 1 | 2 | мыла        | мыть        | VERB |\n",
       "| text2 | 1 | 3 | раму        | рама        | NOUN |\n",
       "\n"
      ],
      "text/plain": [
       "  doc_id sentence_id token_id token       lemma       pos \n",
       "1 text1  1           1        Попробуй    попробуй    ADJ \n",
       "2 text1  1           2        этих        этот        DET \n",
       "3 text1  1           3        мягких      мягкий      ADJ \n",
       "4 text1  1           4        французских французский ADJ \n",
       "5 text1  1           5        булок       булка       NOUN\n",
       "6 text2  1           1        Мама        мама        NOUN\n",
       "7 text2  1           2        мыла        мыть        VERB\n",
       "8 text2  1           3        раму        рама        NOUN"
      ]
     },
     "metadata": {},
     "output_type": "display_data"
    }
   ],
   "source": [
    "# toy example with two strings\n",
    "txt <- c(\"Попробуй этих мягких французских булок\",\n",
    "        \"Мама мыла раму\")\n",
    "\n",
    "parsed <- spacy_parse(txt, lemma = T, tag = F, entity = F)\n",
    "parsed\n",
    "# output is a tidy table"
   ]
  },
  {
   "cell_type": "code",
   "execution_count": 2,
   "metadata": {},
   "outputs": [
    {
     "data": {
      "text/html": [
       "<table class=\"dataframe\">\n",
       "<caption>A tibble: 2 × 2</caption>\n",
       "<thead>\n",
       "\t<tr><th scope=col>id</th><th scope=col>text</th></tr>\n",
       "\t<tr><th scope=col>&lt;dbl&gt;</th><th scope=col>&lt;chr&gt;</th></tr>\n",
       "</thead>\n",
       "<tbody>\n",
       "\t<tr><td>100</td><td>Попробуй этих мягких французских булок</td></tr>\n",
       "\t<tr><td>200</td><td>Мама мыла раму                        </td></tr>\n",
       "</tbody>\n",
       "</table>\n"
      ],
      "text/latex": [
       "A tibble: 2 × 2\n",
       "\\begin{tabular}{ll}\n",
       " id & text\\\\\n",
       " <dbl> & <chr>\\\\\n",
       "\\hline\n",
       "\t 100 & Попробуй этих мягких французских булок\\\\\n",
       "\t 200 & Мама мыла раму                        \\\\\n",
       "\\end{tabular}\n"
      ],
      "text/markdown": [
       "\n",
       "A tibble: 2 × 2\n",
       "\n",
       "| id &lt;dbl&gt; | text &lt;chr&gt; |\n",
       "|---|---|\n",
       "| 100 | Попробуй этих мягких французских булок |\n",
       "| 200 | Мама мыла раму                         |\n",
       "\n"
      ],
      "text/plain": [
       "  id  text                                  \n",
       "1 100 Попробуй этих мягких французских булок\n",
       "2 200 Мама мыла раму                        "
      ]
     },
     "metadata": {},
     "output_type": "display_data"
    }
   ],
   "source": [
    "t <- tibble(id = c(100,200),\n",
    "    text = c(\"Попробуй этих мягких французских булок\",\n",
    "        \"Мама мыла раму\"))\n",
    "t # same with texts in tibble"
   ]
  },
  {
   "cell_type": "code",
   "execution_count": 3,
   "metadata": {},
   "outputs": [
    {
     "name": "stderr",
     "output_type": "stream",
     "text": [
      "Warning message in spacy_parse.character(X[[i]], ...):\n",
      "“lemmatization may not work properly in model 'ru_core_news_sm'”\n",
      "Warning message in spacy_parse.character(X[[i]], ...):\n",
      "“lemmatization may not work properly in model 'ru_core_news_sm'”\n"
     ]
    },
    {
     "data": {
      "text/html": [
       "<table class=\"dataframe\">\n",
       "<caption>A data.table: 8 × 8</caption>\n",
       "<thead>\n",
       "\t<tr><th scope=col>.id</th><th scope=col>doc_id</th><th scope=col>sentence_id</th><th scope=col>token_id</th><th scope=col>token</th><th scope=col>lemma</th><th scope=col>pos</th><th scope=col>entity</th></tr>\n",
       "\t<tr><th scope=col>&lt;int&gt;</th><th scope=col>&lt;chr&gt;</th><th scope=col>&lt;int&gt;</th><th scope=col>&lt;int&gt;</th><th scope=col>&lt;chr&gt;</th><th scope=col>&lt;chr&gt;</th><th scope=col>&lt;chr&gt;</th><th scope=col>&lt;chr&gt;</th></tr>\n",
       "</thead>\n",
       "<tbody>\n",
       "\t<tr><td>1</td><td>text1</td><td>1</td><td>1</td><td>Попробуй   </td><td>попробуй   </td><td>NOUN</td><td></td></tr>\n",
       "\t<tr><td>1</td><td>text1</td><td>1</td><td>2</td><td>этих       </td><td>этот       </td><td>DET </td><td></td></tr>\n",
       "\t<tr><td>1</td><td>text1</td><td>1</td><td>3</td><td>мягких     </td><td>мягкий     </td><td>ADJ </td><td></td></tr>\n",
       "\t<tr><td>1</td><td>text1</td><td>1</td><td>4</td><td>французских</td><td>французский</td><td>ADJ </td><td></td></tr>\n",
       "\t<tr><td>1</td><td>text1</td><td>1</td><td>5</td><td>булок      </td><td>булка      </td><td>NOUN</td><td></td></tr>\n",
       "\t<tr><td>2</td><td>text1</td><td>1</td><td>1</td><td>Мама       </td><td>мама       </td><td>NOUN</td><td></td></tr>\n",
       "\t<tr><td>2</td><td>text1</td><td>1</td><td>2</td><td>мыла       </td><td>мыть       </td><td>VERB</td><td></td></tr>\n",
       "\t<tr><td>2</td><td>text1</td><td>1</td><td>3</td><td>раму       </td><td>рама       </td><td>NOUN</td><td></td></tr>\n",
       "</tbody>\n",
       "</table>\n"
      ],
      "text/latex": [
       "A data.table: 8 × 8\n",
       "\\begin{tabular}{llllllll}\n",
       " .id & doc\\_id & sentence\\_id & token\\_id & token & lemma & pos & entity\\\\\n",
       " <int> & <chr> & <int> & <int> & <chr> & <chr> & <chr> & <chr>\\\\\n",
       "\\hline\n",
       "\t 1 & text1 & 1 & 1 & Попробуй    & попробуй    & NOUN & \\\\\n",
       "\t 1 & text1 & 1 & 2 & этих        & этот        & DET  & \\\\\n",
       "\t 1 & text1 & 1 & 3 & мягких      & мягкий      & ADJ  & \\\\\n",
       "\t 1 & text1 & 1 & 4 & французских & французский & ADJ  & \\\\\n",
       "\t 1 & text1 & 1 & 5 & булок       & булка       & NOUN & \\\\\n",
       "\t 2 & text1 & 1 & 1 & Мама        & мама        & NOUN & \\\\\n",
       "\t 2 & text1 & 1 & 2 & мыла        & мыть        & VERB & \\\\\n",
       "\t 2 & text1 & 1 & 3 & раму        & рама        & NOUN & \\\\\n",
       "\\end{tabular}\n"
      ],
      "text/markdown": [
       "\n",
       "A data.table: 8 × 8\n",
       "\n",
       "| .id &lt;int&gt; | doc_id &lt;chr&gt; | sentence_id &lt;int&gt; | token_id &lt;int&gt; | token &lt;chr&gt; | lemma &lt;chr&gt; | pos &lt;chr&gt; | entity &lt;chr&gt; |\n",
       "|---|---|---|---|---|---|---|---|\n",
       "| 1 | text1 | 1 | 1 | Попробуй    | попробуй    | NOUN | <!----> |\n",
       "| 1 | text1 | 1 | 2 | этих        | этот        | DET  | <!----> |\n",
       "| 1 | text1 | 1 | 3 | мягких      | мягкий      | ADJ  | <!----> |\n",
       "| 1 | text1 | 1 | 4 | французских | французский | ADJ  | <!----> |\n",
       "| 1 | text1 | 1 | 5 | булок       | булка       | NOUN | <!----> |\n",
       "| 2 | text1 | 1 | 1 | Мама        | мама        | NOUN | <!----> |\n",
       "| 2 | text1 | 1 | 2 | мыла        | мыть        | VERB | <!----> |\n",
       "| 2 | text1 | 1 | 3 | раму        | рама        | NOUN | <!----> |\n",
       "\n"
      ],
      "text/plain": [
       "  .id doc_id sentence_id token_id token       lemma       pos  entity\n",
       "1 1   text1  1           1        Попробуй    попробуй    NOUN       \n",
       "2 1   text1  1           2        этих        этот        DET        \n",
       "3 1   text1  1           3        мягких      мягкий      ADJ        \n",
       "4 1   text1  1           4        французских французский ADJ        \n",
       "5 1   text1  1           5        булок       булка       NOUN       \n",
       "6 2   text1  1           1        Мама        мама        NOUN       \n",
       "7 2   text1  1           2        мыла        мыть        VERB       \n",
       "8 2   text1  1           3        раму        рама        NOUN       "
      ]
     },
     "metadata": {},
     "output_type": "display_data"
    }
   ],
   "source": [
    "# spacy_parse may be applied to a vector\n",
    "# memory issues are highly probable here (spacyr has a limit in characters)\n",
    "# otherwise lapply will give a list of tables for each vector, which can be rbind-ed (NB old id-s would be lost!!!)\n",
    "\n",
    "rbindlist(lapply(t$text, spacy_parse), idcol = T)"
   ]
  },
  {
   "cell_type": "code",
   "execution_count": null,
   "metadata": {},
   "outputs": [],
   "source": []
  }
 ],
 "metadata": {
  "kernelspec": {
   "display_name": "R",
   "language": "R",
   "name": "ir"
  },
  "language_info": {
   "codemirror_mode": "r",
   "file_extension": ".r",
   "mimetype": "text/x-r-source",
   "name": "R",
   "pygments_lexer": "r",
   "version": "4.0.5"
  }
 },
 "nbformat": 4,
 "nbformat_minor": 2
}
