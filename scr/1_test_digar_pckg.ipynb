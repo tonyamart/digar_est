{
 "cells": [
  {
   "cell_type": "code",
   "execution_count": 1,
   "id": "57b2ec64",
   "metadata": {},
   "outputs": [
    {
     "name": "stderr",
     "output_type": "stream",
     "text": [
      "Downloading GitHub repo peeter-t2/digar.txts@HEAD\n",
      "\n"
     ]
    },
    {
     "name": "stdout",
     "output_type": "stream",
     "text": [
      "* checking for file ‘/tmp/RtmpPktBIN/remotes84a9544afcb9/peeter-t2-digar.txts-b87e10a/DESCRIPTION’ ... OK\n",
      "* preparing ‘digar.txts’:\n",
      "* checking DESCRIPTION meta-information ... OK\n",
      "* checking for LF line-endings in source and make files and shell scripts\n",
      "* checking for empty or unneeded directories\n",
      "Omitted ‘LazyData’ from DESCRIPTION\n",
      "* building ‘digar.txts_0.0.0.9100.tar.gz’\n",
      "Warning in sprintf(gettext(fmt, domain = domain), ...) :\n",
      "  one argument not used by format 'invalid uid value replaced by that for user 'nobody''\n",
      "Warning: invalid uid value replaced by that for user 'nobody'\n",
      "\n"
     ]
    }
   ],
   "source": [
    "## pckg installation:\n",
    "\n",
    "dir.create(\"R_pckg\")\n",
    "remotes::install_github(\"peeter-t2/digar.txts\",lib=\"~/R_pckg/\",upgrade=\"never\")"
   ]
  },
  {
   "cell_type": "markdown",
   "id": "659e8421",
   "metadata": {},
   "source": [
    "#### digar pckg upload"
   ]
  },
  {
   "cell_type": "code",
   "execution_count": 2,
   "id": "495a5cc7",
   "metadata": {},
   "outputs": [
    {
     "name": "stderr",
     "output_type": "stream",
     "text": [
      "── \u001b[1mAttaching packages\u001b[22m ─────────────────────────────────────── tidyverse 1.3.1 ──\n",
      "\n",
      "\u001b[32m✔\u001b[39m \u001b[34mggplot2\u001b[39m 3.3.5     \u001b[32m✔\u001b[39m \u001b[34mpurrr  \u001b[39m 0.3.4\n",
      "\u001b[32m✔\u001b[39m \u001b[34mtibble \u001b[39m 3.1.6     \u001b[32m✔\u001b[39m \u001b[34mdplyr  \u001b[39m 1.0.8\n",
      "\u001b[32m✔\u001b[39m \u001b[34mtidyr  \u001b[39m 1.2.0     \u001b[32m✔\u001b[39m \u001b[34mstringr\u001b[39m 1.4.0\n",
      "\u001b[32m✔\u001b[39m \u001b[34mreadr  \u001b[39m 2.1.2     \u001b[32m✔\u001b[39m \u001b[34mforcats\u001b[39m 0.5.1\n",
      "\n",
      "── \u001b[1mConflicts\u001b[22m ────────────────────────────────────────── tidyverse_conflicts() ──\n",
      "\u001b[31m✖\u001b[39m \u001b[34mdplyr\u001b[39m::\u001b[32mfilter()\u001b[39m masks \u001b[34mstats\u001b[39m::filter()\n",
      "\u001b[31m✖\u001b[39m \u001b[34mdplyr\u001b[39m::\u001b[32mlag()\u001b[39m    masks \u001b[34mstats\u001b[39m::lag()\n",
      "\n"
     ]
    }
   ],
   "source": [
    "library(tidyverse)"
   ]
  },
  {
   "cell_type": "code",
   "execution_count": 3,
   "id": "8935db54",
   "metadata": {},
   "outputs": [
    {
     "name": "stderr",
     "output_type": "stream",
     "text": [
      "Loading required package: data.table\n",
      "\n",
      "\n",
      "Attaching package: ‘data.table’\n",
      "\n",
      "\n",
      "The following objects are masked from ‘package:dplyr’:\n",
      "\n",
      "    between, first, last\n",
      "\n",
      "\n",
      "The following object is masked from ‘package:purrr’:\n",
      "\n",
      "    transpose\n",
      "\n",
      "\n"
     ]
    }
   ],
   "source": [
    "library(digar.txts, lib.loc=\"~/R_pckg/\")"
   ]
  },
  {
   "cell_type": "markdown",
   "id": "5678d68d",
   "metadata": {},
   "source": [
    "#### all_issues -- metadata overview\n",
    "get_digar_overview()"
   ]
  },
  {
   "cell_type": "code",
   "execution_count": 3,
   "id": "dc960d2c",
   "metadata": {},
   "outputs": [
    {
     "name": "stdout",
     "output_type": "stream",
     "text": [
      "[1] \"Issue metadata read\"\n"
     ]
    }
   ],
   "source": [
    "all_issues <- get_digar_overview()"
   ]
  },
  {
   "cell_type": "markdown",
   "id": "6f723f84",
   "metadata": {},
   "source": [
    "The function call the metadata for all issues in the dataset, meta contains 26 columns.\n",
    "Each sourse(?) has a root id as keyid; an issue has a DocumentID. When the data is loaded \"Issue metadata read\" is written as an output\n",
    "\n",
    "upd 19/04\n",
    "metadata now has 60 columns?\n",
    "not clear what n_articles n_articles_lemma etc. columns are about"
   ]
  },
  {
   "cell_type": "code",
   "execution_count": 4,
   "id": "c2703b99",
   "metadata": {},
   "outputs": [
    {
     "name": "stdout",
     "output_type": "stream",
     "text": [
      "Classes ‘data.table’ and 'data.frame':\t403201 obs. of  60 variables:\n",
      " $ DocumentID           : chr  \"AKabiline201710\" \"AKabiline201804\" \"AKacademiamilitaris202106\" \"AKagraarteadus201706\" ...\n",
      " $ keyid                : chr  \"AKabiline\" \"AKabiline\" \"AKacademiamilitaris\" \"AKagraarteadus\" ...\n",
      " $ attrs                : int  1 2 1 1 2 3 4 5 6 7 ...\n",
      " $ DocumentDate         : chr  \"oktoober 2017\" \"aprill 2018\" \"juuni 2021\" \"juuni 2017\" ...\n",
      " $ DocumentTitle        : chr  \"Abiline : [ajakiri]\" \"Abiline : [ajakiri]\" \"Academia Militaris : [Kaitseväe Akadeemia populaarteaduslik ajakiri]\" \"Agraarteadus = Journal of agricultural science : Akadeemilise Põllumajanduse Seltsi väljaann\" ...\n",
      " $ DocumentType         : chr  \"PERIODICAL\" \"PERIODICAL\" \"PERIODICAL\" \"PERIODICAL\" ...\n",
      " $ series               : chr  \"staging/all_pubs/all_vols_AKabiline.xml\" \"staging/all_pubs/all_vols_AKabiline.xml\" \"staging/all_pubs/all_vols_AKacademiamilitaris.xml\" \"staging/all_pubs/all_vols_AKagraarteadus.xml\" ...\n",
      " $ DocumentNumber       : chr  \"1\" \"1\" \"1\" \"1\" ...\n",
      " $ DocumentVolume       : chr  \"\" \"\" \"\" \"\" ...\n",
      " $ pages                : chr  \"staging/all_pubs/all_vols_AKabiline.xml.tsv\" \"staging/all_pubs/all_vols_AKabiline.xml.tsv\" \"staging/all_pubs/all_vols_AKacademiamilitaris.xml.tsv\" \"staging/all_pubs/all_vols_AKagraarteadus.xml.tsv\" ...\n",
      " $ sections             : chr  \"staging/all_pubs/all_vols_AKabiline.xml_sections.tsv\" \"staging/all_pubs/all_vols_AKabiline.xml_sections.tsv\" \"staging/all_pubs/all_vols_AKacademiamilitaris.xml_sections.tsv\" \"staging/all_pubs/all_vols_AKagraarteadus.xml_sections.tsv\" ...\n",
      " $ pages_sections       : chr  \"Both\" \"Both\" \"Both\" \"Both\" ...\n",
      " $ dateraw              : int  201710 201804 202106 201706 201712 201806 201812 201906 201910 201911 ...\n",
      " $ date                 : IDate, format: \"2017-10-01\" \"2018-04-01\" ...\n",
      " $ day                  : int  1 1 1 1 1 1 1 1 1 1 ...\n",
      " $ month                : int  10 4 6 6 12 6 12 6 10 11 ...\n",
      " $ year                 : int  2017 2018 2021 2017 2017 2018 2018 2019 2019 2019 ...\n",
      " $ firstyear            : int  2017 2017 2021 2017 2017 2017 2017 2017 2017 2017 ...\n",
      " $ lastyear             : int  2018 2018 2021 2021 2021 2021 2021 2021 2021 2021 ...\n",
      " $ title                : chr  \"Abiline : [ajakiri]\" \"Abiline : [ajakiri]\" \"Academia Militaris : [Kaitseväe Akadeemia populaarteaduslik ajakiri]\" \"Agraarteadus = Journal of agricultural science : Akadeemilise Põllumajanduse Seltsi väljaann\" ...\n",
      " $ issues               : int  2 2 1 12 12 12 12 12 12 12 ...\n",
      " $ zippath_pages        : chr  \"AKabiline/AKabiline_2017_pages.zip\" \"AKabiline/AKabiline_2018_pages.zip\" \"AKacademiamilitaris/AKacademiamilitaris_2021_pages.zip\" \"AKagraarteadus/AKagraarteadus_2017_pages.zip\" ...\n",
      " $ zippath_sections     : chr  \"AKabiline/AKabiline_2017_sections.zip\" \"AKabiline/AKabiline_2018_sections.zip\" \"AKacademiamilitaris/AKacademiamilitaris_2021_sections.zip\" \"AKagraarteadus/AKagraarteadus_2017_sections.zip\" ...\n",
      " $ basename_pages       : chr  \"AKabiline_2017_pages.zip\" \"AKabiline_2018_pages.zip\" \"AKacademiamilitaris_2021_pages.zip\" \"AKagraarteadus_2017_pages.zip\" ...\n",
      " $ basename_sections    : chr  \"AKabiline_2017_sections.zip\" \"AKabiline_2018_sections.zip\" \"AKacademiamilitaris_2021_sections.zip\" \"AKagraarteadus_2017_sections.zip\" ...\n",
      " $ access               : chr  \"open\" \"open\" \"open\" \"open\" ...\n",
      " $ user_access          : chr  \"true\" \"true\" \"true\" \"true\" ...\n",
      " $ latest_available     : IDate, format: NA NA ...\n",
      " $ rights_en            : chr  \"\" \"\" \"\" \"\" ...\n",
      " $ rights_et            : chr  \"\" \"\" \"\" \"\" ...\n",
      " $ rights_ru            : chr  \"\" \"\" \"\" \"\" ...\n",
      " $ embargo_en           : chr  \"\" \"\" \"\" \"\" ...\n",
      " $ embargo_et           : chr  \"\" \"\" \"\" \"\" ...\n",
      " $ embargo_ru           : chr  \"\" \"\" \"\" \"\" ...\n",
      " $ language             : chr  \"Estonian\" \"Estonian\" \"Estonian\" \"Estonian\" ...\n",
      " $ country              : chr  \"Estonia\" \"Estonia\" \"Estonia\" \"Estonia\" ...\n",
      " $ notes_en             : chr  \"\" \"\" \"\" \"\" ...\n",
      " $ notes_et             : chr  \"\" \"\" \"\" \"\" ...\n",
      " $ notes_ru             : chr  \"\" \"\" \"\" \"\" ...\n",
      " $ permalink            : chr  \"https://dea.digar.ee/publication/AKabiline\" \"https://dea.digar.ee/publication/AKabiline\" \"https://dea.digar.ee/publication/AKacademiamilitaris\" \"https://dea.digar.ee/publication/AKagraarteadus\" ...\n",
      " $ place                : chr  \"Tallinn (2017-)\" \"Tallinn (2017-)\" \"Tartu (2021-)\" \"Tartu (1990-)\" ...\n",
      " $ publisher            : chr  \"Sotsiaalministeerium\" \"Sotsiaalministeerium\" \"Eesti Ülikoolide Kirjastus\" \"Akadeemiline Põllumajanduse Selts\" ...\n",
      " $ section              : chr  \"Social sciences\" \"Social sciences\" \"Social sciences\" \"Rural economy and environment\" ...\n",
      " $ type                 : chr  \"Journal\" \"Journal\" \"Journal\" \"Journal\" ...\n",
      " $ ester_id             : chr  \"https://www.ester.ee/record=b4819666*est\" \"https://www.ester.ee/record=b4819666*est\" \"https://www.ester.ee/record=b5435456*est\" \"https://www.ester.ee/record=b1071905*est\" ...\n",
      " $ total_open           : logi  NA NA NA NA NA NA ...\n",
      " $ offlimits            : logi  NA NA NA NA NA NA ...\n",
      " $ access_now           : logi  TRUE TRUE TRUE TRUE TRUE TRUE ...\n",
      " $ temp                 : int  1 1 1 1 1 1 1 1 1 1 ...\n",
      " $ n_articles           : int  13 13 52 29 27 38 21 26 21 21 ...\n",
      " $ n_pages              : int  16 16 68 64 72 96 55 68 126 68 ...\n",
      " $ n_articles_lemmas    : int  13 13 52 29 27 38 21 26 21 21 ...\n",
      " $ n_pages_lemmas       : int  16 16 68 64 72 96 55 68 126 68 ...\n",
      " $ n_articles_metadata  : int  13 13 52 29 27 38 21 26 21 21 ...\n",
      " $ n_pages_metadata     : int  16 16 68 64 72 96 55 68 126 68 ...\n",
      " $ pages_exist          : logi  TRUE TRUE TRUE TRUE TRUE TRUE ...\n",
      " $ sections_exist       : logi  TRUE TRUE TRUE TRUE TRUE TRUE ...\n",
      " $ decade               : int  2010 2010 2020 2010 2010 2010 2010 2010 2010 2010 ...\n",
      " $ zippath_pages_meta   : chr  \"AKabiline/AKabiline_2010_pages_meta.zip\" \"AKabiline/AKabiline_2010_pages_meta.zip\" \"AKacademiamilitaris/AKacademiamilitaris_2020_pages_meta.zip\" \"AKagraarteadus/AKagraarteadus_2010_pages_meta.zip\" ...\n",
      " $ zippath_sections_meta: chr  \"AKabiline/AKabiline_2010_sections_meta.zip\" \"AKabiline/AKabiline_2010_sections_meta.zip\" \"AKacademiamilitaris/AKacademiamilitaris_2020_sections_meta.zip\" \"AKagraarteadus/AKagraarteadus_2010_sections_meta.zip\" ...\n",
      " - attr(*, \".internal.selfref\")=<externalptr> \n"
     ]
    }
   ],
   "source": [
    "str(all_issues)"
   ]
  },
  {
   "cell_type": "code",
   "execution_count": 5,
   "id": "1b147498",
   "metadata": {},
   "outputs": [
    {
     "data": {
      "text/html": [
       "<style>\n",
       ".list-inline {list-style: none; margin:0; padding: 0}\n",
       ".list-inline>li {display: inline-block}\n",
       ".list-inline>li:not(:last-child)::after {content: \"\\00b7\"; padding: 0 .5ex}\n",
       "</style>\n",
       "<ol class=list-inline><li>'Estonian'</li><li>'English'</li><li>'Russian'</li><li>'German'</li><li>'Latin'</li><li>'Finnish'</li><li>'French'</li><li>'Dutch'</li><li>'Swedish'</li></ol>\n"
      ],
      "text/latex": [
       "\\begin{enumerate*}\n",
       "\\item 'Estonian'\n",
       "\\item 'English'\n",
       "\\item 'Russian'\n",
       "\\item 'German'\n",
       "\\item 'Latin'\n",
       "\\item 'Finnish'\n",
       "\\item 'French'\n",
       "\\item 'Dutch'\n",
       "\\item 'Swedish'\n",
       "\\end{enumerate*}\n"
      ],
      "text/markdown": [
       "1. 'Estonian'\n",
       "2. 'English'\n",
       "3. 'Russian'\n",
       "4. 'German'\n",
       "5. 'Latin'\n",
       "6. 'Finnish'\n",
       "7. 'French'\n",
       "8. 'Dutch'\n",
       "9. 'Swedish'\n",
       "\n",
       "\n"
      ],
      "text/plain": [
       "[1] \"Estonian\" \"English\"  \"Russian\"  \"German\"   \"Latin\"    \"Finnish\"  \"French\"  \n",
       "[8] \"Dutch\"    \"Swedish\" "
      ]
     },
     "metadata": {},
     "output_type": "display_data"
    }
   ],
   "source": [
    "unique(all_issues$language)"
   ]
  },
  {
   "cell_type": "markdown",
   "id": "5103ea19",
   "metadata": {},
   "source": [
    "#### Subset Russian"
   ]
  },
  {
   "cell_type": "code",
   "execution_count": 14,
   "id": "3d34755c",
   "metadata": {},
   "outputs": [
    {
     "data": {
      "image/png": "[encoded data removed]",
      "text/plain": [
       "plot without title"
      ]
     },
     "metadata": {
      "image/png": {
       "height": 420,
       "width": 420
      }
     },
     "output_type": "display_data"
    }
   ],
   "source": [
    "all_issues %>%\n",
    "    filter(language == \"Russian\") %>% \n",
    "    group_by(year) %>% \n",
    "    count() %>% \n",
    "    ggplot(aes(x = year, y = n)) + geom_col() + theme_minimal()"
   ]
  },
  {
   "cell_type": "code",
   "execution_count": 7,
   "id": "85d60597",
   "metadata": {},
   "outputs": [],
   "source": [
    "subset <- all_issues %>% \n",
    "    filter(language == \"Russian\")"
   ]
  },
  {
   "cell_type": "code",
   "execution_count": 102,
   "id": "4209a5bb",
   "metadata": {},
   "outputs": [],
   "source": [
    "# readr::write_tsv(subset, \"test/all_issues_rus.tsv\")"
   ]
  },
  {
   "cell_type": "markdown",
   "id": "725f25a5",
   "metadata": {},
   "source": [
    "#### get_subset_meta()"
   ]
  },
  {
   "cell_type": "markdown",
   "id": "fc3e1d2e",
   "metadata": {},
   "source": [
    "Subsetting metadata for newspapers in Russian for pages and sections.  \n",
    "\n",
    "\n",
    "##### Sections"
   ]
  },
  {
   "cell_type": "code",
   "execution_count": 8,
   "id": "3916d6f5",
   "metadata": {},
   "outputs": [
    {
     "name": "stderr",
     "output_type": "stream",
     "text": [
      "Warning message in data.table::fread(cmd = x, fill = T):\n",
      "“File '/tmp/RtmpznmfDu/file9267c56fd36' has size 0. Returning a NULL data.table.”\n",
      "Warning message in data.table::fread(cmd = x, fill = T):\n",
      "“File '/tmp/RtmpznmfDu/file9267737d05ca' has size 0. Returning a NULL data.table.”\n",
      "Warning message in data.table::fread(cmd = x, fill = T):\n",
      "“File '/tmp/RtmpznmfDu/file9267483b9522' has size 0. Returning a NULL data.table.”\n",
      "Warning message in data.table::fread(cmd = x, fill = T):\n",
      "“File '/tmp/RtmpznmfDu/file92672e4c41c8' has size 0. Returning a NULL data.table.”\n",
      "Warning message in data.table::fread(cmd = x, fill = T):\n",
      "“File '/tmp/RtmpznmfDu/file92673e700a1a' has size 0. Returning a NULL data.table.”\n",
      "Warning message in data.table::fread(cmd = x, fill = T):\n",
      "“File '/tmp/RtmpznmfDu/file9267559fd15f' has size 0. Returning a NULL data.table.”\n",
      "Warning message in data.table::fread(cmd = x, fill = T):\n",
      "“File '/tmp/RtmpznmfDu/file9267760d73a7' has size 0. Returning a NULL data.table.”\n"
     ]
    }
   ],
   "source": [
    "# choice is eiter source=\"sections\" (default) or source=\"pages\"\n",
    "\n",
    "subset_meta <- get_subset_meta(subset, source = \"sections\")"
   ]
  },
  {
   "cell_type": "code",
   "execution_count": 9,
   "id": "4df51f6a",
   "metadata": {},
   "outputs": [
    {
     "name": "stdout",
     "output_type": "stream",
     "text": [
      "Classes ‘data.table’ and 'data.frame':\t519990 obs. of  17 variables:\n",
      " $ .id                               : int  1 1 1 1 1 1 1 1 1 1 ...\n",
      " $ docid                             : chr  \"AKgorizonty201701\" \"AKgorizonty201701\" \"AKgorizonty201701\" \"AKgorizonty201701\" ...\n",
      " $ LogicalSectionFirstPageID         : chr  \"AKgorizonty201701.1.1\" \"AKgorizonty201701.1.2\" \"AKgorizonty201701.1.2\" \"AKgorizonty201701.1.3\" ...\n",
      " $ LogicalSectionID                  : chr  \"AKgorizonty201701.2.1\" \"AKgorizonty201701.2.2\" \"AKgorizonty201701.2.2.1\" \"AKgorizonty201701.2.3\" ...\n",
      " $ attrs                             : int  1 2 4 5 6 7 8 9 11 12 ...\n",
      " $ LogicalSectionTitle               : chr  \"Обложка\" \"Ненумерованная стр. Объявления\" \"Ненумерованная стр. Объявление 1\" \"Заголовок\" ...\n",
      " $ LogicalSectionType                : chr  \"COVER_SECTION+ILLUSTRATION\" \"GROUPING_NODE\" \"ADVERTISEMENT\" \"TITLE_SECTION+ILLUSTRATION\" ...\n",
      " $ LogicalSectionViewURL             : chr  \"/cgi-bin/dea?a=d&d=AKgorizonty201701.2.1\" \"/cgi-bin/dea?a=d&d=AKgorizonty201701.2.2\" \"/cgi-bin/dea?a=d&d=AKgorizonty201701.2.2.1\" \"/cgi-bin/dea?a=d&d=AKgorizonty201701.2.3\" ...\n",
      " $ LogicalSectionTextWordCount       : int  50 0 31 24 390 782 2806 0 27 2051 ...\n",
      " $ LogicalSectionPrevLogicalSectionID: chr  \"\" \"\" \"AKgorizonty201701.2.1\" \"AKgorizonty201701.2.2.1\" ...\n",
      " $ LogicalSectionNextLogicalSectionID: chr  \"AKgorizonty201701.2.2.1\" \"\" \"AKgorizonty201701.2.3\" \"AKgorizonty201701.2.4\" ...\n",
      " $ PageOCRAccuracy                   : chr  \"97.9%\" \"100%\" \"100%\" \"99.8%\" ...\n",
      " $ MeanOCRAccuracyVol                : num  99.3 99.3 99.3 99.3 99.3 99.3 99.3 99.3 99.3 99.3 ...\n",
      " $ date                              : IDate, format: \"2017-01-01\" \"2017-01-01\" ...\n",
      " $ dateraw                           : int  201701 201701 201701 201701 201701 201701 201701 201701 201701 201701 ...\n",
      " $ year                              : int  2017 2017 2017 2017 2017 2017 2017 2017 2017 2017 ...\n",
      " $ decade                            : int  2010 2010 2010 2010 2010 2010 2010 2010 2010 2010 ...\n",
      " - attr(*, \".internal.selfref\")=<externalptr> \n"
     ]
    }
   ],
   "source": [
    "str(subset_meta)\n",
    "# 17 columns describing sections"
   ]
  },
  {
   "cell_type": "code",
   "execution_count": 19,
   "id": "505cf746",
   "metadata": {},
   "outputs": [
    {
     "data": {
      "text/html": [
       "1852"
      ],
      "text/latex": [
       "1852"
      ],
      "text/markdown": [
       "1852"
      ],
      "text/plain": [
       "[1] 1852"
      ]
     },
     "metadata": {},
     "output_type": "display_data"
    },
    {
     "data": {
      "text/html": [
       "2021"
      ],
      "text/latex": [
       "2021"
      ],
      "text/markdown": [
       "2021"
      ],
      "text/plain": [
       "[1] 2021"
      ]
     },
     "metadata": {},
     "output_type": "display_data"
    }
   ],
   "source": [
    "min(subset_meta$year)\n",
    "max(subset_meta$year)"
   ]
  },
  {
   "cell_type": "code",
   "execution_count": 20,
   "id": "42b6d468",
   "metadata": {},
   "outputs": [
    {
     "data": {
      "text/html": [
       "<table class=\"dataframe\">\n",
       "<caption>A data.table: 6 × 17</caption>\n",
       "<thead>\n",
       "\t<tr><th scope=col>.id</th><th scope=col>docid</th><th scope=col>LogicalSectionFirstPageID</th><th scope=col>LogicalSectionID</th><th scope=col>attrs</th><th scope=col>LogicalSectionTitle</th><th scope=col>LogicalSectionType</th><th scope=col>LogicalSectionViewURL</th><th scope=col>LogicalSectionTextWordCount</th><th scope=col>LogicalSectionPrevLogicalSectionID</th><th scope=col>LogicalSectionNextLogicalSectionID</th><th scope=col>PageOCRAccuracy</th><th scope=col>MeanOCRAccuracyVol</th><th scope=col>date</th><th scope=col>dateraw</th><th scope=col>year</th><th scope=col>decade</th></tr>\n",
       "\t<tr><th scope=col>&lt;int&gt;</th><th scope=col>&lt;chr&gt;</th><th scope=col>&lt;chr&gt;</th><th scope=col>&lt;chr&gt;</th><th scope=col>&lt;int&gt;</th><th scope=col>&lt;chr&gt;</th><th scope=col>&lt;chr&gt;</th><th scope=col>&lt;chr&gt;</th><th scope=col>&lt;int&gt;</th><th scope=col>&lt;chr&gt;</th><th scope=col>&lt;chr&gt;</th><th scope=col>&lt;chr&gt;</th><th scope=col>&lt;dbl&gt;</th><th scope=col>&lt;date&gt;</th><th scope=col>&lt;int&gt;</th><th scope=col>&lt;int&gt;</th><th scope=col>&lt;int&gt;</th></tr>\n",
       "</thead>\n",
       "<tbody>\n",
       "\t<tr><td>56</td><td>livzeitung18521101</td><td>livzeitung18521101.1.1</td><td><span style=white-space:pre-wrap>livzeitung18521101.2.1  </span></td><td>1</td><td><span style=white-space:pre-wrap>Kopfleiste                       </span></td><td>TITLE_SECTION+ILLUSTRATION</td><td><span style=white-space:pre-wrap>/cgi-bin/dea?a=d&amp;d=livzeitung18521101.2.1  </span></td><td><span style=white-space:pre-wrap>  86</span></td><td><span style=white-space:pre-wrap>                        </span></td><td><span style=white-space:pre-wrap>livzeitung18521101.2.2  </span></td><td><span style=white-space:pre-wrap>66%  </span></td><td>74.6</td><td>1852-11-01</td><td>18521101</td><td>1852</td><td>1850</td></tr>\n",
       "\t<tr><td>56</td><td>livzeitung18521101</td><td>livzeitung18521101.1.1</td><td><span style=white-space:pre-wrap>livzeitung18521101.2.2  </span></td><td>2</td><td><span style=white-space:pre-wrap>Отдель первый.                   </span></td><td><span style=white-space:pre-wrap>ARTICLE                   </span></td><td><span style=white-space:pre-wrap>/cgi-bin/dea?a=d&amp;d=livzeitung18521101.2.2  </span></td><td> 313</td><td><span style=white-space:pre-wrap>livzeitung18521101.2.1  </span></td><td><span style=white-space:pre-wrap>livzeitung18521101.2.3  </span></td><td><span style=white-space:pre-wrap>66%  </span></td><td>74.6</td><td>1852-11-01</td><td>18521101</td><td>1852</td><td>1850</td></tr>\n",
       "\t<tr><td>56</td><td>livzeitung18521101</td><td>livzeitung18521101.1.1</td><td><span style=white-space:pre-wrap>livzeitung18521101.2.3  </span></td><td>3</td><td><span style=white-space:pre-wrap>Erste Abtheilung.                </span></td><td><span style=white-space:pre-wrap>ARTICLE                   </span></td><td><span style=white-space:pre-wrap>/cgi-bin/dea?a=d&amp;d=livzeitung18521101.2.3  </span></td><td> 328</td><td><span style=white-space:pre-wrap>livzeitung18521101.2.2  </span></td><td><span style=white-space:pre-wrap>livzeitung18521101.2.4  </span></td><td><span style=white-space:pre-wrap>66%  </span></td><td>74.6</td><td>1852-11-01</td><td>18521101</td><td>1852</td><td>1850</td></tr>\n",
       "\t<tr><td>56</td><td>livzeitung18521101</td><td>livzeitung18521101.1.3</td><td><span style=white-space:pre-wrap>livzeitung18521101.2.4  </span></td><td>4</td><td>0тделъ второй. Zweite Abtheilung.</td><td><span style=white-space:pre-wrap>SECTION                   </span></td><td><span style=white-space:pre-wrap>/cgi-bin/dea?a=d&amp;d=livzeitung18521101.2.4  </span></td><td><span style=white-space:pre-wrap>   5</span></td><td><span style=white-space:pre-wrap>livzeitung18521101.2.3  </span></td><td>livzeitung18521101.2.4.1</td><td>83.4%</td><td>74.6</td><td>1852-11-01</td><td>18521101</td><td>1852</td><td>1850</td></tr>\n",
       "\t<tr><td>56</td><td>livzeitung18521101</td><td>livzeitung18521101.1.3</td><td>livzeitung18521101.2.4.1</td><td>6</td><td><span style=white-space:pre-wrap>Часть оффициальная.              </span></td><td><span style=white-space:pre-wrap>ARTICLE                   </span></td><td>/cgi-bin/dea?a=d&amp;d=livzeitung18521101.2.4.1</td><td> 621</td><td><span style=white-space:pre-wrap>livzeitung18521101.2.4  </span></td><td>livzeitung18521101.2.4.2</td><td>83.4%</td><td>74.6</td><td>1852-11-01</td><td>18521101</td><td>1852</td><td>1850</td></tr>\n",
       "\t<tr><td>56</td><td>livzeitung18521101</td><td>livzeitung18521101.1.3</td><td>livzeitung18521101.2.4.2</td><td>7</td><td><span style=white-space:pre-wrap>Officieller Theil.               </span></td><td><span style=white-space:pre-wrap>ARTICLE                   </span></td><td>/cgi-bin/dea?a=d&amp;d=livzeitung18521101.2.4.2</td><td>1548</td><td>livzeitung18521101.2.4.1</td><td><span style=white-space:pre-wrap>livzeitung18521101.2.5  </span></td><td>83.4%</td><td>74.6</td><td>1852-11-01</td><td>18521101</td><td>1852</td><td>1850</td></tr>\n",
       "</tbody>\n",
       "</table>\n"
      ],
      "text/latex": [
       "A data.table: 6 × 17\n",
       "\\begin{tabular}{lllllllllllllllll}\n",
       " .id & docid & LogicalSectionFirstPageID & LogicalSectionID & attrs & LogicalSectionTitle & LogicalSectionType & LogicalSectionViewURL & LogicalSectionTextWordCount & LogicalSectionPrevLogicalSectionID & LogicalSectionNextLogicalSectionID & PageOCRAccuracy & MeanOCRAccuracyVol & date & dateraw & year & decade\\\\\n",
       " <int> & <chr> & <chr> & <chr> & <int> & <chr> & <chr> & <chr> & <int> & <chr> & <chr> & <chr> & <dbl> & <date> & <int> & <int> & <int>\\\\\n",
       "\\hline\n",
       "\t 56 & livzeitung18521101 & livzeitung18521101.1.1 & livzeitung18521101.2.1   & 1 & Kopfleiste                        & TITLE\\_SECTION+ILLUSTRATION & /cgi-bin/dea?a=d\\&d=livzeitung18521101.2.1   &   86 &                          & livzeitung18521101.2.2   & 66\\%   & 74.6 & 1852-11-01 & 18521101 & 1852 & 1850\\\\\n",
       "\t 56 & livzeitung18521101 & livzeitung18521101.1.1 & livzeitung18521101.2.2   & 2 & Отдель первый.                    & ARTICLE                    & /cgi-bin/dea?a=d\\&d=livzeitung18521101.2.2   &  313 & livzeitung18521101.2.1   & livzeitung18521101.2.3   & 66\\%   & 74.6 & 1852-11-01 & 18521101 & 1852 & 1850\\\\\n",
       "\t 56 & livzeitung18521101 & livzeitung18521101.1.1 & livzeitung18521101.2.3   & 3 & Erste Abtheilung.                 & ARTICLE                    & /cgi-bin/dea?a=d\\&d=livzeitung18521101.2.3   &  328 & livzeitung18521101.2.2   & livzeitung18521101.2.4   & 66\\%   & 74.6 & 1852-11-01 & 18521101 & 1852 & 1850\\\\\n",
       "\t 56 & livzeitung18521101 & livzeitung18521101.1.3 & livzeitung18521101.2.4   & 4 & 0тделъ второй. Zweite Abtheilung. & SECTION                    & /cgi-bin/dea?a=d\\&d=livzeitung18521101.2.4   &    5 & livzeitung18521101.2.3   & livzeitung18521101.2.4.1 & 83.4\\% & 74.6 & 1852-11-01 & 18521101 & 1852 & 1850\\\\\n",
       "\t 56 & livzeitung18521101 & livzeitung18521101.1.3 & livzeitung18521101.2.4.1 & 6 & Часть оффициальная.               & ARTICLE                    & /cgi-bin/dea?a=d\\&d=livzeitung18521101.2.4.1 &  621 & livzeitung18521101.2.4   & livzeitung18521101.2.4.2 & 83.4\\% & 74.6 & 1852-11-01 & 18521101 & 1852 & 1850\\\\\n",
       "\t 56 & livzeitung18521101 & livzeitung18521101.1.3 & livzeitung18521101.2.4.2 & 7 & Officieller Theil.                & ARTICLE                    & /cgi-bin/dea?a=d\\&d=livzeitung18521101.2.4.2 & 1548 & livzeitung18521101.2.4.1 & livzeitung18521101.2.5   & 83.4\\% & 74.6 & 1852-11-01 & 18521101 & 1852 & 1850\\\\\n",
       "\\end{tabular}\n"
      ],
      "text/markdown": [
       "\n",
       "A data.table: 6 × 17\n",
       "\n",
       "| .id &lt;int&gt; | docid &lt;chr&gt; | LogicalSectionFirstPageID &lt;chr&gt; | LogicalSectionID &lt;chr&gt; | attrs &lt;int&gt; | LogicalSectionTitle &lt;chr&gt; | LogicalSectionType &lt;chr&gt; | LogicalSectionViewURL &lt;chr&gt; | LogicalSectionTextWordCount &lt;int&gt; | LogicalSectionPrevLogicalSectionID &lt;chr&gt; | LogicalSectionNextLogicalSectionID &lt;chr&gt; | PageOCRAccuracy &lt;chr&gt; | MeanOCRAccuracyVol &lt;dbl&gt; | date &lt;date&gt; | dateraw &lt;int&gt; | year &lt;int&gt; | decade &lt;int&gt; |\n",
       "|---|---|---|---|---|---|---|---|---|---|---|---|---|---|---|---|---|\n",
       "| 56 | livzeitung18521101 | livzeitung18521101.1.1 | livzeitung18521101.2.1   | 1 | Kopfleiste                        | TITLE_SECTION+ILLUSTRATION | /cgi-bin/dea?a=d&amp;d=livzeitung18521101.2.1   |   86 | <!----> | livzeitung18521101.2.2   | 66%   | 74.6 | 1852-11-01 | 18521101 | 1852 | 1850 |\n",
       "| 56 | livzeitung18521101 | livzeitung18521101.1.1 | livzeitung18521101.2.2   | 2 | Отдель первый.                    | ARTICLE                    | /cgi-bin/dea?a=d&amp;d=livzeitung18521101.2.2   |  313 | livzeitung18521101.2.1   | livzeitung18521101.2.3   | 66%   | 74.6 | 1852-11-01 | 18521101 | 1852 | 1850 |\n",
       "| 56 | livzeitung18521101 | livzeitung18521101.1.1 | livzeitung18521101.2.3   | 3 | Erste Abtheilung.                 | ARTICLE                    | /cgi-bin/dea?a=d&amp;d=livzeitung18521101.2.3   |  328 | livzeitung18521101.2.2   | livzeitung18521101.2.4   | 66%   | 74.6 | 1852-11-01 | 18521101 | 1852 | 1850 |\n",
       "| 56 | livzeitung18521101 | livzeitung18521101.1.3 | livzeitung18521101.2.4   | 4 | 0тделъ второй. Zweite Abtheilung. | SECTION                    | /cgi-bin/dea?a=d&amp;d=livzeitung18521101.2.4   |    5 | livzeitung18521101.2.3   | livzeitung18521101.2.4.1 | 83.4% | 74.6 | 1852-11-01 | 18521101 | 1852 | 1850 |\n",
       "| 56 | livzeitung18521101 | livzeitung18521101.1.3 | livzeitung18521101.2.4.1 | 6 | Часть оффициальная.               | ARTICLE                    | /cgi-bin/dea?a=d&amp;d=livzeitung18521101.2.4.1 |  621 | livzeitung18521101.2.4   | livzeitung18521101.2.4.2 | 83.4% | 74.6 | 1852-11-01 | 18521101 | 1852 | 1850 |\n",
       "| 56 | livzeitung18521101 | livzeitung18521101.1.3 | livzeitung18521101.2.4.2 | 7 | Officieller Theil.                | ARTICLE                    | /cgi-bin/dea?a=d&amp;d=livzeitung18521101.2.4.2 | 1548 | livzeitung18521101.2.4.1 | livzeitung18521101.2.5   | 83.4% | 74.6 | 1852-11-01 | 18521101 | 1852 | 1850 |\n",
       "\n"
      ],
      "text/plain": [
       "  .id docid              LogicalSectionFirstPageID LogicalSectionID        \n",
       "1 56  livzeitung18521101 livzeitung18521101.1.1    livzeitung18521101.2.1  \n",
       "2 56  livzeitung18521101 livzeitung18521101.1.1    livzeitung18521101.2.2  \n",
       "3 56  livzeitung18521101 livzeitung18521101.1.1    livzeitung18521101.2.3  \n",
       "4 56  livzeitung18521101 livzeitung18521101.1.3    livzeitung18521101.2.4  \n",
       "5 56  livzeitung18521101 livzeitung18521101.1.3    livzeitung18521101.2.4.1\n",
       "6 56  livzeitung18521101 livzeitung18521101.1.3    livzeitung18521101.2.4.2\n",
       "  attrs LogicalSectionTitle               LogicalSectionType        \n",
       "1 1     Kopfleiste                        TITLE_SECTION+ILLUSTRATION\n",
       "2 2     Отдель первый.                    ARTICLE                   \n",
       "3 3     Erste Abtheilung.                 ARTICLE                   \n",
       "4 4     0тделъ второй. Zweite Abtheilung. SECTION                   \n",
       "5 6     Часть оффициальная.               ARTICLE                   \n",
       "6 7     Officieller Theil.                ARTICLE                   \n",
       "  LogicalSectionViewURL                       LogicalSectionTextWordCount\n",
       "1 /cgi-bin/dea?a=d&d=livzeitung18521101.2.1     86                       \n",
       "2 /cgi-bin/dea?a=d&d=livzeitung18521101.2.2    313                       \n",
       "3 /cgi-bin/dea?a=d&d=livzeitung18521101.2.3    328                       \n",
       "4 /cgi-bin/dea?a=d&d=livzeitung18521101.2.4      5                       \n",
       "5 /cgi-bin/dea?a=d&d=livzeitung18521101.2.4.1  621                       \n",
       "6 /cgi-bin/dea?a=d&d=livzeitung18521101.2.4.2 1548                       \n",
       "  LogicalSectionPrevLogicalSectionID LogicalSectionNextLogicalSectionID\n",
       "1                                    livzeitung18521101.2.2            \n",
       "2 livzeitung18521101.2.1             livzeitung18521101.2.3            \n",
       "3 livzeitung18521101.2.2             livzeitung18521101.2.4            \n",
       "4 livzeitung18521101.2.3             livzeitung18521101.2.4.1          \n",
       "5 livzeitung18521101.2.4             livzeitung18521101.2.4.2          \n",
       "6 livzeitung18521101.2.4.1           livzeitung18521101.2.5            \n",
       "  PageOCRAccuracy MeanOCRAccuracyVol date       dateraw  year decade\n",
       "1 66%             74.6               1852-11-01 18521101 1852 1850  \n",
       "2 66%             74.6               1852-11-01 18521101 1852 1850  \n",
       "3 66%             74.6               1852-11-01 18521101 1852 1850  \n",
       "4 83.4%           74.6               1852-11-01 18521101 1852 1850  \n",
       "5 83.4%           74.6               1852-11-01 18521101 1852 1850  \n",
       "6 83.4%           74.6               1852-11-01 18521101 1852 1850  "
      ]
     },
     "metadata": {},
     "output_type": "display_data"
    }
   ],
   "source": [
    "subset_meta %>% \n",
    "    filter(year == 1852) %>% \n",
    "    head()"
   ]
  },
  {
   "cell_type": "code",
   "execution_count": 21,
   "id": "86d89cbf",
   "metadata": {},
   "outputs": [
    {
     "data": {
      "image/png": "[encoded data removed]",
      "text/plain": [
       "plot without title"
      ]
     },
     "metadata": {
      "image/png": {
       "height": 420,
       "width": 420
      }
     },
     "output_type": "display_data"
    }
   ],
   "source": [
    "subset_meta %>% \n",
    "    group_by(year) %>% \n",
    "    summarise(mean_ocr_acc = mean(MeanOCRAccuracyVol)) %>% \n",
    "    ggplot(aes(x = year, y = mean_ocr_acc)) + geom_col() + theme_minimal()"
   ]
  },
  {
   "cell_type": "code",
   "execution_count": 19,
   "id": "5cf10692",
   "metadata": {},
   "outputs": [
    {
     "name": "stdout",
     "output_type": "stream",
     "text": [
      "Classes ‘data.table’ and 'data.frame':\t483900 obs. of  17 variables:\n",
      " $ .id                               : int  1 1 1 1 1 1 1 1 1 1 ...\n",
      " $ docid                             : chr  \"AKgorizonty201701\" \"AKgorizonty201701\" \"AKgorizonty201701\" \"AKgorizonty201701\" ...\n",
      " $ LogicalSectionFirstPageID         : chr  \"AKgorizonty201701.1.1\" \"AKgorizonty201701.1.2\" \"AKgorizonty201701.1.2\" \"AKgorizonty201701.1.3\" ...\n",
      " $ LogicalSectionID                  : chr  \"AKgorizonty201701.2.1\" \"AKgorizonty201701.2.2\" \"AKgorizonty201701.2.2.1\" \"AKgorizonty201701.2.3\" ...\n",
      " $ attrs                             : int  1 2 4 5 6 7 8 9 11 12 ...\n",
      " $ LogicalSectionTitle               : chr  \"Обложка\" \"Ненумерованная стр. Объявления\" \"Ненумерованная стр. Объявление 1\" \"Заголовок\" ...\n",
      " $ LogicalSectionType                : chr  \"COVER_SECTION+ILLUSTRATION\" \"GROUPING_NODE\" \"ADVERTISEMENT\" \"TITLE_SECTION+ILLUSTRATION\" ...\n",
      " $ LogicalSectionViewURL             : chr  \"/cgi-bin/dea?a=d&d=AKgorizonty201701.2.1\" \"/cgi-bin/dea?a=d&d=AKgorizonty201701.2.2\" \"/cgi-bin/dea?a=d&d=AKgorizonty201701.2.2.1\" \"/cgi-bin/dea?a=d&d=AKgorizonty201701.2.3\" ...\n",
      " $ LogicalSectionTextWordCount       : int  50 0 31 24 390 782 2806 0 27 2051 ...\n",
      " $ LogicalSectionPrevLogicalSectionID: chr  \"\" \"\" \"AKgorizonty201701.2.1\" \"AKgorizonty201701.2.2.1\" ...\n",
      " $ LogicalSectionNextLogicalSectionID: chr  \"AKgorizonty201701.2.2.1\" \"\" \"AKgorizonty201701.2.3\" \"AKgorizonty201701.2.4\" ...\n",
      " $ PageOCRAccuracy                   : chr  \"97.9%\" \"100%\" \"100%\" \"99.8%\" ...\n",
      " $ MeanOCRAccuracyVol                : num  99.3 99.3 99.3 99.3 99.3 99.3 99.3 99.3 99.3 99.3 ...\n",
      " $ date                              : IDate, format: \"2017-01-01\" \"2017-01-01\" ...\n",
      " $ dateraw                           : int  201701 201701 201701 201701 201701 201701 201701 201701 201701 201701 ...\n",
      " $ year                              : int  2017 2017 2017 2017 2017 2017 2017 2017 2017 2017 ...\n",
      " $ decade                            : int  2010 2010 2010 2010 2010 2010 2010 2010 2010 2010 ...\n",
      " - attr(*, \".internal.selfref\")=<externalptr> \n"
     ]
    }
   ],
   "source": [
    "# str(subset_meta) # output from 08/04"
   ]
  },
  {
   "cell_type": "markdown",
   "id": "0e46a6a0",
   "metadata": {},
   "source": [
    "##### Pages metadata"
   ]
  },
  {
   "cell_type": "code",
   "execution_count": 22,
   "id": "4fe2beb3",
   "metadata": {},
   "outputs": [
    {
     "name": "stderr",
     "output_type": "stream",
     "text": [
      "Warning message in data.table::fread(cmd = x, fill = T):\n",
      "“File '/tmp/RtmpznmfDu/file92674fa1f31a' has size 0. Returning a NULL data.table.”\n"
     ]
    }
   ],
   "source": [
    "subset_meta_pages <- get_subset_meta(subset, source = \"pages\")"
   ]
  },
  {
   "cell_type": "code",
   "execution_count": 23,
   "id": "60efa37f",
   "metadata": {},
   "outputs": [
    {
     "name": "stdout",
     "output_type": "stream",
     "text": [
      "Classes ‘data.table’ and 'data.frame':\t279338 obs. of  18 variables:\n",
      " $ .id                       : int  1 1 1 1 1 1 1 1 1 1 ...\n",
      " $ docid                     : chr  \"AKgorizonty201701\" \"AKgorizonty201701\" \"AKgorizonty201701\" \"AKgorizonty201701\" ...\n",
      " $ PageID                    : chr  \"AKgorizonty201701.1.1\" \"AKgorizonty201701.1.2\" \"AKgorizonty201701.1.3\" \"AKgorizonty201701.1.4\" ...\n",
      " $ attrs                     : int  1 2 3 4 5 6 7 8 9 10 ...\n",
      " $ PageImageHeight           : int  3308 3308 3308 3308 3308 3308 3308 3308 3308 3308 ...\n",
      " $ PageImageWidth            : int  2481 2481 2481 2481 2481 2481 2481 2481 2481 2481 ...\n",
      " $ PageOCRAccuracy           : chr  \"97.9%\" \"100%\" \"99.8%\" \"99.7%\" ...\n",
      " $ PageTitle                 : chr  \"Обложка\" \"Ненумерованная стр.\" \"Страница 1\" \"Страница 2\" ...\n",
      " $ MeanOCRAccuracyVol        : num  99.3 99.3 99.3 99.3 99.3 99.3 99.3 99.3 99.3 99.3 ...\n",
      " $ PageViewURL               : chr  \"/cgi-bin/dea?a=d&d=AKgorizonty201701.1.1\" \"/cgi-bin/dea?a=d&d=AKgorizonty201701.1.2\" \"/cgi-bin/dea?a=d&d=AKgorizonty201701.1.3\" \"/cgi-bin/dea?a=d&d=AKgorizonty201701.1.4\" ...\n",
      " $ PageTextWordCount         : int  50 31 489 383 401 511 253 306 344 500 ...\n",
      " $ PagePrevPageID            : chr  \"\" \"AKgorizonty201701.1.1\" \"AKgorizonty201701.1.2\" \"AKgorizonty201701.1.3\" ...\n",
      " $ PageNextLogicalPageID     : chr  \"AKgorizonty201701.1.2\" \"AKgorizonty201701.1.3\" \"AKgorizonty201701.1.4\" \"AKgorizonty201701.1.5\" ...\n",
      " $ ArrayOfLogicalSectionBlock: chr  \"52,74,1128,345AKgorizonty201701.2.1ОбложкаCOVER_SECTION550,81,622,29AKgorizonty201701.2.1ОбложкаCOVER_SECTION0,\"| __truncated__ \"2,0,1231,1652AKgorizonty201701.2.2.1Ненумерованная стр. Объявление 1ADVERTISEMENT\" \"69,1183,331,253AKgorizonty201701.2.3ЗаголовокTITLE_SECTION69,1445,327,126AKgorizonty201701.2.3ЗаголовокTITLE_SE\"| __truncated__ \"78,80,397,69AKgorizonty201701.2.5СодержаниеTABLE_OF_CONTENTS585,523,358,334AKgorizonty201701.2.5СодержаниеTABLE\"| __truncated__ ...\n",
      " $ date                      : IDate, format: \"2017-01-01\" \"2017-01-01\" ...\n",
      " $ dateraw                   : int  201701 201701 201701 201701 201701 201701 201701 201701 201701 201701 ...\n",
      " $ year                      : int  2017 2017 2017 2017 2017 2017 2017 2017 2017 2017 ...\n",
      " $ decade                    : int  2010 2010 2010 2010 2010 2010 2010 2010 2010 2010 ...\n",
      " - attr(*, \".internal.selfref\")=<externalptr> \n"
     ]
    }
   ],
   "source": [
    "str(subset_meta_pages)"
   ]
  },
  {
   "cell_type": "code",
   "execution_count": 22,
   "id": "cded742c",
   "metadata": {},
   "outputs": [
    {
     "name": "stdout",
     "output_type": "stream",
     "text": [
      "Classes ‘data.table’ and 'data.frame':\t257015 obs. of  18 variables:\n",
      " $ .id                       : int  1 1 1 1 1 1 1 1 1 1 ...\n",
      " $ docid                     : chr  \"AKgorizonty201701\" \"AKgorizonty201701\" \"AKgorizonty201701\" \"AKgorizonty201701\" ...\n",
      " $ PageID                    : chr  \"AKgorizonty201701.1.1\" \"AKgorizonty201701.1.2\" \"AKgorizonty201701.1.3\" \"AKgorizonty201701.1.4\" ...\n",
      " $ attrs                     : int  1 2 3 4 5 6 7 8 9 10 ...\n",
      " $ PageImageHeight           : int  3308 3308 3308 3308 3308 3308 3308 3308 3308 3308 ...\n",
      " $ PageImageWidth            : int  2481 2481 2481 2481 2481 2481 2481 2481 2481 2481 ...\n",
      " $ PageOCRAccuracy           : chr  \"97.9%\" \"100%\" \"99.8%\" \"99.7%\" ...\n",
      " $ PageTitle                 : chr  \"Обложка\" \"Ненумерованная стр.\" \"Страница 1\" \"Страница 2\" ...\n",
      " $ MeanOCRAccuracyVol        : num  99.3 99.3 99.3 99.3 99.3 99.3 99.3 99.3 99.3 99.3 ...\n",
      " $ PageViewURL               : chr  \"/cgi-bin/dea?a=d&d=AKgorizonty201701.1.1\" \"/cgi-bin/dea?a=d&d=AKgorizonty201701.1.2\" \"/cgi-bin/dea?a=d&d=AKgorizonty201701.1.3\" \"/cgi-bin/dea?a=d&d=AKgorizonty201701.1.4\" ...\n",
      " $ PageTextWordCount         : int  50 31 489 383 401 511 253 306 344 500 ...\n",
      " $ PagePrevPageID            : chr  \"\" \"AKgorizonty201701.1.1\" \"AKgorizonty201701.1.2\" \"AKgorizonty201701.1.3\" ...\n",
      " $ PageNextLogicalPageID     : chr  \"AKgorizonty201701.1.2\" \"AKgorizonty201701.1.3\" \"AKgorizonty201701.1.4\" \"AKgorizonty201701.1.5\" ...\n",
      " $ ArrayOfLogicalSectionBlock: chr  \"52,74,1128,345AKgorizonty201701.2.1ОбложкаCOVER_SECTION550,81,622,29AKgorizonty201701.2.1ОбложкаCOVER_SECTION0,\"| __truncated__ \"2,0,1231,1652AKgorizonty201701.2.2.1Ненумерованная стр. Объявление 1ADVERTISEMENT\" \"69,1183,331,253AKgorizonty201701.2.3ЗаголовокTITLE_SECTION69,1445,327,126AKgorizonty201701.2.3ЗаголовокTITLE_SE\"| __truncated__ \"78,80,397,69AKgorizonty201701.2.5СодержаниеTABLE_OF_CONTENTS585,523,358,334AKgorizonty201701.2.5СодержаниеTABLE\"| __truncated__ ...\n",
      " $ date                      : IDate, format: \"2017-01-01\" \"2017-01-01\" ...\n",
      " $ dateraw                   : int  201701 201701 201701 201701 201701 201701 201701 201701 201701 201701 ...\n",
      " $ year                      : int  2017 2017 2017 2017 2017 2017 2017 2017 2017 2017 ...\n",
      " $ decade                    : int  2010 2010 2010 2010 2010 2010 2010 2010 2010 2010 ...\n",
      " - attr(*, \".internal.selfref\")=<externalptr> \n"
     ]
    }
   ],
   "source": [
    "# str(subset_meta_pages) # output from 08/04"
   ]
  },
  {
   "cell_type": "code",
   "execution_count": 25,
   "id": "934df39e",
   "metadata": {},
   "outputs": [],
   "source": [
    "readr::write_tsv(subset_meta, \"test/meta_rus_subset_sections.tsv\")"
   ]
  },
  {
   "cell_type": "code",
   "execution_count": 26,
   "id": "fdbab03c",
   "metadata": {},
   "outputs": [],
   "source": [
    "readr::write_tsv(subset_meta_pages, \"test/meta_rus_subset_pages.tsv\")"
   ]
  },
  {
   "cell_type": "markdown",
   "id": "5f414ae5",
   "metadata": {},
   "source": [
    "### get_matching_texts test"
   ]
  },
  {
   "cell_type": "code",
   "execution_count": 36,
   "id": "777500d5",
   "metadata": {},
   "outputs": [
    {
     "name": "stdout",
     "output_type": "stream",
     "text": [
      "Classes ‘data.table’ and 'data.frame':\t38739 obs. of  60 variables:\n",
      " $ DocumentID           : chr  \"AKgorizonty201701\" \"AKgorizonty201801\" \"AKgorizonty201901\" \"AKgorizonty202001\" ...\n",
      " $ keyid                : chr  \"AKgorizonty\" \"AKgorizonty\" \"AKgorizonty\" \"AKgorizonty\" ...\n",
      " $ attrs                : int  1 2 3 4 5 1 1 2 3 4 ...\n",
      " $ DocumentDate         : chr  \"jaanuar 2017\" \"jaanuar 2018\" \"jaanuar 2019\" \"jaanuar 2020\" ...\n",
      " $ DocumentTitle        : chr  \"Горизонты Эстонии : человек, природа, наука\" \"Горизонты Эстонии : человек, природа, наука\" \"Горизонты Эстонии : человек, природа, наука\" \"Горизонты Эстонии : человек, природа, наука\" ...\n",
      " $ DocumentType         : chr  \"PERIODICAL\" \"PERIODICAL\" \"PERIODICAL\" \"PERIODICAL\" ...\n",
      " $ series               : chr  \"staging/all_pubs/all_vols_AKgorizonty.xml\" \"staging/all_pubs/all_vols_AKgorizonty.xml\" \"staging/all_pubs/all_vols_AKgorizonty.xml\" \"staging/all_pubs/all_vols_AKgorizonty.xml\" ...\n",
      " $ DocumentNumber       : chr  \"1\" \"1\" \"1\" \"1\" ...\n",
      " $ DocumentVolume       : chr  \"\" \"\" \"\" \"\" ...\n",
      " $ pages                : chr  \"staging/all_pubs/all_vols_AKgorizonty.xml.tsv\" \"staging/all_pubs/all_vols_AKgorizonty.xml.tsv\" \"staging/all_pubs/all_vols_AKgorizonty.xml.tsv\" \"staging/all_pubs/all_vols_AKgorizonty.xml.tsv\" ...\n",
      " $ sections             : chr  \"staging/all_pubs/all_vols_AKgorizonty.xml_sections.tsv\" \"staging/all_pubs/all_vols_AKgorizonty.xml_sections.tsv\" \"staging/all_pubs/all_vols_AKgorizonty.xml_sections.tsv\" \"staging/all_pubs/all_vols_AKgorizonty.xml_sections.tsv\" ...\n",
      " $ pages_sections       : chr  \"Both\" \"Both\" \"Both\" \"Both\" ...\n",
      " $ dateraw              : int  201701 201801 201901 202001 202101 201804 201701 201701 201702 201702 ...\n",
      " $ date                 : IDate, format: \"2017-01-01\" \"2018-01-01\" ...\n",
      " $ day                  : int  1 1 1 1 1 1 1 1 1 1 ...\n",
      " $ month                : int  1 1 1 1 1 4 1 1 2 2 ...\n",
      " $ year                 : int  2017 2018 2019 2020 2021 2018 2017 2017 2017 2017 ...\n",
      " $ firstyear            : int  2017 2017 2017 2017 2017 2018 2017 2017 2017 2017 ...\n",
      " $ lastyear             : int  2021 2021 2021 2021 2021 2018 2021 2021 2021 2021 ...\n",
      " $ title                : chr  \"Горизонты Эстонии : человек, природа, наука\" \"Горизонты Эстонии : человек, природа, наука\" \"Горизонты Эстонии : человек, природа, наука\" \"Горизонты Эстонии : человек, природа, наука\" ...\n",
      " $ issues               : int  5 5 5 5 5 1 120 120 120 120 ...\n",
      " $ zippath_pages        : chr  \"AKgorizonty/AKgorizonty_2017_pages.zip\" \"AKgorizonty/AKgorizonty_2018_pages.zip\" \"AKgorizonty/AKgorizonty_2019_pages.zip\" \"AKgorizonty/AKgorizonty_2020_pages.zip\" ...\n",
      " $ zippath_sections     : chr  \"AKgorizonty/AKgorizonty_2017_sections.zip\" \"AKgorizonty/AKgorizonty_2018_sections.zip\" \"AKgorizonty/AKgorizonty_2019_sections.zip\" \"AKgorizonty/AKgorizonty_2020_sections.zip\" ...\n",
      " $ basename_pages       : chr  \"AKgorizonty_2017_pages.zip\" \"AKgorizonty_2018_pages.zip\" \"AKgorizonty_2019_pages.zip\" \"AKgorizonty_2020_pages.zip\" ...\n",
      " $ basename_sections    : chr  \"AKgorizonty_2017_sections.zip\" \"AKgorizonty_2018_sections.zip\" \"AKgorizonty_2019_sections.zip\" \"AKgorizonty_2020_sections.zip\" ...\n",
      " $ access               : chr  \"embargo\" \"embargo\" \"embargo\" \"embargo\" ...\n",
      " $ user_access          : chr  \"age > 180 days\" \"age > 180 days\" \"age > 180 days\" \"age > 180 days\" ...\n",
      " $ latest_available     : IDate, format: \"2021-10-13\" \"2021-10-13\" ...\n",
      " $ rights_en            : chr  \"\" \"\" \"\" \"\" ...\n",
      " $ rights_et            : chr  \"\" \"\" \"\" \"\" ...\n",
      " $ rights_ru            : chr  \"\" \"\" \"\" \"\" ...\n",
      " $ embargo_en           : chr  \"Available after six months\" \"Available after six months\" \"Available after six months\" \"Available after six months\" ...\n",
      " $ embargo_et           : chr  \"Kättesaadav kuus kuud pärast ilmumist\" \"Kättesaadav kuus kuud pärast ilmumist\" \"Kättesaadav kuus kuud pärast ilmumist\" \"Kättesaadav kuus kuud pärast ilmumist\" ...\n",
      " $ embargo_ru           : chr  \"Полный доступ откроется через шесть месяцев после публикации\" \"Полный доступ откроется через шесть месяцев после публикации\" \"Полный доступ откроется через шесть месяцев после публикации\" \"Полный доступ откроется через шесть месяцев после публикации\" ...\n",
      " $ language             : chr  \"Russian\" \"Russian\" \"Russian\" \"Russian\" ...\n",
      " $ country              : chr  \"Estonia\" \"Estonia\" \"Estonia\" \"Estonia\" ...\n",
      " $ notes_en             : chr  \"Earlier volumes (published before 2017) can be found <a href=\\\"\\\"\\\"\\\"https://www.digar.ee/id/en/nlib-digar:7957\"| __truncated__ \"Earlier volumes (published before 2017) can be found <a href=\\\"\\\"\\\"\\\"https://www.digar.ee/id/en/nlib-digar:7957\"| __truncated__ \"Earlier volumes (published before 2017) can be found <a href=\\\"\\\"\\\"\\\"https://www.digar.ee/id/en/nlib-digar:7957\"| __truncated__ \"Earlier volumes (published before 2017) can be found <a href=\\\"\\\"\\\"\\\"https://www.digar.ee/id/en/nlib-digar:7957\"| __truncated__ ...\n",
      " $ notes_et             : chr  \"Varasemaid aastakäike (kuni 2017) vaata <a href=\\\"\\\"\\\"\\\"https://www.digar.ee/id/et/nlib-digar:79576\\\"\\\"\\\"\\\">dig\"| __truncated__ \"Varasemaid aastakäike (kuni 2017) vaata <a href=\\\"\\\"\\\"\\\"https://www.digar.ee/id/et/nlib-digar:79576\\\"\\\"\\\"\\\">dig\"| __truncated__ \"Varasemaid aastakäike (kuni 2017) vaata <a href=\\\"\\\"\\\"\\\"https://www.digar.ee/id/et/nlib-digar:79576\\\"\\\"\\\"\\\">dig\"| __truncated__ \"Varasemaid aastakäike (kuni 2017) vaata <a href=\\\"\\\"\\\"\\\"https://www.digar.ee/id/et/nlib-digar:79576\\\"\\\"\\\"\\\">dig\"| __truncated__ ...\n",
      " $ notes_ru             : chr  \"Более ранние выпуски (опубликованные до 2017 года) можно найти <a href=\\\"\\\"\\\"\\\"https://www.digar.ee/id/ru/nlib-\"| __truncated__ \"Более ранние выпуски (опубликованные до 2017 года) можно найти <a href=\\\"\\\"\\\"\\\"https://www.digar.ee/id/ru/nlib-\"| __truncated__ \"Более ранние выпуски (опубликованные до 2017 года) можно найти <a href=\\\"\\\"\\\"\\\"https://www.digar.ee/id/ru/nlib-\"| __truncated__ \"Более ранние выпуски (опубликованные до 2017 года) можно найти <a href=\\\"\\\"\\\"\\\"https://www.digar.ee/id/ru/nlib-\"| __truncated__ ...\n",
      " $ permalink            : chr  \"https://dea.digar.ee/publication/AKgorizonty\" \"https://dea.digar.ee/publication/AKgorizonty\" \"https://dea.digar.ee/publication/AKgorizonty\" \"https://dea.digar.ee/publication/AKgorizonty\" ...\n",
      " $ place                : chr  \"Tallinn (2003-)\" \"Tallinn (2003-)\" \"Tallinn (2003-)\" \"Tallinn (2003-)\" ...\n",
      " $ publisher            : chr  \"Loodusajakiri\" \"Loodusajakiri\" \"Loodusajakiri\" \"Loodusajakiri\" ...\n",
      " $ section              : chr  \"Natural and exact sciences\" \"Natural and exact sciences\" \"Natural and exact sciences\" \"Natural and exact sciences\" ...\n",
      " $ type                 : chr  \"Journal\" \"Journal\" \"Journal\" \"Journal\" ...\n",
      " $ ester_id             : chr  \"https://www.ester.ee/record=b1811967*est\" \"https://www.ester.ee/record=b1811967*est\" \"https://www.ester.ee/record=b1811967*est\" \"https://www.ester.ee/record=b1811967*est\" ...\n",
      " $ total_open           : logi  NA NA NA NA NA NA ...\n",
      " $ offlimits            : logi  NA NA NA NA NA NA ...\n",
      " $ access_now           : logi  TRUE TRUE TRUE TRUE TRUE TRUE ...\n",
      " $ temp                 : int  1 1 1 1 1 1 1 1 1 1 ...\n",
      " $ n_articles           : int  33 39 42 37 49 17 20 27 28 26 ...\n",
      " $ n_pages              : int  100 100 100 100 100 12 36 36 36 36 ...\n",
      " $ n_articles_lemmas    : int  33 39 42 37 49 17 20 27 28 26 ...\n",
      " $ n_pages_lemmas       : int  100 100 100 100 100 12 36 36 36 36 ...\n",
      " $ n_articles_metadata  : int  33 39 42 37 49 17 20 27 28 26 ...\n",
      " $ n_pages_metadata     : int  100 100 100 100 100 12 36 36 36 36 ...\n",
      " $ pages_exist          : logi  TRUE TRUE TRUE TRUE TRUE TRUE ...\n",
      " $ sections_exist       : logi  TRUE TRUE TRUE TRUE TRUE TRUE ...\n",
      " $ decade               : int  2010 2010 2010 2020 2020 2010 2010 2010 2010 2010 ...\n",
      " $ zippath_pages_meta   : chr  \"AKgorizonty/AKgorizonty_2010_pages_meta.zip\" \"AKgorizonty/AKgorizonty_2010_pages_meta.zip\" \"AKgorizonty/AKgorizonty_2010_pages_meta.zip\" \"AKgorizonty/AKgorizonty_2020_pages_meta.zip\" ...\n",
      " $ zippath_sections_meta: chr  \"AKgorizonty/AKgorizonty_2010_sections_meta.zip\" \"AKgorizonty/AKgorizonty_2010_sections_meta.zip\" \"AKgorizonty/AKgorizonty_2010_sections_meta.zip\" \"AKgorizonty/AKgorizonty_2020_sections_meta.zip\" ...\n",
      " - attr(*, \".internal.selfref\")=<externalptr> \n"
     ]
    }
   ],
   "source": [
    "str(subset) # subset with language == 'Russian'"
   ]
  },
  {
   "cell_type": "code",
   "execution_count": 37,
   "id": "0232eaf6",
   "metadata": {},
   "outputs": [
    {
     "name": "stdout",
     "output_type": "stream",
     "text": [
      "Classes ‘data.table’ and 'data.frame':\t10 obs. of  60 variables:\n",
      " $ DocumentID           : chr  \"livzeitung18521101\" \"livzeitung18521108\" \"livzeitung18521112\" \"livzeitung18521115\" ...\n",
      " $ keyid                : chr  \"livzeitung\" \"livzeitung\" \"livzeitung\" \"livzeitung\" ...\n",
      " $ attrs                : int  1 2 3 4 5 6 7 8 9 10\n",
      " $ DocumentDate         : chr  \"1 november 1852\" \"8 november 1852\" \"12 november 1852\" \"15 november 1852\" ...\n",
      " $ DocumentTitle        : chr  \"Лифляндские губернские ведомости = Livländische Gouvernements-Zeitung\" \"Лифляндские губернские ведомости = Livländische Gouvernements-Zeitung\" \"Лифляндские губернские ведомости = Livländische Gouvernements-Zeitung\" \"Лифляндские губернские ведомости = Livländische Gouvernements-Zeitung\" ...\n",
      " $ DocumentType         : chr  \"NEWSPAPER\" \"NEWSPAPER\" \"NEWSPAPER\" \"NEWSPAPER\" ...\n",
      " $ series               : chr  \"staging/all_pubs/all_vols_livzeitung.xml\" \"staging/all_pubs/all_vols_livzeitung.xml\" \"staging/all_pubs/all_vols_livzeitung.xml\" \"staging/all_pubs/all_vols_livzeitung.xml\" ...\n",
      " $ DocumentNumber       : chr  \"1\" \"3\" \"4\" \"5\" ...\n",
      " $ DocumentVolume       : chr  \"\" \"\" \"\" \"\" ...\n",
      " $ pages                : chr  \"staging/all_pubs/all_vols_livzeitung.xml.tsv\" \"staging/all_pubs/all_vols_livzeitung.xml.tsv\" \"staging/all_pubs/all_vols_livzeitung.xml.tsv\" \"staging/all_pubs/all_vols_livzeitung.xml.tsv\" ...\n",
      " $ sections             : chr  \"staging/all_pubs/all_vols_livzeitung.xml_sections.tsv\" \"staging/all_pubs/all_vols_livzeitung.xml_sections.tsv\" \"staging/all_pubs/all_vols_livzeitung.xml_sections.tsv\" \"staging/all_pubs/all_vols_livzeitung.xml_sections.tsv\" ...\n",
      " $ pages_sections       : chr  \"Both\" \"Both\" \"Both\" \"Both\" ...\n",
      " $ dateraw              : int  18521101 18521108 18521112 18521115 18521122 18521126 18521129 18521203 18521206 18521210\n",
      " $ date                 : IDate, format: \"1852-11-01\" \"1852-11-08\" ...\n",
      " $ day                  : int  1 8 12 15 22 26 29 3 6 10\n",
      " $ month                : int  11 11 11 11 11 11 11 12 12 12\n",
      " $ year                 : int  1852 1852 1852 1852 1852 1852 1852 1852 1852 1852\n",
      " $ firstyear            : int  1852 1852 1852 1852 1852 1852 1852 1852 1852 1852\n",
      " $ lastyear             : int  1913 1913 1913 1913 1913 1913 1913 1913 1913 1913\n",
      " $ title                : chr  \"Лифляндские губернские ведомости = Livländische Gouvernements-Zeitung\" \"Лифляндские губернские ведомости = Livländische Gouvernements-Zeitung\" \"Лифляндские губернские ведомости = Livländische Gouvernements-Zeitung\" \"Лифляндские губернские ведомости = Livländische Gouvernements-Zeitung\" ...\n",
      " $ issues               : int  8660 8660 8660 8660 8660 8660 8660 8660 8660 8660\n",
      " $ zippath_pages        : chr  \"livzeitung/livzeitung_1852_pages.zip\" \"livzeitung/livzeitung_1852_pages.zip\" \"livzeitung/livzeitung_1852_pages.zip\" \"livzeitung/livzeitung_1852_pages.zip\" ...\n",
      " $ zippath_sections     : chr  \"livzeitung/livzeitung_1852_sections.zip\" \"livzeitung/livzeitung_1852_sections.zip\" \"livzeitung/livzeitung_1852_sections.zip\" \"livzeitung/livzeitung_1852_sections.zip\" ...\n",
      " $ basename_pages       : chr  \"livzeitung_1852_pages.zip\" \"livzeitung_1852_pages.zip\" \"livzeitung_1852_pages.zip\" \"livzeitung_1852_pages.zip\" ...\n",
      " $ basename_sections    : chr  \"livzeitung_1852_sections.zip\" \"livzeitung_1852_sections.zip\" \"livzeitung_1852_sections.zip\" \"livzeitung_1852_sections.zip\" ...\n",
      " $ access               : chr  \"open\" \"open\" \"open\" \"open\" ...\n",
      " $ user_access          : chr  \"true\" \"true\" \"true\" \"true\" ...\n",
      " $ latest_available     : IDate, format: NA NA ...\n",
      " $ rights_en            : chr  \"Free access - restricted use. This publication's copyright protection has expired but the rights of works conta\"| __truncated__ \"Free access - restricted use. This publication's copyright protection has expired but the rights of works conta\"| __truncated__ \"Free access - restricted use. This publication's copyright protection has expired but the rights of works conta\"| __truncated__ \"Free access - restricted use. This publication's copyright protection has expired but the rights of works conta\"| __truncated__ ...\n",
      " $ rights_et            : chr  \"Vaba juurdepääs - piiratud kasutus. Väljaande autoriõiguste kaitse tähtaeg on lõppenud, kuid väljaandes sisaldu\"| __truncated__ \"Vaba juurdepääs - piiratud kasutus. Väljaande autoriõiguste kaitse tähtaeg on lõppenud, kuid väljaandes sisaldu\"| __truncated__ \"Vaba juurdepääs - piiratud kasutus. Väljaande autoriõiguste kaitse tähtaeg on lõppenud, kuid väljaandes sisaldu\"| __truncated__ \"Vaba juurdepääs - piiratud kasutus. Väljaande autoriõiguste kaitse tähtaeg on lõppenud, kuid väljaandes sisaldu\"| __truncated__ ...\n",
      " $ rights_ru            : chr  \"Свободный доступ - ограниченное пользование. Срок защиты авторских прав публикации закончился, но права некотор\"| __truncated__ \"Свободный доступ - ограниченное пользование. Срок защиты авторских прав публикации закончился, но права некотор\"| __truncated__ \"Свободный доступ - ограниченное пользование. Срок защиты авторских прав публикации закончился, но права некотор\"| __truncated__ \"Свободный доступ - ограниченное пользование. Срок защиты авторских прав публикации закончился, но права некотор\"| __truncated__ ...\n",
      " $ embargo_en           : chr  \"\" \"\" \"\" \"\" ...\n",
      " $ embargo_et           : chr  \"\" \"\" \"\" \"\" ...\n",
      " $ embargo_ru           : chr  \"\" \"\" \"\" \"\" ...\n",
      " $ language             : chr  \"Russian\" \"Russian\" \"Russian\" \"Russian\" ...\n",
      " $ country              : chr  \"Latvia\" \"Latvia\" \"Latvia\" \"Latvia\" ...\n",
      " $ notes_en             : chr  \"\" \"\" \"\" \"\" ...\n",
      " $ notes_et             : chr  \"\" \"\" \"\" \"\" ...\n",
      " $ notes_ru             : chr  \"\" \"\" \"\" \"\" ...\n",
      " $ permalink            : chr  \"https://dea.digar.ee/publication/livzeitung\" \"https://dea.digar.ee/publication/livzeitung\" \"https://dea.digar.ee/publication/livzeitung\" \"https://dea.digar.ee/publication/livzeitung\" ...\n",
      " $ place                : chr  \"Рига (1852-1917)\" \"Рига (1852-1917)\" \"Рига (1852-1917)\" \"Рига (1852-1917)\" ...\n",
      " $ publisher            : chr  \"[s.n.]\" \"[s.n.]\" \"[s.n.]\" \"[s.n.]\" ...\n",
      " $ section              : chr  \"Local newspaper\" \"Local newspaper\" \"Local newspaper\" \"Local newspaper\" ...\n",
      " $ type                 : chr  \"Newspaper\" \"Newspaper\" \"Newspaper\" \"Newspaper\" ...\n",
      " $ ester_id             : chr  \"https://www.ester.ee/record=b1474047*est\" \"https://www.ester.ee/record=b1474047*est\" \"https://www.ester.ee/record=b1474047*est\" \"https://www.ester.ee/record=b1474047*est\" ...\n",
      " $ total_open           : logi  TRUE TRUE TRUE TRUE TRUE TRUE ...\n",
      " $ offlimits            : logi  NA NA NA NA NA NA ...\n",
      " $ access_now           : logi  TRUE TRUE TRUE TRUE TRUE TRUE ...\n",
      " $ temp                 : int  1 1 1 1 1 1 1 1 1 1\n",
      " $ n_articles           : int  12 18 17 20 15 14 15 19 21 21\n",
      " $ n_pages              : int  8 8 8 8 8 8 8 12 12 16\n",
      " $ n_articles_lemmas    : int  12 18 17 20 15 14 15 19 21 21\n",
      " $ n_pages_lemmas       : int  8 8 8 8 8 8 8 12 12 16\n",
      " $ n_articles_metadata  : int  12 18 17 20 15 14 15 19 21 21\n",
      " $ n_pages_metadata     : int  8 8 8 8 8 8 8 12 12 16\n",
      " $ pages_exist          : logi  TRUE TRUE TRUE TRUE TRUE TRUE ...\n",
      " $ sections_exist       : logi  TRUE TRUE TRUE TRUE TRUE TRUE ...\n",
      " $ decade               : int  1850 1850 1850 1850 1850 1850 1850 1850 1850 1850\n",
      " $ zippath_pages_meta   : chr  \"livzeitung/livzeitung_1850_pages_meta.zip\" \"livzeitung/livzeitung_1850_pages_meta.zip\" \"livzeitung/livzeitung_1850_pages_meta.zip\" \"livzeitung/livzeitung_1850_pages_meta.zip\" ...\n",
      " $ zippath_sections_meta: chr  \"livzeitung/livzeitung_1850_sections_meta.zip\" \"livzeitung/livzeitung_1850_sections_meta.zip\" \"livzeitung/livzeitung_1850_sections_meta.zip\" \"livzeitung/livzeitung_1850_sections_meta.zip\" ...\n",
      " - attr(*, \".internal.selfref\")=<externalptr> \n"
     ]
    }
   ],
   "source": [
    "# test subset for 10 sections from a Russian journal of 1852\n",
    "# for some reasons get_subset_meta doesn't provide with zip-paths for texts download\n",
    "# the subset for get_matching_files() should be the subset got from get_digar_overview()\n",
    "\n",
    "test_tb <- subset[subset$year == 1852, ][1:10]\n",
    "str(test_tb)"
   ]
  },
  {
   "cell_type": "code",
   "execution_count": 43,
   "id": "dc0666a9",
   "metadata": {},
   "outputs": [
    {
     "ename": "ERROR",
     "evalue": "Error in paste0(keyid, \"/\", year, \"/\", month, \"/\", id): cannot coerce type 'closure' to vector of type 'character'\n",
     "output_type": "error",
     "traceback": [
      "Error in paste0(keyid, \"/\", year, \"/\", month, \"/\", id): cannot coerce type 'closure' to vector of type 'character'\nTraceback:\n",
      "1. get_matching_files(test_tb, outputfile = \"libzeitung.txt\", source = \"pages\", \n .     extracttype = \"text\")",
      "2. fileids_w_meta[, `:=`(inzippath, paste0(keyid, \"/\", year, \"/\", \n .     month, \"/\", id))]",
      "3. `[.data.table`(fileids_w_meta, , `:=`(inzippath, paste0(keyid, \n .     \"/\", year, \"/\", month, \"/\", id)))",
      "4. eval(jsub, SDenv, parent.frame())",
      "5. eval(jsub, SDenv, parent.frame())",
      "6. paste0(keyid, \"/\", year, \"/\", month, \"/\", id)"
     ]
    }
   ],
   "source": [
    "# get_matching_files(test_tb, outputfile = \"test/libzeitung.txt\", source = \"pages\", \n",
    "#                   extracttype = \"text\")\n",
    "\n",
    "# creates an error bcs of the line 35:\n",
    "# fileids_w_meta[,inzippath:=paste0(keyid,\"/\",year,\"/\",month,\"/\",id)]\n",
    "# Error in paste0(keyid, \"/\", year, \"/\", month, \"/\", id): cannot coerce type 'closure' to vector of type 'character'\n",
    "# there's no 'id' column in the metadata"
   ]
  }
 ],
 "metadata": {
  "kernelspec": {
   "display_name": "R 4.1.2",
   "language": "R",
   "name": "ir4-1"
  },
  "language_info": {
   "codemirror_mode": "r",
   "file_extension": ".r",
   "mimetype": "text/x-r-source",
   "name": "R",
   "pygments_lexer": "r",
   "version": "4.1.2"
  }
 },
 "nbformat": 4,
 "nbformat_minor": 5
}
