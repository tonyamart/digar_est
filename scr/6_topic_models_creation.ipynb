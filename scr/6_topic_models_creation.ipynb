{
 "cells": [
  {
   "cell_type": "markdown",
   "metadata": {
    "id": "LoBcbuZaCuj0"
   },
   "source": [
    "# Text prerprocessing and topic modelling\n",
    "\n",
    "This notebook shows the stages of data preparation and modelling for the thematic analysis of newspaper texts. The notebook is devided according to three sets of data used in the report: 1880s and 1917 newspapers (page-level data) and 1880s newspapers' text sections."
   ]
  },
  {
   "cell_type": "code",
   "execution_count": null,
   "metadata": {
    "colab": {
     "base_uri": "https://localhost:8080/",
     "height": 34
    },
    "id": "-61QCAgxlioU",
    "outputId": "589b6010-9fc9-4467-c65b-94b58cd12c7e"
   },
   "outputs": [
    {
     "data": {
      "text/html": [
       "'R version 4.2.1 (2022-06-23)'"
      ],
      "text/latex": [
       "'R version 4.2.1 (2022-06-23)'"
      ],
      "text/markdown": [
       "'R version 4.2.1 (2022-06-23)'"
      ],
      "text/plain": [
       "[1] \"R version 4.2.1 (2022-06-23)\""
      ]
     },
     "metadata": {},
     "output_type": "display_data"
    }
   ],
   "source": [
    "R.version.string"
   ]
  },
  {
   "cell_type": "markdown",
   "metadata": {
    "id": "0QULU-7Xp0QT"
   },
   "source": [
    "Installation of packages:  \n",
    "`httpuv` & `googledrive` for accessing google drive files via R colab notebook  \n",
    "`tidytext`, `tidyverse` & `topicmodels` for preprocessing and building the model"
   ]
  },
  {
   "cell_type": "code",
   "execution_count": null,
   "metadata": {
    "id": "Mi3HHXDGmHGv"
   },
   "outputs": [],
   "source": [
    "system2('sudo', 'apt-get install libgsl0-dev')"
   ]
  },
  {
   "cell_type": "code",
   "execution_count": null,
   "metadata": {
    "colab": {
     "base_uri": "https://localhost:8080/"
    },
    "id": "RhvhkQholuPJ",
    "outputId": "affb06f0-626f-47a3-d3b2-f27542993c98"
   },
   "outputs": [
    {
     "name": "stderr",
     "output_type": "stream",
     "text": [
      "Installing package into ‘/usr/local/lib/R/site-library’\n",
      "(as ‘lib’ is unspecified)\n",
      "\n",
      "also installing the dependencies ‘NLP’, ‘Rcpp’, ‘BH’, ‘modeltools’, ‘slam’, ‘tm’\n",
      "\n",
      "\n"
     ]
    }
   ],
   "source": [
    "install.packages(\"topicmodels\")"
   ]
  },
  {
   "cell_type": "code",
   "execution_count": null,
   "metadata": {
    "id": "tGncdsv9mpsa"
   },
   "outputs": [],
   "source": [
    "library(topicmodels)"
   ]
  },
  {
   "cell_type": "code",
   "execution_count": null,
   "metadata": {
    "colab": {
     "base_uri": "https://localhost:8080/"
    },
    "id": "v5rOVhRJmzK_",
    "outputId": "0aa6132f-4a0f-401b-a87e-381798c03592"
   },
   "outputs": [
    {
     "name": "stderr",
     "output_type": "stream",
     "text": [
      "Warning message in system(\"timedatectl\", intern = TRUE):\n",
      "“running command 'timedatectl' had status 1”\n",
      "── \u001b[1mAttaching packages\u001b[22m ─────────────────────────────────────── tidyverse 1.3.1 ──\n",
      "\n",
      "\u001b[32m✔\u001b[39m \u001b[34mggplot2\u001b[39m 3.4.0      \u001b[32m✔\u001b[39m \u001b[34mpurrr  \u001b[39m 0.3.5 \n",
      "\u001b[32m✔\u001b[39m \u001b[34mtibble \u001b[39m 3.1.8      \u001b[32m✔\u001b[39m \u001b[34mdplyr  \u001b[39m 1.0.10\n",
      "\u001b[32m✔\u001b[39m \u001b[34mtidyr  \u001b[39m 1.2.1      \u001b[32m✔\u001b[39m \u001b[34mstringr\u001b[39m 1.4.1 \n",
      "\u001b[32m✔\u001b[39m \u001b[34mreadr  \u001b[39m 2.1.3      \u001b[32m✔\u001b[39m \u001b[34mforcats\u001b[39m 0.5.2 \n",
      "\n",
      "── \u001b[1mConflicts\u001b[22m ────────────────────────────────────────── tidyverse_conflicts() ──\n",
      "\u001b[31m✖\u001b[39m \u001b[34mdplyr\u001b[39m::\u001b[32mfilter()\u001b[39m masks \u001b[34mstats\u001b[39m::filter()\n",
      "\u001b[31m✖\u001b[39m \u001b[34mdplyr\u001b[39m::\u001b[32mlag()\u001b[39m    masks \u001b[34mstats\u001b[39m::lag()\n",
      "\n"
     ]
    }
   ],
   "source": [
    "library(tidyverse)"
   ]
  },
  {
   "cell_type": "code",
   "execution_count": null,
   "metadata": {
    "colab": {
     "base_uri": "https://localhost:8080/"
    },
    "id": "CucjmXvDrhc1",
    "outputId": "7d609045-ac3a-40ec-8ede-03c95202b3dc"
   },
   "outputs": [
    {
     "name": "stderr",
     "output_type": "stream",
     "text": [
      "Installing package into ‘/usr/local/lib/R/site-library’\n",
      "(as ‘lib’ is unspecified)\n",
      "\n",
      "also installing the dependencies ‘promises’, ‘later’\n",
      "\n",
      "\n"
     ]
    }
   ],
   "source": [
    "install.packages(\"googledrive\") \n",
    "install.packages(\"httpuv\") \n",
    "library(\"googledrive\") \n",
    "library(\"httpuv\")"
   ]
  },
  {
   "cell_type": "code",
   "execution_count": null,
   "metadata": {
    "colab": {
     "base_uri": "https://localhost:8080/"
    },
    "id": "ehmFmORBaz4e",
    "outputId": "cb30895c-be11-45a9-c8e6-41612ea36fd9"
   },
   "outputs": [
    {
     "name": "stderr",
     "output_type": "stream",
     "text": [
      "Installing package into ‘/usr/local/lib/R/site-library’\n",
      "(as ‘lib’ is unspecified)\n",
      "\n",
      "also installing the dependencies ‘SnowballC’, ‘hunspell’, ‘janeaustenr’, ‘tokenizers’\n",
      "\n",
      "\n"
     ]
    }
   ],
   "source": [
    "install.packages(\"tidytext\")\n",
    "library(tidytext)"
   ]
  },
  {
   "cell_type": "code",
   "execution_count": null,
   "metadata": {
    "colab": {
     "base_uri": "https://localhost:8080/"
    },
    "id": "FlBkuaaDcnek",
    "outputId": "c2d16489-7144-464d-8f11-a9e148fc28a0"
   },
   "outputs": [
    {
     "name": "stderr",
     "output_type": "stream",
     "text": [
      "Installing package into ‘/usr/local/lib/R/site-library’\n",
      "(as ‘lib’ is unspecified)\n",
      "\n",
      "also installing the dependency ‘plyr’\n",
      "\n",
      "\n",
      "\n",
      "Attaching package: ‘reshape2’\n",
      "\n",
      "\n",
      "The following object is masked from ‘package:tidyr’:\n",
      "\n",
      "    smiths\n",
      "\n",
      "\n"
     ]
    }
   ],
   "source": [
    "install.packages(\"reshape2\")\n",
    "library(reshape2)"
   ]
  },
  {
   "cell_type": "code",
   "execution_count": null,
   "metadata": {
    "colab": {
     "base_uri": "https://localhost:8080/",
     "height": 34
    },
    "id": "xIsDJm7Xzdac",
    "outputId": "491de50b-ae28-4e8b-dc00-8147e0dcb56a"
   },
   "outputs": [
    {
     "data": {
      "text/html": [
       "'/content'"
      ],
      "text/latex": [
       "'/content'"
      ],
      "text/markdown": [
       "'/content'"
      ],
      "text/plain": [
       "[1] \"/content\""
      ]
     },
     "metadata": {},
     "output_type": "display_data"
    }
   ],
   "source": [
    "getwd()"
   ]
  },
  {
   "cell_type": "code",
   "execution_count": null,
   "metadata": {
    "colab": {
     "base_uri": "https://localhost:8080/",
     "height": 34
    },
    "id": "6DkGbvpQzyYg",
    "outputId": "afcc4686-45de-4d26-ef12-2e7a2ba49836"
   },
   "outputs": [
    {
     "data": {
      "text/html": [
       "'sample_data'"
      ],
      "text/latex": [
       "'sample\\_data'"
      ],
      "text/markdown": [
       "'sample_data'"
      ],
      "text/plain": [
       "[1] \"sample_data\""
      ]
     },
     "metadata": {},
     "output_type": "display_data"
    }
   ],
   "source": [
    "system(\"ls\", TRUE)"
   ]
  },
  {
   "cell_type": "markdown",
   "metadata": {
    "id": "umjH564UrKzp"
   },
   "source": [
    "## 1917\n",
    "\n",
    "This part downloads lemmatised data table with frequencies, filter stopwords and select MFW for the dtm and topic model"
   ]
  },
  {
   "cell_type": "code",
   "execution_count": null,
   "metadata": {
    "id": "P-1E7LMQiL47"
   },
   "outputs": [],
   "source": [
    "system(\"gdown --id  1nu77CYgOhiVGAtBa0U0MHfwlD-fwlXEK\") # 1917"
   ]
  },
  {
   "cell_type": "code",
   "execution_count": null,
   "metadata": {
    "colab": {
     "base_uri": "https://localhost:8080/"
    },
    "id": "YE4KtPSJJC0g",
    "outputId": "ef3e2354-f824-42c6-c8db-479cc29efdcf"
   },
   "outputs": [
    {
     "name": "stderr",
     "output_type": "stream",
     "text": [
      "Warning message in scan(file = file, what = what, sep = sep, quote = quote, dec = dec, :\n",
      "“embedded nul(s) found in input”\n"
     ]
    }
   ],
   "source": [
    "np_1917 <- read.csv(\"MFW_1917.csv\")"
   ]
  },
  {
   "cell_type": "code",
   "execution_count": null,
   "metadata": {
    "colab": {
     "base_uri": "https://localhost:8080/",
     "height": 286
    },
    "id": "fvHRKgkcXTcW",
    "outputId": "412457af-c80b-4192-f447-3f4956ef4b22"
   },
   "outputs": [
    {
     "data": {
      "text/html": [
       "<table class=\"dataframe\">\n",
       "<caption>A data.frame: 6 × 3</caption>\n",
       "<thead>\n",
       "\t<tr><th></th><th scope=col>PageID</th><th scope=col>lemma</th><th scope=col>n</th></tr>\n",
       "\t<tr><th></th><th scope=col>&lt;chr&gt;</th><th scope=col>&lt;chr&gt;</th><th scope=col>&lt;int&gt;</th></tr>\n",
       "</thead>\n",
       "<tbody>\n",
       "\t<tr><th scope=row>1</th><td>revelskojeslovo19170201.1.2</td><td>и </td><td>191</td></tr>\n",
       "\t<tr><th scope=row>2</th><td>nasheslovo19171129.1.2     </td><td>gt</td><td>189</td></tr>\n",
       "\t<tr><th scope=row>3</th><td>nasheslovo19171123.1.3     </td><td>gt</td><td>183</td></tr>\n",
       "\t<tr><th scope=row>4</th><td>revelskojeslovo19170722.1.2</td><td>и </td><td>178</td></tr>\n",
       "\t<tr><th scope=row>5</th><td>revelskojeslovo19170803.1.2</td><td>и </td><td>178</td></tr>\n",
       "\t<tr><th scope=row>6</th><td>revelskojeslovo19170609.1.2</td><td>и </td><td>169</td></tr>\n",
       "</tbody>\n",
       "</table>\n"
      ],
      "text/latex": [
       "A data.frame: 6 × 3\n",
       "\\begin{tabular}{r|lll}\n",
       "  & PageID & lemma & n\\\\\n",
       "  & <chr> & <chr> & <int>\\\\\n",
       "\\hline\n",
       "\t1 & revelskojeslovo19170201.1.2 & и  & 191\\\\\n",
       "\t2 & nasheslovo19171129.1.2      & gt & 189\\\\\n",
       "\t3 & nasheslovo19171123.1.3      & gt & 183\\\\\n",
       "\t4 & revelskojeslovo19170722.1.2 & и  & 178\\\\\n",
       "\t5 & revelskojeslovo19170803.1.2 & и  & 178\\\\\n",
       "\t6 & revelskojeslovo19170609.1.2 & и  & 169\\\\\n",
       "\\end{tabular}\n"
      ],
      "text/markdown": [
       "\n",
       "A data.frame: 6 × 3\n",
       "\n",
       "| <!--/--> | PageID &lt;chr&gt; | lemma &lt;chr&gt; | n &lt;int&gt; |\n",
       "|---|---|---|---|\n",
       "| 1 | revelskojeslovo19170201.1.2 | и  | 191 |\n",
       "| 2 | nasheslovo19171129.1.2      | gt | 189 |\n",
       "| 3 | nasheslovo19171123.1.3      | gt | 183 |\n",
       "| 4 | revelskojeslovo19170722.1.2 | и  | 178 |\n",
       "| 5 | revelskojeslovo19170803.1.2 | и  | 178 |\n",
       "| 6 | revelskojeslovo19170609.1.2 | и  | 169 |\n",
       "\n"
      ],
      "text/plain": [
       "  PageID                      lemma n  \n",
       "1 revelskojeslovo19170201.1.2 и     191\n",
       "2 nasheslovo19171129.1.2      gt    189\n",
       "3 nasheslovo19171123.1.3      gt    183\n",
       "4 revelskojeslovo19170722.1.2 и     178\n",
       "5 revelskojeslovo19170803.1.2 и     178\n",
       "6 revelskojeslovo19170609.1.2 и     169"
      ]
     },
     "metadata": {},
     "output_type": "display_data"
    }
   ],
   "source": [
    "np_1917_tt <- np_1917 %>% select(PageID, lemma, n)\n",
    "head(np_1917_tt)"
   ]
  },
  {
   "cell_type": "code",
   "execution_count": null,
   "metadata": {
    "id": "zio11WNGZco4"
   },
   "outputs": [],
   "source": [
    "stoplist <- c(\"что\", \"это\", \"быть\", \"тот\", \"который\", \"\", \"они\", \"для\", \"наш\", \"свой\", \"этот\", \"тот\", \"как\", \"все\", \"год\",\n",
    "\"при\", \"час\", \"она\", \"есть\", \"чтобы\", \"давать\", \"один\", \"только\", \"время\", \"кто\", \"так\", \"огь\", \"уже\", \"ваш\", \"сто\", \"amp\",\n",
    "\"1917\", \"1916\", \"под\", \"сие\", \"или\", \"день\", \"оть\", \"пта\",\n",
    "\"январь\", \"февраль\", \"март\", \"апрель\", \"май\", \"июнь\", \"июль\", \"август\", \"сентябрь\", \"октябрь\", \"ноябрь\", \"декабрь\", \n",
    "\"апр\", \"ола\", \"кал\", \"вол\", \"ком\", \"коми\", \"сент\", \"дтя\", \"ото\", \"ода\", \"кой\", \"walla\",\n",
    "\"власть\", \"часть\", \"еще\", \"весь\", \"должный\", \"такой\", \"если\", \"себя\", \"сам\", \"окт\", \"том\", \"когда\", \"про\", \"прo\", \"копа\", \"руб\",\n",
    "\"теперь\", \"также\", \"без\", \"лишь\", \"раз\")"
   ]
  },
  {
   "cell_type": "markdown",
   "metadata": {
    "id": "E4v8mkBnEI55"
   },
   "source": [
    "Filtering stoplist and correct one very frequent OCR misspelling"
   ]
  },
  {
   "cell_type": "code",
   "execution_count": null,
   "metadata": {
    "id": "ifynwWJzXiYj"
   },
   "outputs": [],
   "source": [
    "np_1917_t <- np_1917_tt %>% \n",
    "  select(PageID, lemma, n) %>% \n",
    "  filter(!str_detect(lemma, \"^\\\\w$|^\\\\w{2}$|^\\\\d+$\") & !lemma %in% stoplist) %>% \n",
    "  mutate(lemma = ifelse(lemma == \"чго\", \"что\", lemma))"
   ]
  },
  {
   "cell_type": "code",
   "execution_count": null,
   "metadata": {
    "colab": {
     "base_uri": "https://localhost:8080/",
     "height": 304
    },
    "id": "PbuAiSDhX1d2",
    "outputId": "a7db951e-f327-45be-fa31-8ae91c4ac25d"
   },
   "outputs": [
    {
     "data": {
      "text/html": [
       "<table class=\"dataframe\">\n",
       "<caption>A data.frame: 6 × 3</caption>\n",
       "<thead>\n",
       "\t<tr><th></th><th scope=col>PageID</th><th scope=col>lemma</th><th scope=col>n</th></tr>\n",
       "\t<tr><th></th><th scope=col>&lt;chr&gt;</th><th scope=col>&lt;chr&gt;</th><th scope=col>&lt;int&gt;</th></tr>\n",
       "</thead>\n",
       "<tbody>\n",
       "\t<tr><th scope=row>1</th><td>ekmteataja19170608.1.4            </td><td>wallas </td><td>81</td></tr>\n",
       "\t<tr><th scope=row>2</th><td>tooljasojavnoukteat19170505.1.2   </td><td>кат    </td><td>76</td></tr>\n",
       "\t<tr><th scope=row>3</th><td>svobodnojeslovosoldata19170519.1.4</td><td>клуб   </td><td>55</td></tr>\n",
       "\t<tr><th scope=row>4</th><td>tooljasojavnoukteat19170730.1.3   </td><td>рабочтй</td><td>45</td></tr>\n",
       "\t<tr><th scope=row>5</th><td>tooljasojavnoukteat19171104.1.3   </td><td>тов    </td><td>45</td></tr>\n",
       "\t<tr><th scope=row>6</th><td>ekmteataja19171026.1.4            </td><td>ревель </td><td>40</td></tr>\n",
       "</tbody>\n",
       "</table>\n"
      ],
      "text/latex": [
       "A data.frame: 6 × 3\n",
       "\\begin{tabular}{r|lll}\n",
       "  & PageID & lemma & n\\\\\n",
       "  & <chr> & <chr> & <int>\\\\\n",
       "\\hline\n",
       "\t1 & ekmteataja19170608.1.4             & wallas  & 81\\\\\n",
       "\t2 & tooljasojavnoukteat19170505.1.2    & кат     & 76\\\\\n",
       "\t3 & svobodnojeslovosoldata19170519.1.4 & клуб    & 55\\\\\n",
       "\t4 & tooljasojavnoukteat19170730.1.3    & рабочтй & 45\\\\\n",
       "\t5 & tooljasojavnoukteat19171104.1.3    & тов     & 45\\\\\n",
       "\t6 & ekmteataja19171026.1.4             & ревель  & 40\\\\\n",
       "\\end{tabular}\n"
      ],
      "text/markdown": [
       "\n",
       "A data.frame: 6 × 3\n",
       "\n",
       "| <!--/--> | PageID &lt;chr&gt; | lemma &lt;chr&gt; | n &lt;int&gt; |\n",
       "|---|---|---|---|\n",
       "| 1 | ekmteataja19170608.1.4             | wallas  | 81 |\n",
       "| 2 | tooljasojavnoukteat19170505.1.2    | кат     | 76 |\n",
       "| 3 | svobodnojeslovosoldata19170519.1.4 | клуб    | 55 |\n",
       "| 4 | tooljasojavnoukteat19170730.1.3    | рабочтй | 45 |\n",
       "| 5 | tooljasojavnoukteat19171104.1.3    | тов     | 45 |\n",
       "| 6 | ekmteataja19171026.1.4             | ревель  | 40 |\n",
       "\n"
      ],
      "text/plain": [
       "  PageID                             lemma   n \n",
       "1 ekmteataja19170608.1.4             wallas  81\n",
       "2 tooljasojavnoukteat19170505.1.2    кат     76\n",
       "3 svobodnojeslovosoldata19170519.1.4 клуб    55\n",
       "4 tooljasojavnoukteat19170730.1.3    рабочтй 45\n",
       "5 tooljasojavnoukteat19171104.1.3    тов     45\n",
       "6 ekmteataja19171026.1.4             ревель  40"
      ]
     },
     "metadata": {},
     "output_type": "display_data"
    },
    {
     "data": {
      "text/html": [
       "4015719"
      ],
      "text/latex": [
       "4015719"
      ],
      "text/markdown": [
       "4015719"
      ],
      "text/plain": [
       "[1] 4015719"
      ]
     },
     "metadata": {},
     "output_type": "display_data"
    }
   ],
   "source": [
    "head(np_1917_t)\n",
    "nrow(np_1917_t)"
   ]
  },
  {
   "cell_type": "markdown",
   "metadata": {
    "id": "0WYrFPj_ETDy"
   },
   "source": [
    "Mean number of words per page (1 page = 1 document for the model)"
   ]
  },
  {
   "cell_type": "code",
   "execution_count": null,
   "metadata": {
    "colab": {
     "base_uri": "https://localhost:8080/",
     "height": 147
    },
    "id": "JX_C-5jg7nu5",
    "outputId": "0d347498-305e-4ccc-ace9-16e2be98f4fb"
   },
   "outputs": [
    {
     "data": {
      "text/html": [
       "<table class=\"dataframe\">\n",
       "<caption>A tibble: 1 × 1</caption>\n",
       "<thead>\n",
       "\t<tr><th scope=col>avg</th></tr>\n",
       "\t<tr><th scope=col>&lt;dbl&gt;</th></tr>\n",
       "</thead>\n",
       "<tbody>\n",
       "\t<tr><td>1365.977</td></tr>\n",
       "</tbody>\n",
       "</table>\n"
      ],
      "text/latex": [
       "A tibble: 1 × 1\n",
       "\\begin{tabular}{l}\n",
       " avg\\\\\n",
       " <dbl>\\\\\n",
       "\\hline\n",
       "\t 1365.977\\\\\n",
       "\\end{tabular}\n"
      ],
      "text/markdown": [
       "\n",
       "A tibble: 1 × 1\n",
       "\n",
       "| avg &lt;dbl&gt; |\n",
       "|---|\n",
       "| 1365.977 |\n",
       "\n"
      ],
      "text/plain": [
       "  avg     \n",
       "1 1365.977"
      ]
     },
     "metadata": {},
     "output_type": "display_data"
    }
   ],
   "source": [
    "np_1917_t %>% \n",
    "  group_by(PageID) %>% \n",
    "  summarise(words = sum(n)) %>%\n",
    "  ungroup() %>% \n",
    "  summarise(avg = mean(words))"
   ]
  },
  {
   "cell_type": "code",
   "execution_count": null,
   "metadata": {
    "colab": {
     "base_uri": "https://localhost:8080/",
     "height": 807
    },
    "id": "d02oUUBoy1Ic",
    "outputId": "4734593e-70af-4d41-a21c-5c3a314b7ac2"
   },
   "outputs": [
    {
     "data": {
      "text/html": [
       "<table class=\"dataframe\">\n",
       "<caption>A data.frame: 10 × 3</caption>\n",
       "<thead>\n",
       "\t<tr><th></th><th scope=col>PageID</th><th scope=col>lemma</th><th scope=col>n</th></tr>\n",
       "\t<tr><th></th><th scope=col>&lt;chr&gt;</th><th scope=col>&lt;chr&gt;</th><th scope=col>&lt;int&gt;</th></tr>\n",
       "</thead>\n",
       "<tbody>\n",
       "\t<tr><th scope=row>1</th><td>ekmteataja19170608.1.1</td><td>ломбард         </td><td>6</td></tr>\n",
       "\t<tr><th scope=row>2</th><td>ekmteataja19170608.1.1</td><td>считать         </td><td>6</td></tr>\n",
       "\t<tr><th scope=row>3</th><td>ekmteataja19170608.1.1</td><td>городской       </td><td>5</td></tr>\n",
       "\t<tr><th scope=row>4</th><td>ekmteataja19170608.1.1</td><td>реестр          </td><td>5</td></tr>\n",
       "\t<tr><th scope=row>5</th><td>ekmteataja19170608.1.1</td><td>устав           </td><td>5</td></tr>\n",
       "\t<tr><th scope=row>6</th><td>ekmteataja19170608.1.1</td><td>выборы          </td><td>4</td></tr>\n",
       "\t<tr><th scope=row>7</th><td>ekmteataja19170608.1.1</td><td>губернш         </td><td>4</td></tr>\n",
       "\t<tr><th scope=row>8</th><td>ekmteataja19170608.1.1</td><td>недействительный</td><td>4</td></tr>\n",
       "\t<tr><th scope=row>9</th><td>ekmteataja19170608.1.1</td><td>вносить         </td><td>3</td></tr>\n",
       "\t<tr><th scope=row>10</th><td>ekmteataja19170608.1.1</td><td>общество        </td><td>3</td></tr>\n",
       "</tbody>\n",
       "</table>\n"
      ],
      "text/latex": [
       "A data.frame: 10 × 3\n",
       "\\begin{tabular}{r|lll}\n",
       "  & PageID & lemma & n\\\\\n",
       "  & <chr> & <chr> & <int>\\\\\n",
       "\\hline\n",
       "\t1 & ekmteataja19170608.1.1 & ломбард          & 6\\\\\n",
       "\t2 & ekmteataja19170608.1.1 & считать          & 6\\\\\n",
       "\t3 & ekmteataja19170608.1.1 & городской        & 5\\\\\n",
       "\t4 & ekmteataja19170608.1.1 & реестр           & 5\\\\\n",
       "\t5 & ekmteataja19170608.1.1 & устав            & 5\\\\\n",
       "\t6 & ekmteataja19170608.1.1 & выборы           & 4\\\\\n",
       "\t7 & ekmteataja19170608.1.1 & губернш          & 4\\\\\n",
       "\t8 & ekmteataja19170608.1.1 & недействительный & 4\\\\\n",
       "\t9 & ekmteataja19170608.1.1 & вносить          & 3\\\\\n",
       "\t10 & ekmteataja19170608.1.1 & общество         & 3\\\\\n",
       "\\end{tabular}\n"
      ],
      "text/markdown": [
       "\n",
       "A data.frame: 10 × 3\n",
       "\n",
       "| <!--/--> | PageID &lt;chr&gt; | lemma &lt;chr&gt; | n &lt;int&gt; |\n",
       "|---|---|---|---|\n",
       "| 1 | ekmteataja19170608.1.1 | ломбард          | 6 |\n",
       "| 2 | ekmteataja19170608.1.1 | считать          | 6 |\n",
       "| 3 | ekmteataja19170608.1.1 | городской        | 5 |\n",
       "| 4 | ekmteataja19170608.1.1 | реестр           | 5 |\n",
       "| 5 | ekmteataja19170608.1.1 | устав            | 5 |\n",
       "| 6 | ekmteataja19170608.1.1 | выборы           | 4 |\n",
       "| 7 | ekmteataja19170608.1.1 | губернш          | 4 |\n",
       "| 8 | ekmteataja19170608.1.1 | недействительный | 4 |\n",
       "| 9 | ekmteataja19170608.1.1 | вносить          | 3 |\n",
       "| 10 | ekmteataja19170608.1.1 | общество         | 3 |\n",
       "\n"
      ],
      "text/plain": [
       "   PageID                 lemma            n\n",
       "1  ekmteataja19170608.1.1 ломбард          6\n",
       "2  ekmteataja19170608.1.1 считать          6\n",
       "3  ekmteataja19170608.1.1 городской        5\n",
       "4  ekmteataja19170608.1.1 реестр           5\n",
       "5  ekmteataja19170608.1.1 устав            5\n",
       "6  ekmteataja19170608.1.1 выборы           4\n",
       "7  ekmteataja19170608.1.1 губернш          4\n",
       "8  ekmteataja19170608.1.1 недействительный 4\n",
       "9  ekmteataja19170608.1.1 вносить          3\n",
       "10 ekmteataja19170608.1.1 общество         3"
      ]
     },
     "metadata": {},
     "output_type": "display_data"
    },
    {
     "data": {
      "text/html": [
       "<table class=\"dataframe\">\n",
       "<caption>A data.frame: 10 × 3</caption>\n",
       "<thead>\n",
       "\t<tr><th></th><th scope=col>PageID</th><th scope=col>lemma</th><th scope=col>n</th></tr>\n",
       "\t<tr><th></th><th scope=col>&lt;chr&gt;</th><th scope=col>&lt;chr&gt;</th><th scope=col>&lt;int&gt;</th></tr>\n",
       "</thead>\n",
       "<tbody>\n",
       "\t<tr><th scope=row>1</th><td>ekmteataja19170608.1.2</td><td>губернский  </td><td>6</td></tr>\n",
       "\t<tr><th scope=row>2</th><td>ekmteataja19170608.1.2</td><td>молоко      </td><td>6</td></tr>\n",
       "\t<tr><th scope=row>3</th><td>ekmteataja19170608.1.2</td><td>губернский  </td><td>5</td></tr>\n",
       "\t<tr><th scope=row>4</th><td>ekmteataja19170608.1.2</td><td>обязательный</td><td>5</td></tr>\n",
       "\t<tr><th scope=row>5</th><td>ekmteataja19170608.1.2</td><td>ведомость   </td><td>4</td></tr>\n",
       "\t<tr><th scope=row>6</th><td>ekmteataja19170608.1.2</td><td>взиматься   </td><td>4</td></tr>\n",
       "\t<tr><th scope=row>7</th><td>ekmteataja19170608.1.2</td><td>корпус      </td><td>4</td></tr>\n",
       "\t<tr><th scope=row>8</th><td>ekmteataja19170608.1.2</td><td>литр        </td><td>4</td></tr>\n",
       "\t<tr><th scope=row>9</th><td>ekmteataja19170608.1.2</td><td>объявлести  </td><td>4</td></tr>\n",
       "\t<tr><th scope=row>10</th><td>ekmteataja19170608.1.2</td><td>плата       </td><td>4</td></tr>\n",
       "</tbody>\n",
       "</table>\n"
      ],
      "text/latex": [
       "A data.frame: 10 × 3\n",
       "\\begin{tabular}{r|lll}\n",
       "  & PageID & lemma & n\\\\\n",
       "  & <chr> & <chr> & <int>\\\\\n",
       "\\hline\n",
       "\t1 & ekmteataja19170608.1.2 & губернский   & 6\\\\\n",
       "\t2 & ekmteataja19170608.1.2 & молоко       & 6\\\\\n",
       "\t3 & ekmteataja19170608.1.2 & губернский   & 5\\\\\n",
       "\t4 & ekmteataja19170608.1.2 & обязательный & 5\\\\\n",
       "\t5 & ekmteataja19170608.1.2 & ведомость    & 4\\\\\n",
       "\t6 & ekmteataja19170608.1.2 & взиматься    & 4\\\\\n",
       "\t7 & ekmteataja19170608.1.2 & корпус       & 4\\\\\n",
       "\t8 & ekmteataja19170608.1.2 & литр         & 4\\\\\n",
       "\t9 & ekmteataja19170608.1.2 & объявлести   & 4\\\\\n",
       "\t10 & ekmteataja19170608.1.2 & плата        & 4\\\\\n",
       "\\end{tabular}\n"
      ],
      "text/markdown": [
       "\n",
       "A data.frame: 10 × 3\n",
       "\n",
       "| <!--/--> | PageID &lt;chr&gt; | lemma &lt;chr&gt; | n &lt;int&gt; |\n",
       "|---|---|---|---|\n",
       "| 1 | ekmteataja19170608.1.2 | губернский   | 6 |\n",
       "| 2 | ekmteataja19170608.1.2 | молоко       | 6 |\n",
       "| 3 | ekmteataja19170608.1.2 | губернский   | 5 |\n",
       "| 4 | ekmteataja19170608.1.2 | обязательный | 5 |\n",
       "| 5 | ekmteataja19170608.1.2 | ведомость    | 4 |\n",
       "| 6 | ekmteataja19170608.1.2 | взиматься    | 4 |\n",
       "| 7 | ekmteataja19170608.1.2 | корпус       | 4 |\n",
       "| 8 | ekmteataja19170608.1.2 | литр         | 4 |\n",
       "| 9 | ekmteataja19170608.1.2 | объявлести   | 4 |\n",
       "| 10 | ekmteataja19170608.1.2 | плата        | 4 |\n",
       "\n"
      ],
      "text/plain": [
       "   PageID                 lemma        n\n",
       "1  ekmteataja19170608.1.2 губернский   6\n",
       "2  ekmteataja19170608.1.2 молоко       6\n",
       "3  ekmteataja19170608.1.2 губернский   5\n",
       "4  ekmteataja19170608.1.2 обязательный 5\n",
       "5  ekmteataja19170608.1.2 ведомость    4\n",
       "6  ekmteataja19170608.1.2 взиматься    4\n",
       "7  ekmteataja19170608.1.2 корпус       4\n",
       "8  ekmteataja19170608.1.2 литр         4\n",
       "9  ekmteataja19170608.1.2 объявлести   4\n",
       "10 ekmteataja19170608.1.2 плата        4"
      ]
     },
     "metadata": {},
     "output_type": "display_data"
    }
   ],
   "source": [
    "np_1917_t %>% \n",
    "  filter(PageID == \"ekmteataja19170608.1.1\") %>% \n",
    "  head(10)\n",
    "\n",
    "np_1917_t %>% \n",
    "  filter(PageID == \"ekmteataja19170608.1.2\") %>% \n",
    "  head(10)"
   ]
  },
  {
   "cell_type": "code",
   "execution_count": null,
   "metadata": {
    "colab": {
     "base_uri": "https://localhost:8080/",
     "height": 34
    },
    "id": "oLYubfBklTNW",
    "outputId": "f77a181d-1699-449c-b9cb-313fce161852"
   },
   "outputs": [
    {
     "data": {
      "text/html": [
       "3234"
      ],
      "text/latex": [
       "3234"
      ],
      "text/markdown": [
       "3234"
      ],
      "text/plain": [
       "[1] 3234"
      ]
     },
     "metadata": {},
     "output_type": "display_data"
    }
   ],
   "source": [
    "length(unique(np_1917_t$PageID))"
   ]
  },
  {
   "cell_type": "code",
   "execution_count": null,
   "metadata": {
    "colab": {
     "base_uri": "https://localhost:8080/",
     "height": 34
    },
    "id": "iu8QcX4YO4Bp",
    "outputId": "42f5901f-7718-4384-9f1e-8a10d7917645"
   },
   "outputs": [
    {
     "data": {
      "text/html": [
       "1538097"
      ],
      "text/latex": [
       "1538097"
      ],
      "text/markdown": [
       "1538097"
      ],
      "text/plain": [
       "[1] 1538097"
      ]
     },
     "metadata": {},
     "output_type": "display_data"
    }
   ],
   "source": [
    "length(unique(np_1917_t$lemma))"
   ]
  },
  {
   "cell_type": "code",
   "execution_count": null,
   "metadata": {
    "colab": {
     "base_uri": "https://localhost:8080/",
     "height": 34
    },
    "id": "oAiNki_kOsJN",
    "outputId": "882116d7-c3dc-4b07-fde4-86a0d8179152"
   },
   "outputs": [
    {
     "data": {
      "text/html": [
       "8174"
      ],
      "text/latex": [
       "8174"
      ],
      "text/markdown": [
       "8174"
      ],
      "text/plain": [
       "[1] 8174"
      ]
     },
     "metadata": {},
     "output_type": "display_data"
    }
   ],
   "source": [
    "np_1917_r <- np_1917_t %>% \n",
    "  filter(n > 2)\n",
    "\n",
    "length(unique(np_1917_r$lemma))"
   ]
  },
  {
   "cell_type": "code",
   "execution_count": null,
   "metadata": {
    "colab": {
     "base_uri": "https://localhost:8080/",
     "height": 104
    },
    "id": "GlI427BNZTud",
    "outputId": "6087b656-41b0-4918-d812-a672641dbb0f"
   },
   "outputs": [
    {
     "data": {
      "text/plain": [
       "<<DocumentTermMatrix (documents: 3228, terms: 8174)>>\n",
       "Non-/sparse entries: 68975/26316697\n",
       "Sparsity           : 100%\n",
       "Maximal term length: 19\n",
       "Weighting          : term frequency (tf)"
      ]
     },
     "metadata": {},
     "output_type": "display_data"
    }
   ],
   "source": [
    "dtm_1917 <- np_1917_r %>% # np_1917_r for limited n words , np_1917_t for all words\n",
    "  cast_dtm(PageID, lemma, n)\n",
    "\n",
    "dtm_1917"
   ]
  },
  {
   "cell_type": "code",
   "execution_count": null,
   "metadata": {
    "id": "911-tcqvQ3a9"
   },
   "outputs": [],
   "source": [
    "rm(lda_1917, beta, gamma)"
   ]
  },
  {
   "cell_type": "code",
   "execution_count": null,
   "metadata": {
    "colab": {
     "base_uri": "https://localhost:8080/",
     "height": 34
    },
    "id": "xvX7JcMYaoI0",
    "outputId": "cbe80996-ee4e-473c-86aa-efd5f68c1be0"
   },
   "outputs": [
    {
     "data": {
      "text/plain": [
       "A LDA_VEM topic model with 50 topics."
      ]
     },
     "metadata": {},
     "output_type": "display_data"
    }
   ],
   "source": [
    "lda_1917 <- LDA(dtm_1917, k = 50, control = list(seed = 1234))\n",
    "lda_1917"
   ]
  },
  {
   "cell_type": "code",
   "execution_count": null,
   "metadata": {
    "id": "6b2gDf0EblM2"
   },
   "outputs": [],
   "source": [
    "beta <- tidy(lda_1917, matrix = \"beta\")\n",
    "gamma <- tidy(lda_1917, matrix = \"gamma\")"
   ]
  },
  {
   "cell_type": "code",
   "execution_count": null,
   "metadata": {
    "colab": {
     "base_uri": "https://localhost:8080/",
     "height": 556
    },
    "id": "hkpgi_7ccrXy",
    "outputId": "dbfd21c3-f570-453d-81da-205fd671a397"
   },
   "outputs": [
    {
     "data": {
      "text/html": [
       "<table class=\"dataframe\">\n",
       "<caption>A tibble: 6 × 3</caption>\n",
       "<thead>\n",
       "\t<tr><th scope=col>topic</th><th scope=col>term</th><th scope=col>beta</th></tr>\n",
       "\t<tr><th scope=col>&lt;int&gt;</th><th scope=col>&lt;chr&gt;</th><th scope=col>&lt;dbl&gt;</th></tr>\n",
       "</thead>\n",
       "<tbody>\n",
       "\t<tr><td>1</td><td>wallas</td><td>1.339388e-205</td></tr>\n",
       "\t<tr><td>2</td><td>wallas</td><td>3.481056e-205</td></tr>\n",
       "\t<tr><td>3</td><td>wallas</td><td>4.334596e-204</td></tr>\n",
       "\t<tr><td>4</td><td>wallas</td><td>1.733437e-222</td></tr>\n",
       "\t<tr><td>5</td><td>wallas</td><td>3.939028e-203</td></tr>\n",
       "\t<tr><td>6</td><td>wallas</td><td>7.180636e-202</td></tr>\n",
       "</tbody>\n",
       "</table>\n"
      ],
      "text/latex": [
       "A tibble: 6 × 3\n",
       "\\begin{tabular}{lll}\n",
       " topic & term & beta\\\\\n",
       " <int> & <chr> & <dbl>\\\\\n",
       "\\hline\n",
       "\t 1 & wallas & 1.339388e-205\\\\\n",
       "\t 2 & wallas & 3.481056e-205\\\\\n",
       "\t 3 & wallas & 4.334596e-204\\\\\n",
       "\t 4 & wallas & 1.733437e-222\\\\\n",
       "\t 5 & wallas & 3.939028e-203\\\\\n",
       "\t 6 & wallas & 7.180636e-202\\\\\n",
       "\\end{tabular}\n"
      ],
      "text/markdown": [
       "\n",
       "A tibble: 6 × 3\n",
       "\n",
       "| topic &lt;int&gt; | term &lt;chr&gt; | beta &lt;dbl&gt; |\n",
       "|---|---|---|\n",
       "| 1 | wallas | 1.339388e-205 |\n",
       "| 2 | wallas | 3.481056e-205 |\n",
       "| 3 | wallas | 4.334596e-204 |\n",
       "| 4 | wallas | 1.733437e-222 |\n",
       "| 5 | wallas | 3.939028e-203 |\n",
       "| 6 | wallas | 7.180636e-202 |\n",
       "\n"
      ],
      "text/plain": [
       "  topic term   beta         \n",
       "1 1     wallas 1.339388e-205\n",
       "2 2     wallas 3.481056e-205\n",
       "3 3     wallas 4.334596e-204\n",
       "4 4     wallas 1.733437e-222\n",
       "5 5     wallas 3.939028e-203\n",
       "6 6     wallas 7.180636e-202"
      ]
     },
     "metadata": {},
     "output_type": "display_data"
    },
    {
     "data": {
      "text/html": [
       "<table class=\"dataframe\">\n",
       "<caption>A tibble: 6 × 3</caption>\n",
       "<thead>\n",
       "\t<tr><th scope=col>document</th><th scope=col>topic</th><th scope=col>gamma</th></tr>\n",
       "\t<tr><th scope=col>&lt;chr&gt;</th><th scope=col>&lt;int&gt;</th><th scope=col>&lt;dbl&gt;</th></tr>\n",
       "</thead>\n",
       "<tbody>\n",
       "\t<tr><td>ekmteataja19170608.1.4            </td><td>1</td><td>6.787699e-05</td></tr>\n",
       "\t<tr><td>tooljasojavnoukteat19170505.1.2   </td><td>1</td><td>1.431543e-04</td></tr>\n",
       "\t<tr><td>svobodnojeslovosoldata19170519.1.4</td><td>1</td><td>5.149292e-02</td></tr>\n",
       "\t<tr><td>tooljasojavnoukteat19170730.1.3   </td><td>1</td><td>1.005049e-01</td></tr>\n",
       "\t<tr><td>tooljasojavnoukteat19171104.1.3   </td><td>1</td><td>1.486495e-04</td></tr>\n",
       "\t<tr><td>ekmteataja19171026.1.4            </td><td>1</td><td>1.462436e-04</td></tr>\n",
       "</tbody>\n",
       "</table>\n"
      ],
      "text/latex": [
       "A tibble: 6 × 3\n",
       "\\begin{tabular}{lll}\n",
       " document & topic & gamma\\\\\n",
       " <chr> & <int> & <dbl>\\\\\n",
       "\\hline\n",
       "\t ekmteataja19170608.1.4             & 1 & 6.787699e-05\\\\\n",
       "\t tooljasojavnoukteat19170505.1.2    & 1 & 1.431543e-04\\\\\n",
       "\t svobodnojeslovosoldata19170519.1.4 & 1 & 5.149292e-02\\\\\n",
       "\t tooljasojavnoukteat19170730.1.3    & 1 & 1.005049e-01\\\\\n",
       "\t tooljasojavnoukteat19171104.1.3    & 1 & 1.486495e-04\\\\\n",
       "\t ekmteataja19171026.1.4             & 1 & 1.462436e-04\\\\\n",
       "\\end{tabular}\n"
      ],
      "text/markdown": [
       "\n",
       "A tibble: 6 × 3\n",
       "\n",
       "| document &lt;chr&gt; | topic &lt;int&gt; | gamma &lt;dbl&gt; |\n",
       "|---|---|---|\n",
       "| ekmteataja19170608.1.4             | 1 | 6.787699e-05 |\n",
       "| tooljasojavnoukteat19170505.1.2    | 1 | 1.431543e-04 |\n",
       "| svobodnojeslovosoldata19170519.1.4 | 1 | 5.149292e-02 |\n",
       "| tooljasojavnoukteat19170730.1.3    | 1 | 1.005049e-01 |\n",
       "| tooljasojavnoukteat19171104.1.3    | 1 | 1.486495e-04 |\n",
       "| ekmteataja19171026.1.4             | 1 | 1.462436e-04 |\n",
       "\n"
      ],
      "text/plain": [
       "  document                           topic gamma       \n",
       "1 ekmteataja19170608.1.4             1     6.787699e-05\n",
       "2 tooljasojavnoukteat19170505.1.2    1     1.431543e-04\n",
       "3 svobodnojeslovosoldata19170519.1.4 1     5.149292e-02\n",
       "4 tooljasojavnoukteat19170730.1.3    1     1.005049e-01\n",
       "5 tooljasojavnoukteat19171104.1.3    1     1.486495e-04\n",
       "6 ekmteataja19171026.1.4             1     1.462436e-04"
      ]
     },
     "metadata": {},
     "output_type": "display_data"
    }
   ],
   "source": [
    "head(beta)\n",
    "head(gamma)"
   ]
  },
  {
   "cell_type": "code",
   "execution_count": null,
   "metadata": {
    "colab": {
     "base_uri": "https://localhost:8080/",
     "height": 286
    },
    "id": "tXh7we_vc33Z",
    "outputId": "cca6656a-01d6-404d-b5bc-9a03ad7ba165"
   },
   "outputs": [
    {
     "data": {
      "text/html": [
       "<table class=\"dataframe\">\n",
       "<caption>A grouped_df: 6 × 3</caption>\n",
       "<thead>\n",
       "\t<tr><th scope=col>topic</th><th scope=col>term</th><th scope=col>beta</th></tr>\n",
       "\t<tr><th scope=col>&lt;int&gt;</th><th scope=col>&lt;chr&gt;</th><th scope=col>&lt;dbl&gt;</th></tr>\n",
       "</thead>\n",
       "<tbody>\n",
       "\t<tr><td>1</td><td>союз    </td><td>0.18898301</td></tr>\n",
       "\t<tr><td>1</td><td>бюро    </td><td>0.12011159</td></tr>\n",
       "\t<tr><td>1</td><td>общий   </td><td>0.08523857</td></tr>\n",
       "\t<tr><td>1</td><td>комитет </td><td>0.06644290</td></tr>\n",
       "\t<tr><td>1</td><td>член    </td><td>0.06301904</td></tr>\n",
       "\t<tr><td>1</td><td>собирать</td><td>0.04266352</td></tr>\n",
       "</tbody>\n",
       "</table>\n"
      ],
      "text/latex": [
       "A grouped\\_df: 6 × 3\n",
       "\\begin{tabular}{lll}\n",
       " topic & term & beta\\\\\n",
       " <int> & <chr> & <dbl>\\\\\n",
       "\\hline\n",
       "\t 1 & союз     & 0.18898301\\\\\n",
       "\t 1 & бюро     & 0.12011159\\\\\n",
       "\t 1 & общий    & 0.08523857\\\\\n",
       "\t 1 & комитет  & 0.06644290\\\\\n",
       "\t 1 & член     & 0.06301904\\\\\n",
       "\t 1 & собирать & 0.04266352\\\\\n",
       "\\end{tabular}\n"
      ],
      "text/markdown": [
       "\n",
       "A grouped_df: 6 × 3\n",
       "\n",
       "| topic &lt;int&gt; | term &lt;chr&gt; | beta &lt;dbl&gt; |\n",
       "|---|---|---|\n",
       "| 1 | союз     | 0.18898301 |\n",
       "| 1 | бюро     | 0.12011159 |\n",
       "| 1 | общий    | 0.08523857 |\n",
       "| 1 | комитет  | 0.06644290 |\n",
       "| 1 | член     | 0.06301904 |\n",
       "| 1 | собирать | 0.04266352 |\n",
       "\n"
      ],
      "text/plain": [
       "  topic term     beta      \n",
       "1 1     союз     0.18898301\n",
       "2 1     бюро     0.12011159\n",
       "3 1     общий    0.08523857\n",
       "4 1     комитет  0.06644290\n",
       "5 1     член     0.06301904\n",
       "6 1     собирать 0.04266352"
      ]
     },
     "metadata": {},
     "output_type": "display_data"
    }
   ],
   "source": [
    "beta_top <- beta %>% \n",
    "  group_by(topic) %>% \n",
    "  slice_max(beta, n = 7)\n",
    "\n",
    "head(beta_top)"
   ]
  },
  {
   "cell_type": "code",
   "execution_count": null,
   "metadata": {
    "colab": {
     "base_uri": "https://localhost:8080/",
     "height": 437
    },
    "id": "iHSiyYE2i1ZP",
    "outputId": "697ce6af-2eb9-4259-fee7-c843bd118c0e"
   },
   "outputs": [
    {
     "data": {
      "image/png": "[encoded data removed]",
      "text/plain": [
       "plot without title"
      ]
     },
     "metadata": {
      "image/png": {
       "height": 420,
       "width": 420
      }
     },
     "output_type": "display_data"
    }
   ],
   "source": [
    "beta_top %>%\n",
    "  mutate(term = reorder_within(term, beta, topic)) %>%\n",
    "  ggplot(aes(beta, term, fill = factor(topic))) +\n",
    "  geom_col(show.legend = FALSE) +\n",
    "  facet_wrap(~ topic, scales = \"free\") +\n",
    "  scale_y_reordered()\n"
   ]
  },
  {
   "cell_type": "code",
   "execution_count": null,
   "metadata": {
    "id": "iQV2u6P90k9z"
   },
   "outputs": [],
   "source": [
    "write.csv(beta, \"beta_1917_50.csv\")\n",
    "write.csv(gamma, \"gamma_1917_50.csv\")"
   ]
  },
  {
   "cell_type": "code",
   "execution_count": null,
   "metadata": {
    "colab": {
     "base_uri": "https://localhost:8080/",
     "height": 286
    },
    "id": "dVlggsSEdNOa",
    "outputId": "be4583ee-6bb4-4875-b0d8-26cc0097241a"
   },
   "outputs": [
    {
     "data": {
      "text/html": [
       "<table class=\"dataframe\">\n",
       "<caption>A tibble: 6 × 3</caption>\n",
       "<thead>\n",
       "\t<tr><th scope=col>document</th><th scope=col>topic</th><th scope=col>gamma</th></tr>\n",
       "\t<tr><th scope=col>&lt;chr&gt;</th><th scope=col>&lt;int&gt;</th><th scope=col>&lt;dbl&gt;</th></tr>\n",
       "</thead>\n",
       "<tbody>\n",
       "\t<tr><td>ekmteataja19170608.1.4            </td><td>1</td><td>8.405926e-05</td></tr>\n",
       "\t<tr><td>tooljasojavnoukteat19170505.1.2   </td><td>1</td><td>1.776217e-04</td></tr>\n",
       "\t<tr><td>svobodnojeslovosoldata19170519.1.4</td><td>1</td><td>2.035093e-04</td></tr>\n",
       "\t<tr><td>tooljasojavnoukteat19170730.1.3   </td><td>1</td><td>2.831997e-01</td></tr>\n",
       "\t<tr><td>tooljasojavnoukteat19171104.1.3   </td><td>1</td><td>1.844657e-04</td></tr>\n",
       "\t<tr><td>ekmteataja19171026.1.4            </td><td>1</td><td>1.814690e-04</td></tr>\n",
       "</tbody>\n",
       "</table>\n"
      ],
      "text/latex": [
       "A tibble: 6 × 3\n",
       "\\begin{tabular}{lll}\n",
       " document & topic & gamma\\\\\n",
       " <chr> & <int> & <dbl>\\\\\n",
       "\\hline\n",
       "\t ekmteataja19170608.1.4             & 1 & 8.405926e-05\\\\\n",
       "\t tooljasojavnoukteat19170505.1.2    & 1 & 1.776217e-04\\\\\n",
       "\t svobodnojeslovosoldata19170519.1.4 & 1 & 2.035093e-04\\\\\n",
       "\t tooljasojavnoukteat19170730.1.3    & 1 & 2.831997e-01\\\\\n",
       "\t tooljasojavnoukteat19171104.1.3    & 1 & 1.844657e-04\\\\\n",
       "\t ekmteataja19171026.1.4             & 1 & 1.814690e-04\\\\\n",
       "\\end{tabular}\n"
      ],
      "text/markdown": [
       "\n",
       "A tibble: 6 × 3\n",
       "\n",
       "| document &lt;chr&gt; | topic &lt;int&gt; | gamma &lt;dbl&gt; |\n",
       "|---|---|---|\n",
       "| ekmteataja19170608.1.4             | 1 | 8.405926e-05 |\n",
       "| tooljasojavnoukteat19170505.1.2    | 1 | 1.776217e-04 |\n",
       "| svobodnojeslovosoldata19170519.1.4 | 1 | 2.035093e-04 |\n",
       "| tooljasojavnoukteat19170730.1.3    | 1 | 2.831997e-01 |\n",
       "| tooljasojavnoukteat19171104.1.3    | 1 | 1.844657e-04 |\n",
       "| ekmteataja19171026.1.4             | 1 | 1.814690e-04 |\n",
       "\n"
      ],
      "text/plain": [
       "  document                           topic gamma       \n",
       "1 ekmteataja19170608.1.4             1     8.405926e-05\n",
       "2 tooljasojavnoukteat19170505.1.2    1     1.776217e-04\n",
       "3 svobodnojeslovosoldata19170519.1.4 1     2.035093e-04\n",
       "4 tooljasojavnoukteat19170730.1.3    1     2.831997e-01\n",
       "5 tooljasojavnoukteat19171104.1.3    1     1.844657e-04\n",
       "6 ekmteataja19171026.1.4             1     1.814690e-04"
      ]
     },
     "metadata": {},
     "output_type": "display_data"
    }
   ],
   "source": [
    "gamma %>% \n",
    "  #separate(document, into = c(\"id\", \"month\"), sep = \"_\") %>% \n",
    "  head"
   ]
  },
  {
   "cell_type": "code",
   "execution_count": null,
   "metadata": {
    "colab": {
     "base_uri": "https://localhost:8080/",
     "height": 437
    },
    "id": "_bSLRzbSvLN_",
    "outputId": "59d33908-5af8-4618-cc44-8f26fe20bb3c"
   },
   "outputs": [
    {
     "data": {
      "image/png": "[encoded data removed]",
      "text/plain": [
       "plot without title"
      ]
     },
     "metadata": {
      "image/png": {
       "height": 420,
       "width": 420
      }
     },
     "output_type": "display_data"
    }
   ],
   "source": [
    "gamma %>% \n",
    "  filter(document == \"ekmteataja19170706.1.2\" | document == \"ekmteataja19170608.1.4\") %>% \n",
    "  ggplot(aes(x = document, y = gamma, fill = factor(topic))) + geom_col()"
   ]
  },
  {
   "cell_type": "code",
   "execution_count": null,
   "metadata": {
    "colab": {
     "base_uri": "https://localhost:8080/"
    },
    "id": "1EEegMwGl3Vq",
    "outputId": "93feccda-b3a1-4fe0-9a6b-bd894cceb201"
   },
   "outputs": [
    {
     "name": "stderr",
     "output_type": "stream",
     "text": [
      "\u001b[1m\u001b[22m`summarise()` has grouped output by 'topic'. You can override using the\n",
      "`.groups` argument.\n"
     ]
    }
   ],
   "source": [
    "gamma <- gamma %>% \n",
    "  mutate(per_name = str_replace_all(document, \"(\\\\w+)(\\\\d{8})\\\\.\\\\d+\\\\.\\\\d+\", \"\\\\1\")) %>% \n",
    "  mutate(year = str_replace_all(document, \"(\\\\w+)(\\\\d{4})(\\\\d{4})\\\\.(\\\\d+)\\\\.(\\\\d+)\", \"\\\\2\")) %>% \n",
    "  mutate(month = str_replace_all(document, \"(\\\\w+)(\\\\d{4})(\\\\d{2})(\\\\d{2})\\\\.(\\\\d+)\\\\.(\\\\d+)\", \"\\\\3\"))\n",
    "  \n",
    "gamma_per <- gamma %>% \n",
    "  group_by(topic, per_name) %>% \n",
    "  summarise(gamma_avg = mean(gamma)) "
   ]
  },
  {
   "cell_type": "code",
   "execution_count": null,
   "metadata": {
    "colab": {
     "base_uri": "https://localhost:8080/",
     "height": 437
    },
    "id": "jRIdzqGOl3tH",
    "outputId": "5208c15b-ab95-4309-904c-2fc4c0fe5ccd"
   },
   "outputs": [
    {
     "data": {
      "image/png": "[encoded data removed]",
      "text/plain": [
       "plot without title"
      ]
     },
     "metadata": {
      "image/png": {
       "height": 420,
       "width": 420
      }
     },
     "output_type": "display_data"
    }
   ],
   "source": [
    "gamma_per %>%\n",
    "  ggplot(aes(x = per_name, y = gamma_avg, fill = factor(topic))) + \n",
    "  geom_col() # + theme(legend.position = \"None\")"
   ]
  },
  {
   "cell_type": "code",
   "execution_count": null,
   "metadata": {
    "colab": {
     "base_uri": "https://localhost:8080/",
     "height": 286
    },
    "id": "c1mrGfUgN-lD",
    "outputId": "f5839a5d-1af2-427d-ce26-1cc782705597"
   },
   "outputs": [
    {
     "data": {
      "text/html": [
       "<table class=\"dataframe\">\n",
       "<caption>A tibble: 6 × 6</caption>\n",
       "<thead>\n",
       "\t<tr><th scope=col>document</th><th scope=col>topic</th><th scope=col>gamma</th><th scope=col>per_name</th><th scope=col>year</th><th scope=col>month</th></tr>\n",
       "\t<tr><th scope=col>&lt;chr&gt;</th><th scope=col>&lt;int&gt;</th><th scope=col>&lt;dbl&gt;</th><th scope=col>&lt;chr&gt;</th><th scope=col>&lt;chr&gt;</th><th scope=col>&lt;chr&gt;</th></tr>\n",
       "</thead>\n",
       "<tbody>\n",
       "\t<tr><td>ekmteataja19170608.1.4            </td><td>1</td><td>9.999475e-01</td><td>ekmteataja            </td><td>1917</td><td>06</td></tr>\n",
       "\t<tr><td>tooljasojavnoukteat19170505.1.2   </td><td>1</td><td>2.406055e-05</td><td>tooljasojavnoukteat   </td><td>1917</td><td>05</td></tr>\n",
       "\t<tr><td>svobodnojeslovosoldata19170519.1.4</td><td>1</td><td>7.935344e-01</td><td>svobodnojeslovosoldata</td><td>1917</td><td>05</td></tr>\n",
       "\t<tr><td>ekmteataja19170706.1.2            </td><td>1</td><td>9.999538e-01</td><td>ekmteataja            </td><td>1917</td><td>07</td></tr>\n",
       "\t<tr><td>tooljasojavnoukteat19170730.1.3   </td><td>1</td><td>9.999608e-01</td><td>tooljasojavnoukteat   </td><td>1917</td><td>07</td></tr>\n",
       "\t<tr><td>tooljasojavnoukteat19171104.1.3   </td><td>1</td><td>9.999564e-01</td><td>tooljasojavnoukteat   </td><td>1917</td><td>11</td></tr>\n",
       "</tbody>\n",
       "</table>\n"
      ],
      "text/latex": [
       "A tibble: 6 × 6\n",
       "\\begin{tabular}{llllll}\n",
       " document & topic & gamma & per\\_name & year & month\\\\\n",
       " <chr> & <int> & <dbl> & <chr> & <chr> & <chr>\\\\\n",
       "\\hline\n",
       "\t ekmteataja19170608.1.4             & 1 & 9.999475e-01 & ekmteataja             & 1917 & 06\\\\\n",
       "\t tooljasojavnoukteat19170505.1.2    & 1 & 2.406055e-05 & tooljasojavnoukteat    & 1917 & 05\\\\\n",
       "\t svobodnojeslovosoldata19170519.1.4 & 1 & 7.935344e-01 & svobodnojeslovosoldata & 1917 & 05\\\\\n",
       "\t ekmteataja19170706.1.2             & 1 & 9.999538e-01 & ekmteataja             & 1917 & 07\\\\\n",
       "\t tooljasojavnoukteat19170730.1.3    & 1 & 9.999608e-01 & tooljasojavnoukteat    & 1917 & 07\\\\\n",
       "\t tooljasojavnoukteat19171104.1.3    & 1 & 9.999564e-01 & tooljasojavnoukteat    & 1917 & 11\\\\\n",
       "\\end{tabular}\n"
      ],
      "text/markdown": [
       "\n",
       "A tibble: 6 × 6\n",
       "\n",
       "| document &lt;chr&gt; | topic &lt;int&gt; | gamma &lt;dbl&gt; | per_name &lt;chr&gt; | year &lt;chr&gt; | month &lt;chr&gt; |\n",
       "|---|---|---|---|---|---|\n",
       "| ekmteataja19170608.1.4             | 1 | 9.999475e-01 | ekmteataja             | 1917 | 06 |\n",
       "| tooljasojavnoukteat19170505.1.2    | 1 | 2.406055e-05 | tooljasojavnoukteat    | 1917 | 05 |\n",
       "| svobodnojeslovosoldata19170519.1.4 | 1 | 7.935344e-01 | svobodnojeslovosoldata | 1917 | 05 |\n",
       "| ekmteataja19170706.1.2             | 1 | 9.999538e-01 | ekmteataja             | 1917 | 07 |\n",
       "| tooljasojavnoukteat19170730.1.3    | 1 | 9.999608e-01 | tooljasojavnoukteat    | 1917 | 07 |\n",
       "| tooljasojavnoukteat19171104.1.3    | 1 | 9.999564e-01 | tooljasojavnoukteat    | 1917 | 11 |\n",
       "\n"
      ],
      "text/plain": [
       "  document                           topic gamma        per_name              \n",
       "1 ekmteataja19170608.1.4             1     9.999475e-01 ekmteataja            \n",
       "2 tooljasojavnoukteat19170505.1.2    1     2.406055e-05 tooljasojavnoukteat   \n",
       "3 svobodnojeslovosoldata19170519.1.4 1     7.935344e-01 svobodnojeslovosoldata\n",
       "4 ekmteataja19170706.1.2             1     9.999538e-01 ekmteataja            \n",
       "5 tooljasojavnoukteat19170730.1.3    1     9.999608e-01 tooljasojavnoukteat   \n",
       "6 tooljasojavnoukteat19171104.1.3    1     9.999564e-01 tooljasojavnoukteat   \n",
       "  year month\n",
       "1 1917 06   \n",
       "2 1917 05   \n",
       "3 1917 05   \n",
       "4 1917 07   \n",
       "5 1917 07   \n",
       "6 1917 11   "
      ]
     },
     "metadata": {},
     "output_type": "display_data"
    }
   ],
   "source": [
    "head(gamma)"
   ]
  },
  {
   "cell_type": "code",
   "execution_count": null,
   "metadata": {
    "colab": {
     "base_uri": "https://localhost:8080/",
     "height": 472
    },
    "id": "T21_HdTf3iLx",
    "outputId": "985a2f3c-b045-4fcd-9ad2-d3e7f7d7d5d7"
   },
   "outputs": [
    {
     "name": "stderr",
     "output_type": "stream",
     "text": [
      "\u001b[1m\u001b[22m`summarise()` has grouped output by 'month'. You can override using the\n",
      "`.groups` argument.\n"
     ]
    },
    {
     "data": {
      "image/png": "[encoded data removed]",
      "text/plain": [
       "plot without title"
      ]
     },
     "metadata": {
      "image/png": {
       "height": 420,
       "width": 420
      }
     },
     "output_type": "display_data"
    }
   ],
   "source": [
    "gamma %>% \n",
    "  group_by(month, topic) %>% \n",
    "  summarise(gamma_avg = mean(gamma)) %>% \n",
    "  ggplot(aes(x = month, y = gamma_avg, fill = factor(topic))) + geom_col()"
   ]
  },
  {
   "cell_type": "code",
   "execution_count": null,
   "metadata": {
    "id": "4Ufo3TJr4G_x"
   },
   "outputs": [],
   "source": [
    "beta %>% \n",
    "  filter(topic == 12) %>% \n",
    "  slice_max(beta, n = 10)"
   ]
  },
  {
   "cell_type": "markdown",
   "metadata": {
    "id": "hXNVG2VmQ7D9"
   },
   "source": [
    "## 1880s"
   ]
  },
  {
   "cell_type": "code",
   "execution_count": null,
   "metadata": {
    "id": "CFFL-R1CWv6Z"
   },
   "outputs": [],
   "source": [
    "system(\"gdown --id  1WdVNfTOPYnLqFuOV3d_IiJIBYuI5dGxr\")"
   ]
  },
  {
   "cell_type": "code",
   "execution_count": null,
   "metadata": {
    "colab": {
     "base_uri": "https://localhost:8080/",
     "height": 34
    },
    "id": "wJ3DVJl4Q-l9",
    "outputId": "db3ac06a-f167-4140-cbea-0a77b7e60b31"
   },
   "outputs": [
    {
     "data": {
      "text/html": [
       "'sample_data'"
      ],
      "text/latex": [
       "'sample\\_data'"
      ],
      "text/markdown": [
       "'sample_data'"
      ],
      "text/plain": [
       "[1] \"sample_data\""
      ]
     },
     "metadata": {},
     "output_type": "display_data"
    }
   ],
   "source": [
    "system(\"ls\", TRUE)"
   ]
  },
  {
   "cell_type": "code",
   "execution_count": null,
   "metadata": {
    "colab": {
     "base_uri": "https://localhost:8080/",
     "height": 215
    },
    "id": "XLUrg9USXD3Q",
    "outputId": "ef76563f-da6e-4a90-f223-a0e1d4d54044"
   },
   "outputs": [
    {
     "name": "stderr",
     "output_type": "stream",
     "text": [
      "Warning message in file(file, \"rt\"):\n",
      "“cannot open file 'MFW_biling_1880_lem.csv': No such file or directory”\n"
     ]
    },
    {
     "ename": "ERROR",
     "evalue": "ignored",
     "output_type": "error",
     "traceback": [
      "Error in file(file, \"rt\"): cannot open the connection\nTraceback:\n",
      "1. read.csv(\"MFW_biling_1880_lem.csv\")",
      "2. read.table(file = file, header = header, sep = sep, quote = quote, \n .     dec = dec, fill = fill, comment.char = comment.char, ...)",
      "3. file(file, \"rt\")"
     ]
    }
   ],
   "source": [
    "dat <- read.csv('MFW_biling_1880_lem.csv')"
   ]
  },
  {
   "cell_type": "code",
   "execution_count": null,
   "metadata": {
    "id": "bQcuv1NpRfJT"
   },
   "outputs": [],
   "source": [
    "head(dat)"
   ]
  },
  {
   "cell_type": "code",
   "execution_count": null,
   "metadata": {
    "id": "BqVqoLTSRzcX"
   },
   "outputs": [],
   "source": [
    "dat <- dat %>% \n",
    "  select(PageID, lemma, n) %>% \n",
    "  mutate(Page_ID = ifelse(str_detect(lemma, \"[А-Яа-я]\"), paste0(PageID, \"_rus\"), paste0(PageID, \"_ger\")))"
   ]
  },
  {
   "cell_type": "code",
   "execution_count": null,
   "metadata": {
    "id": "8lYQs2-YRhtn"
   },
   "outputs": [],
   "source": [
    "nrow(dat)"
   ]
  },
  {
   "cell_type": "code",
   "execution_count": null,
   "metadata": {
    "id": "IgclvmAePe_6"
   },
   "outputs": [],
   "source": [
    "dat <- dat %>% \n",
    "  group_by(PageID, lemma) %>% \n",
    "  summarise(n = sum(n))"
   ]
  },
  {
   "cell_type": "code",
   "execution_count": null,
   "metadata": {
    "id": "5rZ6X-0RRlMo"
   },
   "outputs": [],
   "source": [
    "nrow(dat)"
   ]
  },
  {
   "cell_type": "code",
   "execution_count": null,
   "metadata": {
    "id": "ZgglMq3bSFE8"
   },
   "outputs": [],
   "source": [
    "head(dat)"
   ]
  },
  {
   "cell_type": "code",
   "execution_count": null,
   "metadata": {
    "id": "9IRUMDl9TnUR"
   },
   "outputs": [],
   "source": [
    "stoplist <- c(\"что\", \"это\", \"быть\", \"тот\", \"который\", \"\", \"они\", \"для\", \"наш\", \"свой\", \"этот\", \"тот\", \"как\", \"все\", \"год\",\n",
    "\"при\", \"час\", \"она\", \"есть\", \"чтобы\", \"давать\", \"один\", \"только\", \"время\", \"кто\", \"так\", \"огь\", \"уже\", \"ваш\", \"сто\", \"amp\",\n",
    "\"под\", \"сие\", \"или\", \"день\", \"оть\", \"пта\",\n",
    "\"январь\", \"февраль\", \"март\", \"апрель\", \"май\", \"июнь\", \"июль\", \"август\", \"сентябрь\", \"октябрь\", \"ноябрь\", \"декабрь\",\n",
    "\"часть\", \"еще\", \"весь\", \"должный\", \"такой\", \"если\", \"себя\", \"сам\", \"окт\", \"том\", \"когда\", \"про\", \"прo\", \"копа\", \n",
    "\"кой\", \"сей\", \"мочь\", \"без\",\n",
    "\"der\", \"die\", \"das\", \"dem\", \"den\", \"von\", \"des\", \"werden\", \"auf\", \"bei\", \"und\", \"mit\", \"vom\", \"zur\", \"uhr\", \"daß\", \n",
    "\"für\", \"zum\", \"sich\", \"wird\", \"welche\", \"ein\", \"eine\", \"eins\", \"groß\", \"ist\", \"mal\", \"aus\", \"oder\", \"nicht\", \"kop\", \"als\",\n",
    "\"durch\", \"nach\", \"sie\", \"er\", \"es\", \"pfd\", \"bis\", \"per\", \"dito\", \"unter\", \"mai\", \"aus\", \"allen\", \"alle\", \"alles\", \"thlr\", \n",
    "\"diese\", \"dieses\", \"diesem\", \"diesen\", \"auch\", \"man\", \"sind\", \"ich\", \"nur\", \"einem\", \"wenn\", \"hat\", \"haben\", \"alt\",\n",
    "\"einer\", \"sub\", \"worden\", \"belegene\", \"dess\", \"herrn\", \"herr\", \"über\", \"dieser\", \"aber\", \"nebst\", \"wie\", \"pol\", \n",
    "\"sammt\", \"jahr\")"
   ]
  },
  {
   "cell_type": "code",
   "execution_count": null,
   "metadata": {
    "id": "nlbRtElHT7ig"
   },
   "outputs": [],
   "source": [
    "dat_t <- dat %>% \n",
    "  select(PageID, lemma, n) %>% \n",
    "  filter(!str_detect(lemma, \"^\\\\w$|^\\\\w{2}$|^\\\\d+$\") & !lemma %in% stoplist) %>% \n",
    "  #filter(str_detect(lemma, \"[А-Яа-я]\")) %>%  # filter only russian\n",
    "  mutate(lemma = ifelse(lemma == \"дес\", \"лес\", lemma)) %>% \n",
    "  mutate(lemma = ifelse(lemma == \"правлешя\", \"правление\", lemma))"
   ]
  },
  {
   "cell_type": "code",
   "execution_count": null,
   "metadata": {
    "id": "YsndYUqIUNcL"
   },
   "outputs": [],
   "source": [
    "dat_t %>% \n",
    "  group_by(PageID) %>% \n",
    "  summarise(words = sum(n)) %>% \n",
    "  summarise(page_avg = mean(words))"
   ]
  },
  {
   "cell_type": "code",
   "execution_count": null,
   "metadata": {
    "id": "J_tVQ7_vVhXw"
   },
   "outputs": [],
   "source": [
    "head(dat_t)"
   ]
  },
  {
   "cell_type": "code",
   "execution_count": null,
   "metadata": {
    "id": "uOyhYu9TYCbv"
   },
   "outputs": [],
   "source": [
    "dat_t %>% \n",
    "  filter(lemma == \"der\")"
   ]
  },
  {
   "cell_type": "code",
   "execution_count": null,
   "metadata": {
    "id": "0LevK3bhWL3v"
   },
   "outputs": [],
   "source": [
    "dat_ranked <- dat_t %>% \n",
    "  filter(n > 5)\n",
    "\n",
    "length(unique(dat_t$lemma))\n",
    "length(unique(dat_ranked$lemma))\n",
    "\n",
    "t <- dat_ranked %>% \n",
    "  mutate(lang = ifelse(str_detect(lemma, \"[А-Яа-я]\"), \"rus\", \"ger\"))\n",
    "\n",
    "table(t$lang)"
   ]
  },
  {
   "cell_type": "code",
   "execution_count": null,
   "metadata": {
    "id": "7oTS3eLrWUIU"
   },
   "outputs": [],
   "source": [
    "dtm_1880 <- dat_ranked %>%\n",
    "  cast_dtm(PageID, lemma, n)\n",
    "\n",
    "dtm_1880"
   ]
  },
  {
   "cell_type": "code",
   "execution_count": null,
   "metadata": {
    "id": "iCRA1HOVW7Z_"
   },
   "outputs": [],
   "source": [
    "lda_1880 <- LDA(dtm_1880, k = 20, control = list(seed = 1234))\n",
    "lda_1880"
   ]
  },
  {
   "cell_type": "code",
   "execution_count": null,
   "metadata": {
    "id": "EHfdA26kW7aD"
   },
   "outputs": [],
   "source": [
    "beta <- tidy(lda_1880, matrix = \"beta\")\n",
    "gamma <- tidy(lda_1880, matrix = \"gamma\")"
   ]
  },
  {
   "cell_type": "code",
   "execution_count": null,
   "metadata": {
    "id": "f_hZaJSJW7aG"
   },
   "outputs": [],
   "source": [
    "write.csv(beta, \"beta_1880_20.csv\")\n",
    "write.csv(gamma, \"gamma_1880_20.csv\")"
   ]
  },
  {
   "cell_type": "code",
   "execution_count": null,
   "metadata": {
    "id": "Ut7cW0YEW7aH"
   },
   "outputs": [],
   "source": [
    "head(beta)\n",
    "head(gamma)"
   ]
  },
  {
   "cell_type": "code",
   "execution_count": null,
   "metadata": {
    "id": "uQGuCZhjW7aK"
   },
   "outputs": [],
   "source": [
    "beta_top <- beta %>% \n",
    "  group_by(topic) %>% \n",
    "  slice_max(beta, n = 10)\n",
    "\n",
    "head(beta_top)"
   ]
  },
  {
   "cell_type": "code",
   "execution_count": null,
   "metadata": {
    "id": "KaF0qzo2W7aL"
   },
   "outputs": [],
   "source": [
    "beta_top %>%\n",
    "  mutate(term = reorder_within(term, beta, topic)) %>%\n",
    "  ggplot(aes(beta, term, fill = factor(topic))) +\n",
    "  geom_col(show.legend = FALSE) +\n",
    "  facet_wrap(~ topic, scales = \"free\") +\n",
    "  scale_y_reordered()\n"
   ]
  },
  {
   "cell_type": "code",
   "execution_count": null,
   "metadata": {
    "id": "Qg-ix68DW7aN"
   },
   "outputs": [],
   "source": [
    "gamma %>% \n",
    "  separate(document, into = c(\"id\", \"month\"), sep = \"_\") %>% \n",
    "  head"
   ]
  },
  {
   "cell_type": "code",
   "execution_count": null,
   "metadata": {
    "id": "IpCrws92W7aO"
   },
   "outputs": [],
   "source": [
    "gamma_avg <- gamma %>% \n",
    "  separate(document, into = c(\"id\", \"month\"), sep = \"_\") %>% \n",
    "  group_by(topic, month) %>% \n",
    "  summarise(gamma_avg = mean(gamma)) \n",
    "\n",
    "top <- gamma_avg %>% \n",
    "  ungroup() %>% \n",
    "  arrange(desc(gamma_avg)) %>% \n",
    "  head(50)"
   ]
  },
  {
   "cell_type": "code",
   "execution_count": null,
   "metadata": {
    "id": "jtwTiO8fW7aQ"
   },
   "outputs": [],
   "source": [
    "top %>%\n",
    "  ggplot(aes(x = month, y = gamma_avg, fill = factor(topic))) + \n",
    "  geom_col() # + theme(legend.position = \"None\")"
   ]
  },
  {
   "cell_type": "code",
   "execution_count": null,
   "metadata": {
    "id": "k5MOIAnuW7aR"
   },
   "outputs": [],
   "source": [
    "gamma_avg %>% \n",
    "  filter(month == \"5\") %>% \n",
    "  arrange(desc(gamma_avg)) %>% \n",
    "  head"
   ]
  },
  {
   "cell_type": "code",
   "execution_count": null,
   "metadata": {
    "id": "AGGVjw7NW7aT"
   },
   "outputs": [],
   "source": [
    "beta %>% \n",
    "  filter(topic == 12) %>% \n",
    "  slice_max(beta, n = 10)"
   ]
  },
  {
   "cell_type": "markdown",
   "metadata": {
    "id": "71BCWxPL9UEA"
   },
   "source": [
    "## 1880s sections"
   ]
  },
  {
   "cell_type": "code",
   "execution_count": null,
   "metadata": {
    "id": "Y9Eu9_k49gjh"
   },
   "outputs": [],
   "source": [
    "system(\"gdown --id  1dmp0q2GIaN4VCryhsZtH_7SPKVBV6GqJ\")"
   ]
  },
  {
   "cell_type": "code",
   "execution_count": null,
   "metadata": {
    "colab": {
     "base_uri": "https://localhost:8080/",
     "height": 34
    },
    "id": "DIvTKGBH9gjj",
    "outputId": "1ad34f0c-b677-4655-c0e2-7dee99b794ac"
   },
   "outputs": [
    {
     "data": {
      "text/html": [
       "<style>\n",
       ".list-inline {list-style: none; margin:0; padding: 0}\n",
       ".list-inline>li {display: inline-block}\n",
       ".list-inline>li:not(:last-child)::after {content: \"\\00b7\"; padding: 0 .5ex}\n",
       "</style>\n",
       "<ol class=list-inline><li>'mfw_1880_sections_lem.csv'</li><li>'sample_data'</li></ol>\n"
      ],
      "text/latex": [
       "\\begin{enumerate*}\n",
       "\\item 'mfw\\_1880\\_sections\\_lem.csv'\n",
       "\\item 'sample\\_data'\n",
       "\\end{enumerate*}\n"
      ],
      "text/markdown": [
       "1. 'mfw_1880_sections_lem.csv'\n",
       "2. 'sample_data'\n",
       "\n",
       "\n"
      ],
      "text/plain": [
       "[1] \"mfw_1880_sections_lem.csv\" \"sample_data\"              "
      ]
     },
     "metadata": {},
     "output_type": "display_data"
    }
   ],
   "source": [
    "system(\"ls\", TRUE)"
   ]
  },
  {
   "cell_type": "code",
   "execution_count": null,
   "metadata": {
    "id": "FX5mrdn49gjk"
   },
   "outputs": [],
   "source": [
    "dat <- read.csv('mfw_1880_sections_lem.csv')"
   ]
  },
  {
   "cell_type": "code",
   "execution_count": null,
   "metadata": {
    "colab": {
     "base_uri": "https://localhost:8080/",
     "height": 283
    },
    "id": "Ht2vcrF6AM4v",
    "outputId": "44e269c4-331d-446f-bbbe-9ae34c04ddb3"
   },
   "outputs": [
    {
     "data": {
      "text/html": [
       "<table class=\"dataframe\">\n",
       "<caption>A data.frame: 6 × 5</caption>\n",
       "<thead>\n",
       "\t<tr><th></th><th scope=col>word</th><th scope=col>LogicalSectionID</th><th scope=col>n</th><th scope=col>word_count</th><th scope=col>lemma</th></tr>\n",
       "\t<tr><th></th><th scope=col>&lt;chr&gt;</th><th scope=col>&lt;chr&gt;</th><th scope=col>&lt;int&gt;</th><th scope=col>&lt;int&gt;</th><th scope=col>&lt;chr&gt;</th></tr>\n",
       "</thead>\n",
       "<tbody>\n",
       "\t<tr><th scope=row>1</th><td>groß   </td><td>livzeitung18800613.2.2.2</td><td>507</td><td> 21256</td><td>groß    </td></tr>\n",
       "\t<tr><th scope=row>2</th><td>подп   </td><td>ekmteataja18891228.2.5  </td><td>484</td><td>   565</td><td>подп    </td></tr>\n",
       "\t<tr><th scope=row>3</th><td>der    </td><td>livzeitung18800430.2.2.4</td><td>481</td><td>229968</td><td>der     </td></tr>\n",
       "\t<tr><th scope=row>4</th><td>thlr   </td><td>livzeitung18800613.2.2.2</td><td>478</td><td> 15158</td><td>thlr    </td></tr>\n",
       "\t<tr><th scope=row>5</th><td>groß   </td><td>livzeitung18800611.2.2.3</td><td>462</td><td> 21256</td><td>groß    </td></tr>\n",
       "\t<tr><th scope=row>6</th><td>пожертв</td><td>ekmteataja18891228.2.5  </td><td>458</td><td>   465</td><td>пожертва</td></tr>\n",
       "</tbody>\n",
       "</table>\n"
      ],
      "text/latex": [
       "A data.frame: 6 × 5\n",
       "\\begin{tabular}{r|lllll}\n",
       "  & word & LogicalSectionID & n & word\\_count & lemma\\\\\n",
       "  & <chr> & <chr> & <int> & <int> & <chr>\\\\\n",
       "\\hline\n",
       "\t1 & groß    & livzeitung18800613.2.2.2 & 507 &  21256 & groß    \\\\\n",
       "\t2 & подп    & ekmteataja18891228.2.5   & 484 &    565 & подп    \\\\\n",
       "\t3 & der     & livzeitung18800430.2.2.4 & 481 & 229968 & der     \\\\\n",
       "\t4 & thlr    & livzeitung18800613.2.2.2 & 478 &  15158 & thlr    \\\\\n",
       "\t5 & groß    & livzeitung18800611.2.2.3 & 462 &  21256 & groß    \\\\\n",
       "\t6 & пожертв & ekmteataja18891228.2.5   & 458 &    465 & пожертва\\\\\n",
       "\\end{tabular}\n"
      ],
      "text/markdown": [
       "\n",
       "A data.frame: 6 × 5\n",
       "\n",
       "| <!--/--> | word &lt;chr&gt; | LogicalSectionID &lt;chr&gt; | n &lt;int&gt; | word_count &lt;int&gt; | lemma &lt;chr&gt; |\n",
       "|---|---|---|---|---|---|\n",
       "| 1 | groß    | livzeitung18800613.2.2.2 | 507 |  21256 | groß     |\n",
       "| 2 | подп    | ekmteataja18891228.2.5   | 484 |    565 | подп     |\n",
       "| 3 | der     | livzeitung18800430.2.2.4 | 481 | 229968 | der      |\n",
       "| 4 | thlr    | livzeitung18800613.2.2.2 | 478 |  15158 | thlr     |\n",
       "| 5 | groß    | livzeitung18800611.2.2.3 | 462 |  21256 | groß     |\n",
       "| 6 | пожертв | ekmteataja18891228.2.5   | 458 |    465 | пожертва |\n",
       "\n"
      ],
      "text/plain": [
       "  word    LogicalSectionID         n   word_count lemma   \n",
       "1 groß    livzeitung18800613.2.2.2 507  21256     groß    \n",
       "2 подп    ekmteataja18891228.2.5   484    565     подп    \n",
       "3 der     livzeitung18800430.2.2.4 481 229968     der     \n",
       "4 thlr    livzeitung18800613.2.2.2 478  15158     thlr    \n",
       "5 groß    livzeitung18800611.2.2.3 462  21256     groß    \n",
       "6 пожертв ekmteataja18891228.2.5   458    465     пожертва"
      ]
     },
     "metadata": {},
     "output_type": "display_data"
    }
   ],
   "source": [
    "dat <- dat %>% select(-`X.1`, -Unnamed..0, -X)\n",
    "head(dat)"
   ]
  },
  {
   "cell_type": "code",
   "execution_count": null,
   "metadata": {
    "id": "UlYHknIRAM42"
   },
   "outputs": [],
   "source": [
    "dat <- dat %>% \n",
    "  rename(section_id = LogicalSectionID) %>% \n",
    "  select(section_id, lemma, n) %>% \n",
    "  mutate(section_id = ifelse(str_detect(lemma, \"[А-Яа-я]\"), paste0(section_id, \"_rus\"), paste0(section_id, \"_ger\")))"
   ]
  },
  {
   "cell_type": "code",
   "execution_count": null,
   "metadata": {
    "colab": {
     "base_uri": "https://localhost:8080/",
     "height": 34
    },
    "id": "tNDVRlsHAM42",
    "outputId": "774cf105-9620-4d2a-834f-14b31dcf8d3e"
   },
   "outputs": [
    {
     "data": {
      "text/html": [
       "5995852"
      ],
      "text/latex": [
       "5995852"
      ],
      "text/markdown": [
       "5995852"
      ],
      "text/plain": [
       "[1] 5995852"
      ]
     },
     "metadata": {},
     "output_type": "display_data"
    }
   ],
   "source": [
    "nrow(dat)"
   ]
  },
  {
   "cell_type": "code",
   "execution_count": null,
   "metadata": {
    "colab": {
     "base_uri": "https://localhost:8080/"
    },
    "id": "WuJKZaHDAM43",
    "outputId": "a940937c-8650-43b9-a9eb-e1021cbe45d9"
   },
   "outputs": [
    {
     "name": "stderr",
     "output_type": "stream",
     "text": [
      "\u001b[1m\u001b[22m`summarise()` has grouped output by 'section_id'. You can override using the\n",
      "`.groups` argument.\n"
     ]
    }
   ],
   "source": [
    "# sum number of words in each section (there might be duplicates since previous count was done on non-lemmatized text)\n",
    "\n",
    "dat_sections <- dat %>% \n",
    "  group_by(section_id, lemma) %>% \n",
    "  summarise(n = sum(n))"
   ]
  },
  {
   "cell_type": "code",
   "execution_count": null,
   "metadata": {
    "colab": {
     "base_uri": "https://localhost:8080/",
     "height": 34
    },
    "id": "y1SWMobvAM43",
    "outputId": "55584bc4-7258-4b59-c1ec-7dde9cfbc650"
   },
   "outputs": [
    {
     "data": {
      "text/html": [
       "5504282"
      ],
      "text/latex": [
       "5504282"
      ],
      "text/markdown": [
       "5504282"
      ],
      "text/plain": [
       "[1] 5504282"
      ]
     },
     "metadata": {},
     "output_type": "display_data"
    }
   ],
   "source": [
    "nrow(dat_sections)"
   ]
  },
  {
   "cell_type": "code",
   "execution_count": null,
   "metadata": {
    "colab": {
     "base_uri": "https://localhost:8080/",
     "height": 283
    },
    "id": "Xi_RGO7TAM43",
    "outputId": "92631644-3eb4-451a-bc7f-25a35c2cb63d"
   },
   "outputs": [
    {
     "data": {
      "text/html": [
       "<table class=\"dataframe\">\n",
       "<caption>A grouped_df: 6 × 3</caption>\n",
       "<thead>\n",
       "\t<tr><th scope=col>section_id</th><th scope=col>lemma</th><th scope=col>n</th></tr>\n",
       "\t<tr><th scope=col>&lt;chr&gt;</th><th scope=col>&lt;chr&gt;</th><th scope=col>&lt;int&gt;</th></tr>\n",
       "</thead>\n",
       "<tbody>\n",
       "\t<tr><td>ekmteataja18800103.2.2_rus  </td><td>оффициальный   </td><td>1</td></tr>\n",
       "\t<tr><td>ekmteataja18800103.2.2_rus  </td><td>часть          </td><td>1</td></tr>\n",
       "\t<tr><td>ekmteataja18800103.2.2.1_ger</td><td>abfassung      </td><td>2</td></tr>\n",
       "\t<tr><td>ekmteataja18800103.2.2.1_ger</td><td>abgabenquittung</td><td>1</td></tr>\n",
       "\t<tr><td>ekmteataja18800103.2.2.1_ger</td><td>abgedruckt     </td><td>1</td></tr>\n",
       "\t<tr><td>ekmteataja18800103.2.2.1_ger</td><td>abhanden       </td><td>1</td></tr>\n",
       "</tbody>\n",
       "</table>\n"
      ],
      "text/latex": [
       "A grouped\\_df: 6 × 3\n",
       "\\begin{tabular}{lll}\n",
       " section\\_id & lemma & n\\\\\n",
       " <chr> & <chr> & <int>\\\\\n",
       "\\hline\n",
       "\t ekmteataja18800103.2.2\\_rus   & оффициальный    & 1\\\\\n",
       "\t ekmteataja18800103.2.2\\_rus   & часть           & 1\\\\\n",
       "\t ekmteataja18800103.2.2.1\\_ger & abfassung       & 2\\\\\n",
       "\t ekmteataja18800103.2.2.1\\_ger & abgabenquittung & 1\\\\\n",
       "\t ekmteataja18800103.2.2.1\\_ger & abgedruckt      & 1\\\\\n",
       "\t ekmteataja18800103.2.2.1\\_ger & abhanden        & 1\\\\\n",
       "\\end{tabular}\n"
      ],
      "text/markdown": [
       "\n",
       "A grouped_df: 6 × 3\n",
       "\n",
       "| section_id &lt;chr&gt; | lemma &lt;chr&gt; | n &lt;int&gt; |\n",
       "|---|---|---|\n",
       "| ekmteataja18800103.2.2_rus   | оффициальный    | 1 |\n",
       "| ekmteataja18800103.2.2_rus   | часть           | 1 |\n",
       "| ekmteataja18800103.2.2.1_ger | abfassung       | 2 |\n",
       "| ekmteataja18800103.2.2.1_ger | abgabenquittung | 1 |\n",
       "| ekmteataja18800103.2.2.1_ger | abgedruckt      | 1 |\n",
       "| ekmteataja18800103.2.2.1_ger | abhanden        | 1 |\n",
       "\n"
      ],
      "text/plain": [
       "  section_id                   lemma           n\n",
       "1 ekmteataja18800103.2.2_rus   оффициальный    1\n",
       "2 ekmteataja18800103.2.2_rus   часть           1\n",
       "3 ekmteataja18800103.2.2.1_ger abfassung       2\n",
       "4 ekmteataja18800103.2.2.1_ger abgabenquittung 1\n",
       "5 ekmteataja18800103.2.2.1_ger abgedruckt      1\n",
       "6 ekmteataja18800103.2.2.1_ger abhanden        1"
      ]
     },
     "metadata": {},
     "output_type": "display_data"
    }
   ],
   "source": [
    "head(dat_sections)"
   ]
  },
  {
   "cell_type": "code",
   "execution_count": null,
   "metadata": {
    "id": "UBzkQpT-AT4Q"
   },
   "outputs": [],
   "source": [
    "stoplist <- c(\"что\", \"это\", \"быть\", \"тот\", \"который\", \"\", \"они\", \"для\", \"наш\", \"свой\", \"этот\", \"тот\", \"как\", \"все\", \"год\",\n",
    "\"при\", \"час\", \"она\", \"есть\", \"чтобы\", \"давать\", \"один\", \"только\", \"время\", \"кто\", \"так\", \"огь\", \"уже\", \"ваш\", \"сто\", \"amp\",\n",
    "\"под\", \"сие\", \"или\", \"день\", \"оть\", \"пта\",\n",
    "\"январь\", \"февраль\", \"март\", \"апрель\", \"май\", \"июнь\", \"июль\", \"август\", \"сентябрь\", \"октябрь\", \"ноябрь\", \"декабрь\",\n",
    "\"часть\", \"еще\", \"весь\", \"должный\", \"такой\", \"если\", \"себя\", \"сам\", \"окт\", \"том\", \"когда\", \"про\", \"прo\", \"копа\", \n",
    "\"кой\", \"сей\", \"мочь\", \"без\",\n",
    "\"оффициальный\", \"часть\",\n",
    "\"der\", \"die\", \"das\", \"dem\", \"den\", \"von\", \"des\", \"werden\", \"auf\", \"bei\", \"und\", \"mit\", \"vom\", \"zur\", \"uhr\", \"daß\", \n",
    "\"für\", \"zum\", \"sich\", \"wird\", \"welche\", \"ein\", \"eine\", \"eins\", \"groß\", \"ist\", \"mal\", \"aus\", \"oder\", \"nicht\", \"kop\", \"als\",\n",
    "\"durch\", \"nach\", \"sie\", \"er\", \"es\", \"pfd\", \"bis\", \"per\", \"dito\", \"unter\", \"mai\", \"aus\", \"allen\", \"alle\", \"alles\", \"thlr\", \n",
    "\"diese\", \"dieses\", \"diesem\", \"diesen\", \"auch\", \"man\", \"sind\", \"ich\", \"nur\", \"einem\", \"wenn\", \"hat\", \"haben\", \"alt\",\n",
    "\"einer\", \"sub\", \"worden\", \"belegene\", \"dess\", \"herrn\", \"herr\", \"über\", \"dieser\", \"aber\", \"nebst\", \"wie\", \"pol\", \n",
    "\"sammt\", \"jahr\")"
   ]
  },
  {
   "cell_type": "markdown",
   "metadata": {
    "id": "PEkX2-_pHIBD"
   },
   "source": [
    "Filter stoplist & correct two very frequent misspellings"
   ]
  },
  {
   "cell_type": "code",
   "execution_count": null,
   "metadata": {
    "id": "BCvjCE0bAT4S"
   },
   "outputs": [],
   "source": [
    "dat_t <- dat_sections %>% \n",
    "  select(section_id, lemma, n) %>% \n",
    "  filter(!str_detect(lemma, \"^\\\\w$|^\\\\w{2}$|^\\\\d+$\") & !lemma %in% stoplist) %>% \n",
    "  mutate(lemma = ifelse(lemma == \"дес\", \"лес\", lemma)) %>% \n",
    "  mutate(lemma = ifelse(lemma == \"правлешя\", \"правление\", lemma))"
   ]
  },
  {
   "cell_type": "markdown",
   "metadata": {
    "id": "vsGCfbNbKrL0"
   },
   "source": [
    "Average section length"
   ]
  },
  {
   "cell_type": "code",
   "execution_count": null,
   "metadata": {
    "colab": {
     "base_uri": "https://localhost:8080/",
     "height": 128
    },
    "id": "m4Y3BWjYAT4T",
    "outputId": "f031a647-0c95-4177-908b-3d4d069a64bc"
   },
   "outputs": [
    {
     "data": {
      "text/html": [
       "<table class=\"dataframe\">\n",
       "<caption>A tibble: 1 × 1</caption>\n",
       "<thead>\n",
       "\t<tr><th scope=col>section_avg</th></tr>\n",
       "\t<tr><th scope=col>&lt;dbl&gt;</th></tr>\n",
       "</thead>\n",
       "<tbody>\n",
       "\t<tr><td>201.5141</td></tr>\n",
       "</tbody>\n",
       "</table>\n"
      ],
      "text/latex": [
       "A tibble: 1 × 1\n",
       "\\begin{tabular}{l}\n",
       " section\\_avg\\\\\n",
       " <dbl>\\\\\n",
       "\\hline\n",
       "\t 201.5141\\\\\n",
       "\\end{tabular}\n"
      ],
      "text/markdown": [
       "\n",
       "A tibble: 1 × 1\n",
       "\n",
       "| section_avg &lt;dbl&gt; |\n",
       "|---|\n",
       "| 201.5141 |\n",
       "\n"
      ],
      "text/plain": [
       "  section_avg\n",
       "1 201.5141   "
      ]
     },
     "metadata": {},
     "output_type": "display_data"
    }
   ],
   "source": [
    "dat_t %>% \n",
    "  group_by(section_id) %>% \n",
    "  summarise(words = sum(n)) %>% \n",
    "  summarise(section_avg = mean(words))"
   ]
  },
  {
   "cell_type": "code",
   "execution_count": null,
   "metadata": {
    "colab": {
     "base_uri": "https://localhost:8080/",
     "height": 136
    },
    "id": "I78WYGjWBQsS",
    "outputId": "c18d35e2-954f-4e65-e409-cd3b1cde7383"
   },
   "outputs": [
    {
     "data": {
      "text/plain": [
       "     words        \n",
       " Min.   :   1.00  \n",
       " 1st Qu.:   5.75  \n",
       " Median :  42.00  \n",
       " Mean   : 201.51  \n",
       " 3rd Qu.: 201.00  \n",
       " Max.   :9481.00  "
      ]
     },
     "metadata": {},
     "output_type": "display_data"
    }
   ],
   "source": [
    "summary(dat_t %>% group_by(section_id) %>% summarise(words = sum(n)) %>% select(words))"
   ]
  },
  {
   "cell_type": "code",
   "execution_count": null,
   "metadata": {
    "colab": {
     "base_uri": "https://localhost:8080/",
     "height": 283
    },
    "id": "miPQPp4aAT4T",
    "outputId": "d4002fe3-c729-474a-e4f4-deb3cf7e00b1"
   },
   "outputs": [
    {
     "data": {
      "text/html": [
       "<table class=\"dataframe\">\n",
       "<caption>A grouped_df: 6 × 3</caption>\n",
       "<thead>\n",
       "\t<tr><th scope=col>section_id</th><th scope=col>lemma</th><th scope=col>n</th></tr>\n",
       "\t<tr><th scope=col>&lt;chr&gt;</th><th scope=col>&lt;chr&gt;</th><th scope=col>&lt;int&gt;</th></tr>\n",
       "</thead>\n",
       "<tbody>\n",
       "\t<tr><td>ekmteataja18800103.2.2.1_ger</td><td>abfassung      </td><td>2</td></tr>\n",
       "\t<tr><td>ekmteataja18800103.2.2.1_ger</td><td>abgabenquittung</td><td>1</td></tr>\n",
       "\t<tr><td>ekmteataja18800103.2.2.1_ger</td><td>abgedruckt     </td><td>1</td></tr>\n",
       "\t<tr><td>ekmteataja18800103.2.2.1_ger</td><td>abhanden       </td><td>1</td></tr>\n",
       "\t<tr><td>ekmteataja18800103.2.2.1_ger</td><td>abweichungen   </td><td>1</td></tr>\n",
       "\t<tr><td>ekmteataja18800103.2.2.1_ger</td><td>anordnung      </td><td>1</td></tr>\n",
       "</tbody>\n",
       "</table>\n"
      ],
      "text/latex": [
       "A grouped\\_df: 6 × 3\n",
       "\\begin{tabular}{lll}\n",
       " section\\_id & lemma & n\\\\\n",
       " <chr> & <chr> & <int>\\\\\n",
       "\\hline\n",
       "\t ekmteataja18800103.2.2.1\\_ger & abfassung       & 2\\\\\n",
       "\t ekmteataja18800103.2.2.1\\_ger & abgabenquittung & 1\\\\\n",
       "\t ekmteataja18800103.2.2.1\\_ger & abgedruckt      & 1\\\\\n",
       "\t ekmteataja18800103.2.2.1\\_ger & abhanden        & 1\\\\\n",
       "\t ekmteataja18800103.2.2.1\\_ger & abweichungen    & 1\\\\\n",
       "\t ekmteataja18800103.2.2.1\\_ger & anordnung       & 1\\\\\n",
       "\\end{tabular}\n"
      ],
      "text/markdown": [
       "\n",
       "A grouped_df: 6 × 3\n",
       "\n",
       "| section_id &lt;chr&gt; | lemma &lt;chr&gt; | n &lt;int&gt; |\n",
       "|---|---|---|\n",
       "| ekmteataja18800103.2.2.1_ger | abfassung       | 2 |\n",
       "| ekmteataja18800103.2.2.1_ger | abgabenquittung | 1 |\n",
       "| ekmteataja18800103.2.2.1_ger | abgedruckt      | 1 |\n",
       "| ekmteataja18800103.2.2.1_ger | abhanden        | 1 |\n",
       "| ekmteataja18800103.2.2.1_ger | abweichungen    | 1 |\n",
       "| ekmteataja18800103.2.2.1_ger | anordnung       | 1 |\n",
       "\n"
      ],
      "text/plain": [
       "  section_id                   lemma           n\n",
       "1 ekmteataja18800103.2.2.1_ger abfassung       2\n",
       "2 ekmteataja18800103.2.2.1_ger abgabenquittung 1\n",
       "3 ekmteataja18800103.2.2.1_ger abgedruckt      1\n",
       "4 ekmteataja18800103.2.2.1_ger abhanden        1\n",
       "5 ekmteataja18800103.2.2.1_ger abweichungen    1\n",
       "6 ekmteataja18800103.2.2.1_ger anordnung       1"
      ]
     },
     "metadata": {},
     "output_type": "display_data"
    }
   ],
   "source": [
    "head(dat_t)"
   ]
  },
  {
   "cell_type": "code",
   "execution_count": null,
   "metadata": {
    "colab": {
     "base_uri": "https://localhost:8080/",
     "height": 97
    },
    "id": "zyJuTH5xAT4U",
    "outputId": "e0b356db-d77c-463a-f795-66822231c8f2"
   },
   "outputs": [
    {
     "data": {
      "text/html": [
       "<table class=\"dataframe\">\n",
       "<caption>A grouped_df: 0 × 3</caption>\n",
       "<thead>\n",
       "\t<tr><th scope=col>section_id</th><th scope=col>lemma</th><th scope=col>n</th></tr>\n",
       "\t<tr><th scope=col>&lt;chr&gt;</th><th scope=col>&lt;chr&gt;</th><th scope=col>&lt;int&gt;</th></tr>\n",
       "</thead>\n",
       "<tbody>\n",
       "</tbody>\n",
       "</table>\n"
      ],
      "text/latex": [
       "A grouped\\_df: 0 × 3\n",
       "\\begin{tabular}{lll}\n",
       " section\\_id & lemma & n\\\\\n",
       " <chr> & <chr> & <int>\\\\\n",
       "\\hline\n",
       "\\end{tabular}\n"
      ],
      "text/markdown": [
       "\n",
       "A grouped_df: 0 × 3\n",
       "\n",
       "| section_id &lt;chr&gt; | lemma &lt;chr&gt; | n &lt;int&gt; |\n",
       "|---|---|---|\n",
       "\n"
      ],
      "text/plain": [
       "     section_id lemma n"
      ]
     },
     "metadata": {},
     "output_type": "display_data"
    }
   ],
   "source": [
    "dat_t %>% \n",
    "  filter(lemma == \"der\")"
   ]
  },
  {
   "cell_type": "markdown",
   "metadata": {
    "id": "UkSnAqeUHR8J"
   },
   "source": [
    "Filter only 8k MFW"
   ]
  },
  {
   "cell_type": "code",
   "execution_count": null,
   "metadata": {
    "colab": {
     "base_uri": "https://localhost:8080/",
     "height": 102
    },
    "id": "TpcGO2sNAT4U",
    "outputId": "7bcc065c-40c3-4328-919d-e651812fefe9"
   },
   "outputs": [
    {
     "data": {
      "text/html": [
       "36097"
      ],
      "text/latex": [
       "36097"
      ],
      "text/markdown": [
       "36097"
      ],
      "text/plain": [
       "[1] 36097"
      ]
     },
     "metadata": {},
     "output_type": "display_data"
    },
    {
     "data": {
      "text/html": [
       "8899"
      ],
      "text/latex": [
       "8899"
      ],
      "text/markdown": [
       "8899"
      ],
      "text/plain": [
       "[1] 8899"
      ]
     },
     "metadata": {},
     "output_type": "display_data"
    },
    {
     "data": {
      "text/plain": [
       "\n",
       "   ger    rus \n",
       "102836 118120 "
      ]
     },
     "metadata": {},
     "output_type": "display_data"
    }
   ],
   "source": [
    "dat_ranked <- dat_t %>% \n",
    "  filter(n > 5)\n",
    "\n",
    "length(unique(dat_t$lemma))\n",
    "length(unique(dat_ranked$lemma))\n",
    "\n",
    "t <- dat_ranked %>% \n",
    "  mutate(lang = ifelse(str_detect(lemma, \"[А-Яа-я]\"), \"rus\", \"ger\"))\n",
    "\n",
    "table(t$lang)"
   ]
  },
  {
   "cell_type": "code",
   "execution_count": null,
   "metadata": {
    "colab": {
     "base_uri": "https://localhost:8080/",
     "height": 102
    },
    "id": "3skbuYaJAT4U",
    "outputId": "0c1833e0-609e-418a-82ca-4910d59c6377"
   },
   "outputs": [
    {
     "data": {
      "text/plain": [
       "<<DocumentTermMatrix (documents: 15097, terms: 8899)>>\n",
       "Non-/sparse entries: 220890/134127313\n",
       "Sparsity           : 100%\n",
       "Maximal term length: 27\n",
       "Weighting          : term frequency (tf)"
      ]
     },
     "metadata": {},
     "output_type": "display_data"
    }
   ],
   "source": [
    "dtm_1880_sections <- dat_ranked %>%\n",
    "  cast_dtm(section_id, lemma, n)\n",
    "\n",
    "dtm_1880_sections"
   ]
  },
  {
   "cell_type": "code",
   "execution_count": null,
   "metadata": {
    "id": "LmT7yYNMMahC"
   },
   "outputs": [],
   "source": [
    "write.csv(dat_ranked, \"mfw_1880_sections_dat_ranked. csv\")"
   ]
  },
  {
   "cell_type": "code",
   "execution_count": null,
   "metadata": {
    "id": "psxnKYp5Lw8a"
   },
   "outputs": [],
   "source": [
    "save(dtm_1880_sections, file = \"dtm_1880_sections.Rda\")"
   ]
  },
  {
   "cell_type": "markdown",
   "metadata": {
    "id": "DZFAmhm9HVtE"
   },
   "source": [
    "Building the model and store the results"
   ]
  },
  {
   "cell_type": "code",
   "execution_count": null,
   "metadata": {
    "colab": {
     "base_uri": "https://localhost:8080/",
     "height": 34
    },
    "id": "6FIyF3G-AT4U",
    "outputId": "d9de5058-70ad-46e6-96e1-11c385a1cd5a"
   },
   "outputs": [
    {
     "data": {
      "text/plain": [
       "A LDA_VEM topic model with 20 topics."
      ]
     },
     "metadata": {},
     "output_type": "display_data"
    }
   ],
   "source": [
    "lda_1880_s <- LDA(dtm_1880_sections, k = 20, control = list(seed = 1234))\n",
    "lda_1880_s"
   ]
  },
  {
   "cell_type": "code",
   "execution_count": null,
   "metadata": {
    "id": "oq7rlAzlAT4V"
   },
   "outputs": [],
   "source": [
    "beta <- tidy(lda_1880_s, matrix = \"beta\")\n",
    "gamma <- tidy(lda_1880_s, matrix = \"gamma\")"
   ]
  },
  {
   "cell_type": "code",
   "execution_count": null,
   "metadata": {
    "id": "MKltCsXwAT4V"
   },
   "outputs": [],
   "source": [
    "write.csv(beta, \"beta_1880_sections_20.csv\")\n",
    "write.csv(gamma, \"gamma_1880_sections_20.csv\")"
   ]
  },
  {
   "cell_type": "code",
   "execution_count": null,
   "metadata": {
    "id": "XXUcjVbkeQzF"
   },
   "outputs": [],
   "source": [
    "lda_1880_l <- LDA(dtm_1880_sections, k = 50, control = list(seed = 1234))\n",
    "lda_1880_l\n",
    "\n",
    "beta <- tidy(lda_1880_l, matrix = \"beta\")\n",
    "gamma <- tidy(lda_1880_l, matrix = \"gamma\")"
   ]
  },
  {
   "cell_type": "code",
   "execution_count": null,
   "metadata": {
    "id": "iVv8PLbVeYB8"
   },
   "outputs": [],
   "source": [
    "write.csv(beta, \"beta_1880_sections_50.csv\")\n",
    "write.csv(gamma, \"gamma_1880_sections_50.csv\")"
   ]
  }
 ],
 "metadata": {
  "colab": {
   "provenance": []
  },
  "kernelspec": {
   "display_name": "R",
   "name": "ir"
  },
  "language_info": {
   "name": "R"
  }
 },
 "nbformat": 4,
 "nbformat_minor": 1
}
