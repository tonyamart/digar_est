{
 "cells": [
  {
   "cell_type": "markdown",
   "id": "26af6755",
   "metadata": {},
   "source": [
    "### Preprocessing\n",
    "- Upload tables with preprocessed word counts (converted to modern orthography and lemmatized)\n",
    "- Group the word counts to real counts\n",
    "- Make DTMs for topic modeling"
   ]
  },
  {
   "cell_type": "code",
   "execution_count": 1,
   "id": "0affad62",
   "metadata": {},
   "outputs": [
    {
     "name": "stderr",
     "output_type": "stream",
     "text": [
      "── \u001b[1mAttaching packages\u001b[22m ─────────────────────────────────────── tidyverse 1.3.1 ──\n",
      "\n",
      "\u001b[32m✔\u001b[39m \u001b[34mggplot2\u001b[39m 3.3.5     \u001b[32m✔\u001b[39m \u001b[34mpurrr  \u001b[39m 0.3.4\n",
      "\u001b[32m✔\u001b[39m \u001b[34mtibble \u001b[39m 3.1.6     \u001b[32m✔\u001b[39m \u001b[34mdplyr  \u001b[39m 1.0.8\n",
      "\u001b[32m✔\u001b[39m \u001b[34mtidyr  \u001b[39m 1.2.0     \u001b[32m✔\u001b[39m \u001b[34mstringr\u001b[39m 1.4.0\n",
      "\u001b[32m✔\u001b[39m \u001b[34mreadr  \u001b[39m 2.1.2     \u001b[32m✔\u001b[39m \u001b[34mforcats\u001b[39m 0.5.1\n",
      "\n",
      "── \u001b[1mConflicts\u001b[22m ────────────────────────────────────────── tidyverse_conflicts() ──\n",
      "\u001b[31m✖\u001b[39m \u001b[34mdplyr\u001b[39m::\u001b[32mfilter()\u001b[39m masks \u001b[34mstats\u001b[39m::filter()\n",
      "\u001b[31m✖\u001b[39m \u001b[34mdplyr\u001b[39m::\u001b[32mlag()\u001b[39m    masks \u001b[34mstats\u001b[39m::lag()\n",
      "\n"
     ]
    }
   ],
   "source": [
    "library(tidyverse)"
   ]
  },
  {
   "cell_type": "code",
   "execution_count": 2,
   "id": "76c87ee0",
   "metadata": {},
   "outputs": [
    {
     "data": {
      "text/html": [
       "<table class=\"dataframe\">\n",
       "<caption>A data.frame: 6 × 6</caption>\n",
       "<thead>\n",
       "\t<tr><th></th><th scope=col>X</th><th scope=col>Unnamed..0</th><th scope=col>word</th><th scope=col>PageID</th><th scope=col>n</th><th scope=col>lemma</th></tr>\n",
       "\t<tr><th></th><th scope=col>&lt;int&gt;</th><th scope=col>&lt;int&gt;</th><th scope=col>&lt;chr&gt;</th><th scope=col>&lt;chr&gt;</th><th scope=col>&lt;int&gt;</th><th scope=col>&lt;chr&gt;</th></tr>\n",
       "</thead>\n",
       "<tbody>\n",
       "\t<tr><th scope=row>1</th><td>0</td><td>1</td><td>и </td><td>revelskojeslovo19170201.1.2</td><td>191</td><td>и </td></tr>\n",
       "\t<tr><th scope=row>2</th><td>1</td><td>2</td><td>gt</td><td>nasheslovo19171129.1.2     </td><td>189</td><td>gt</td></tr>\n",
       "\t<tr><th scope=row>3</th><td>2</td><td>3</td><td>gt</td><td>nasheslovo19171123.1.3     </td><td>183</td><td>gt</td></tr>\n",
       "\t<tr><th scope=row>4</th><td>3</td><td>4</td><td>и </td><td>revelskojeslovo19170722.1.2</td><td>178</td><td>и </td></tr>\n",
       "\t<tr><th scope=row>5</th><td>4</td><td>5</td><td>и </td><td>revelskojeslovo19170803.1.2</td><td>178</td><td>и </td></tr>\n",
       "\t<tr><th scope=row>6</th><td>5</td><td>6</td><td>и </td><td>revelskojeslovo19170609.1.2</td><td>169</td><td>и </td></tr>\n",
       "</tbody>\n",
       "</table>\n"
      ],
      "text/latex": [
       "A data.frame: 6 × 6\n",
       "\\begin{tabular}{r|llllll}\n",
       "  & X & Unnamed..0 & word & PageID & n & lemma\\\\\n",
       "  & <int> & <int> & <chr> & <chr> & <int> & <chr>\\\\\n",
       "\\hline\n",
       "\t1 & 0 & 1 & и  & revelskojeslovo19170201.1.2 & 191 & и \\\\\n",
       "\t2 & 1 & 2 & gt & nasheslovo19171129.1.2      & 189 & gt\\\\\n",
       "\t3 & 2 & 3 & gt & nasheslovo19171123.1.3      & 183 & gt\\\\\n",
       "\t4 & 3 & 4 & и  & revelskojeslovo19170722.1.2 & 178 & и \\\\\n",
       "\t5 & 4 & 5 & и  & revelskojeslovo19170803.1.2 & 178 & и \\\\\n",
       "\t6 & 5 & 6 & и  & revelskojeslovo19170609.1.2 & 169 & и \\\\\n",
       "\\end{tabular}\n"
      ],
      "text/markdown": [
       "\n",
       "A data.frame: 6 × 6\n",
       "\n",
       "| <!--/--> | X &lt;int&gt; | Unnamed..0 &lt;int&gt; | word &lt;chr&gt; | PageID &lt;chr&gt; | n &lt;int&gt; | lemma &lt;chr&gt; |\n",
       "|---|---|---|---|---|---|---|\n",
       "| 1 | 0 | 1 | и  | revelskojeslovo19170201.1.2 | 191 | и  |\n",
       "| 2 | 1 | 2 | gt | nasheslovo19171129.1.2      | 189 | gt |\n",
       "| 3 | 2 | 3 | gt | nasheslovo19171123.1.3      | 183 | gt |\n",
       "| 4 | 3 | 4 | и  | revelskojeslovo19170722.1.2 | 178 | и  |\n",
       "| 5 | 4 | 5 | и  | revelskojeslovo19170803.1.2 | 178 | и  |\n",
       "| 6 | 5 | 6 | и  | revelskojeslovo19170609.1.2 | 169 | и  |\n",
       "\n"
      ],
      "text/plain": [
       "  X Unnamed..0 word PageID                      n   lemma\n",
       "1 0 1          и    revelskojeslovo19170201.1.2 191 и    \n",
       "2 1 2          gt   nasheslovo19171129.1.2      189 gt   \n",
       "3 2 3          gt   nasheslovo19171123.1.3      183 gt   \n",
       "4 3 4          и    revelskojeslovo19170722.1.2 178 и    \n",
       "5 4 5          и    revelskojeslovo19170803.1.2 178 и    \n",
       "6 5 6          и    revelskojeslovo19170609.1.2 169 и    "
      ]
     },
     "metadata": {},
     "output_type": "display_data"
    }
   ],
   "source": [
    "dat <- read.csv(\"mfw/MFW_1917_pageID_lem.csv\")\n",
    "head(dat)"
   ]
  },
  {
   "cell_type": "code",
   "execution_count": 3,
   "id": "4a8fe48e",
   "metadata": {},
   "outputs": [],
   "source": [
    "dat <- dat %>% \n",
    "    mutate(lemma = str_remove_all(lemma, \"ъ$\"))"
   ]
  },
  {
   "cell_type": "code",
   "execution_count": 4,
   "id": "967f3a9e",
   "metadata": {},
   "outputs": [
    {
     "name": "stderr",
     "output_type": "stream",
     "text": [
      "\u001b[1m\u001b[22m`summarise()` has grouped output by 'PageID'. You can override using the\n",
      "`.groups` argument.\n"
     ]
    }
   ],
   "source": [
    "dat_gr <- dat %>% \n",
    "    # mutate(id_full = paste0(id, \"__\", month)) %>% \n",
    "    # group_by(lemma, id_full) %>% \n",
    "    group_by(PageID, lemma) %>%\n",
    "    summarise(n = sum(n)) %>% \n",
    "    arrange(desc(n))"
   ]
  },
  {
   "cell_type": "code",
   "execution_count": 5,
   "id": "ec6836fd",
   "metadata": {},
   "outputs": [
    {
     "data": {
      "text/html": [
       "4854741"
      ],
      "text/latex": [
       "4854741"
      ],
      "text/markdown": [
       "4854741"
      ],
      "text/plain": [
       "[1] 4854741"
      ]
     },
     "metadata": {},
     "output_type": "display_data"
    },
    {
     "data": {
      "text/html": [
       "4416840"
      ],
      "text/latex": [
       "4416840"
      ],
      "text/markdown": [
       "4416840"
      ],
      "text/plain": [
       "[1] 4416840"
      ]
     },
     "metadata": {},
     "output_type": "display_data"
    },
    {
     "data": {
      "text/html": [
       "<table class=\"dataframe\">\n",
       "<caption>A grouped_df: 6 × 3</caption>\n",
       "<thead>\n",
       "\t<tr><th scope=col>PageID</th><th scope=col>lemma</th><th scope=col>n</th></tr>\n",
       "\t<tr><th scope=col>&lt;chr&gt;</th><th scope=col>&lt;chr&gt;</th><th scope=col>&lt;int&gt;</th></tr>\n",
       "</thead>\n",
       "<tbody>\n",
       "\t<tr><td>revelskojeslovo19170201.1.2</td><td>и </td><td>191</td></tr>\n",
       "\t<tr><td>nasheslovo19171129.1.2     </td><td>gt</td><td>189</td></tr>\n",
       "\t<tr><td>nasheslovo19171123.1.3     </td><td>gt</td><td>183</td></tr>\n",
       "\t<tr><td>revelskojeslovo19170803.1.2</td><td>и </td><td>180</td></tr>\n",
       "\t<tr><td>revelskojeslovo19170722.1.2</td><td>и </td><td>179</td></tr>\n",
       "\t<tr><td>revelskojeslovo19170609.1.2</td><td>и </td><td>169</td></tr>\n",
       "</tbody>\n",
       "</table>\n"
      ],
      "text/latex": [
       "A grouped\\_df: 6 × 3\n",
       "\\begin{tabular}{lll}\n",
       " PageID & lemma & n\\\\\n",
       " <chr> & <chr> & <int>\\\\\n",
       "\\hline\n",
       "\t revelskojeslovo19170201.1.2 & и  & 191\\\\\n",
       "\t nasheslovo19171129.1.2      & gt & 189\\\\\n",
       "\t nasheslovo19171123.1.3      & gt & 183\\\\\n",
       "\t revelskojeslovo19170803.1.2 & и  & 180\\\\\n",
       "\t revelskojeslovo19170722.1.2 & и  & 179\\\\\n",
       "\t revelskojeslovo19170609.1.2 & и  & 169\\\\\n",
       "\\end{tabular}\n"
      ],
      "text/markdown": [
       "\n",
       "A grouped_df: 6 × 3\n",
       "\n",
       "| PageID &lt;chr&gt; | lemma &lt;chr&gt; | n &lt;int&gt; |\n",
       "|---|---|---|\n",
       "| revelskojeslovo19170201.1.2 | и  | 191 |\n",
       "| nasheslovo19171129.1.2      | gt | 189 |\n",
       "| nasheslovo19171123.1.3      | gt | 183 |\n",
       "| revelskojeslovo19170803.1.2 | и  | 180 |\n",
       "| revelskojeslovo19170722.1.2 | и  | 179 |\n",
       "| revelskojeslovo19170609.1.2 | и  | 169 |\n",
       "\n"
      ],
      "text/plain": [
       "  PageID                      lemma n  \n",
       "1 revelskojeslovo19170201.1.2 и     191\n",
       "2 nasheslovo19171129.1.2      gt    189\n",
       "3 nasheslovo19171123.1.3      gt    183\n",
       "4 revelskojeslovo19170803.1.2 и     180\n",
       "5 revelskojeslovo19170722.1.2 и     179\n",
       "6 revelskojeslovo19170609.1.2 и     169"
      ]
     },
     "metadata": {},
     "output_type": "display_data"
    }
   ],
   "source": [
    "nrow(dat)\n",
    "nrow(dat_gr)\n",
    "\n",
    "head(dat_gr)"
   ]
  },
  {
   "cell_type": "code",
   "execution_count": 6,
   "id": "d99f24a8",
   "metadata": {},
   "outputs": [],
   "source": [
    "write_csv(file = \"mfw/MFW_1917.csv\", dat)"
   ]
  },
  {
   "cell_type": "code",
   "execution_count": null,
   "id": "a5ef6868",
   "metadata": {},
   "outputs": [],
   "source": []
  }
 ],
 "metadata": {
  "kernelspec": {
   "display_name": "R 4.1.2",
   "language": "R",
   "name": "ir4-1"
  },
  "language_info": {
   "codemirror_mode": "r",
   "file_extension": ".r",
   "mimetype": "text/x-r-source",
   "name": "R",
   "pygments_lexer": "r",
   "version": "4.1.2"
  }
 },
 "nbformat": 4,
 "nbformat_minor": 5
}
