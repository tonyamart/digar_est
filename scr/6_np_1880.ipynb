{
 "cells": [
  {
   "cell_type": "markdown",
   "id": "ee13d382",
   "metadata": {},
   "source": [
    "### Subset for all pages from 1880s (est & liv goub vedomosti)"
   ]
  },
  {
   "cell_type": "code",
   "execution_count": 3,
   "id": "fc2827a9",
   "metadata": {},
   "outputs": [],
   "source": [
    "library(tidyverse)"
   ]
  },
  {
   "cell_type": "code",
   "execution_count": 4,
   "id": "4ff43f44",
   "metadata": {},
   "outputs": [],
   "source": [
    "library(tidytext, lib.loc = \"~/R_pckg/\")"
   ]
  },
  {
   "cell_type": "code",
   "execution_count": 5,
   "id": "520dc37f",
   "metadata": {},
   "outputs": [
    {
     "name": "stdout",
     "output_type": "stream",
     "text": [
      "'data.frame':\t128700 obs. of  20 variables:\n",
      " $ X                         : int  1 2 3 4 5 6 7 8 9 10 ...\n",
      " $ PageID                    : chr  \"borbaorgan19171208.1.4\" \"borbaorgan19171217.1.4\" \"borbaorgan19171201.1.1\" \"borbaorgan19171201.1.2\" ...\n",
      " $ text                      : chr  \"№ 4 „Борьба* 1 4  ныхъ случаяхъ Нрезщцумъ можетъ давать распоряжены по своему усмотр’Ьнш и во всехъ своихъ дейс\"| __truncated__ \"Но 8 Борьба\\\"\\\". 4  ТЕЛЕГРАММЫ. ВсЪмъ народамъ и правительствамъ союзныхъ странъ. Мирные переговоры ведущееся в\"| __truncated__ \"/#&lt;г  Вт» борьб-Ь обретешь ты право свое! ^  Ц’Ьна отд. № 15 коп. Адресь редакцш: Ревель, Гонзюрская у.д.№4,\"| __truncated__ \"ЛП I „Борьб а“. 2  отъ жизни и массъ, проводить какой то дьявольшй саботаже. тормозя работу и только и мечтаетъ\"| __truncated__ ...\n",
      " $ .id                       : int  28 28 28 28 28 28 28 28 28 28 ...\n",
      " $ docid                     : chr  \"borbaorgan19171208\" \"borbaorgan19171217\" \"borbaorgan19171201\" \"borbaorgan19171201\" ...\n",
      " $ attrs                     : int  4 4 1 2 3 4 1 2 3 4 ...\n",
      " $ PageImageHeight           : int  7090 7084 7114 7062 7080 7041 7080 7060 7080 7031 ...\n",
      " $ PageImageWidth            : int  5671 5681 5665 5572 5627 5602 5538 5617 5494 5567 ...\n",
      " $ PageOCRAccuracy           : chr  \"%\" \"%\" \"%\" \"%\" ...\n",
      " $ PageTitle                 : chr  \"Страница 4\" \"Страница 4\" \"Страница 1\" \"Страница 2\" ...\n",
      " $ MeanOCRAccuracyVol        : num  NA NA NA NA NA NA NA NA NA NA ...\n",
      " $ PageViewURL               : chr  \"/cgi-bin/dea?a=d&d=borbaorgan19171208.1.4\" \"/cgi-bin/dea?a=d&d=borbaorgan19171217.1.4\" \"/cgi-bin/dea?a=d&d=borbaorgan19171201.1.1\" \"/cgi-bin/dea?a=d&d=borbaorgan19171201.1.2\" ...\n",
      " $ PageTextWordCount         : int  1689 1942 1132 1532 1815 1690 1178 1770 1481 1697 ...\n",
      " $ PagePrevPageID            : chr  \"borbaorgan19171208.1.3\" \"borbaorgan19171217.1.3\" \"\" \"borbaorgan19171201.1.1\" ...\n",
      " $ PageNextLogicalPageID     : chr  \"\" \"\" \"borbaorgan19171201.1.2\" \"borbaorgan19171201.1.3\" ...\n",
      " $ ArrayOfLogicalSectionBlock: chr  NA NA NA NA ...\n",
      " $ date                      : chr  \"1917-12-08\" \"1917-12-17\" \"1917-12-01\" \"1917-12-01\" ...\n",
      " $ dateraw                   : int  19171208 19171217 19171201 19171201 19171201 19171201 19171203 19171203 19171203 19171203 ...\n",
      " $ year                      : int  1917 1917 1917 1917 1917 1917 1917 1917 1917 1917 ...\n",
      " $ decade                    : int  1910 1910 1910 1910 1910 1910 1910 1910 1910 1910 ...\n"
     ]
    }
   ],
   "source": [
    "dorevol <- read.csv(\"test/dorevol.csv\")\n",
    "subset_meta_pages <- read.delim(\"test/meta_rus_subset_pages.tsv\", sep = \"\\t\")\n",
    "test_join <- inner_join(dorevol, subset_meta_pages, by = \"PageID\")\n",
    "str(test_join)"
   ]
  },
  {
   "cell_type": "code",
   "execution_count": 9,
   "id": "57392e2f",
   "metadata": {},
   "outputs": [
    {
     "data": {
      "text/html": [
       "<style>\n",
       ".list-inline {list-style: none; margin:0; padding: 0}\n",
       ".list-inline>li {display: inline-block}\n",
       ".list-inline>li:not(:last-child)::after {content: \"\\00b7\"; padding: 0 .5ex}\n",
       "</style>\n",
       "<ol class=list-inline><li>'ekmteataja'</li><li>'livzeitung'</li></ol>\n"
      ],
      "text/latex": [
       "\\begin{enumerate*}\n",
       "\\item 'ekmteataja'\n",
       "\\item 'livzeitung'\n",
       "\\end{enumerate*}\n"
      ],
      "text/markdown": [
       "1. 'ekmteataja'\n",
       "2. 'livzeitung'\n",
       "\n",
       "\n"
      ],
      "text/plain": [
       "[1] \"ekmteataja\" \"livzeitung\""
      ]
     },
     "metadata": {},
     "output_type": "display_data"
    }
   ],
   "source": [
    "np_1880 <- test_join %>% filter(year > 1879 & year < 1891) %>% \n",
    "    mutate(id_per = str_replace_all(docid, \"(\\\\w+)(\\\\d{8})\", \"\\\\1\"))\n",
    "unique(np_1880$id_per)"
   ]
  },
  {
   "cell_type": "code",
   "execution_count": 10,
   "id": "6fd5cba8",
   "metadata": {},
   "outputs": [
    {
     "name": "stdout",
     "output_type": "stream",
     "text": [
      "'data.frame':\t128700 obs. of  3 variables:\n",
      " $ X     : int  1 2 3 4 5 6 7 8 9 10 ...\n",
      " $ PageID: chr  \"borbaorgan19171208.1.4\" \"borbaorgan19171217.1.4\" \"borbaorgan19171201.1.1\" \"borbaorgan19171201.1.2\" ...\n",
      " $ lang  : chr  \"russian-koi8_r\" \"russian-koi8_r\" \"russian-koi8_r\" \"russian-koi8_r\" ...\n"
     ]
    }
   ],
   "source": [
    "dorevol_langs <- read.csv(\"test/dorevol_langs.csv\")\n",
    "str(dorevol_langs)"
   ]
  },
  {
   "cell_type": "code",
   "execution_count": 11,
   "id": "9bb5f839",
   "metadata": {},
   "outputs": [
    {
     "data": {
      "text/plain": [
       "\n",
       " german russian \n",
       "   6346    8717 "
      ]
     },
     "metadata": {},
     "output_type": "display_data"
    }
   ],
   "source": [
    "np_1880_langs <- inner_join(np_1880, dorevol_langs, by = \"PageID\")\n",
    "np_1880_langs <- np_1880_langs %>% \n",
    "    mutate(lang_cln = str_replace_all(lang, \"^(\\\\w+)-.*\", \"\\\\1\")) %>% \n",
    "    filter(lang_cln == \"german\" | lang_cln == \"russian\")\n",
    "\n",
    "table(np_1880_langs$lang_cln)"
   ]
  },
  {
   "cell_type": "code",
   "execution_count": 12,
   "id": "0a144d40",
   "metadata": {},
   "outputs": [
    {
     "name": "stdout",
     "output_type": "stream",
     "text": [
      "tibble [6,000 × 24] (S3: tbl_df/tbl/data.frame)\n",
      " $ X.x                       : int [1:6000] 22221 69718 71038 69596 67814 70561 68880 23392 23647 70463 ...\n",
      " $ PageID                    : chr [1:6000] \"ekmteataja18811212.1.1\" \"livzeitung18820702.1.3\" \"livzeitung18830927.1.5\" \"livzeitung18820602.1.1\" ...\n",
      " $ text                      : chr [1:6000] \"Эстляндские губернские ведомости  Эстляндсш Губернсшя Ведомости выходятъ по вторникамъ, четвергаиъ и субботамъ.\"| __truncated__ \"Siimmlllche Polizeibehörden beehrt sich das Rigasche Ordnungsgericht hierdurch zu ersuchen, den zu Friedrichsta\"| __truncated__ \"Kaukegesindes anöden Jahn Spohr, von dem Peter Stabit und dem Carl Stabit unterzeichnet werde und nunmehr Ehrma\"| __truncated__ \"Лифляндские губернские ведомости  Livländische Gouvernements-Zeitung  Годъ XXX.  Губериск{я Ведомости выходятъ \"| __truncated__ ...\n",
      " $ .id                       : int [1:6000] 43 77 77 77 77 77 77 43 43 77 ...\n",
      " $ docid                     : chr [1:6000] \"ekmteataja18811212\" \"livzeitung18820702\" \"livzeitung18830927\" \"livzeitung18820602\" ...\n",
      " $ attrs                     : int [1:6000] 1 3 5 1 2 4 4 2 3 13 ...\n",
      " $ PageImageHeight           : int [1:6000] 5944 6272 6224 6128 6352 6272 6192 5944 5896 3392 ...\n",
      " $ PageImageWidth            : int [1:6000] 3968 4064 4096 4096 3968 4128 4000 4032 4032 4368 ...\n",
      " $ PageOCRAccuracy           : chr [1:6000] \"75.4%\" \"83.5%\" \"85.4%\" \"71.5%\" ...\n",
      " $ PageTitle                 : chr [1:6000] \"Page 355\" \"Page 435\" \"Page 689\" \"Page 345\" ...\n",
      " $ MeanOCRAccuracyVol        : num [1:6000] 70.8 73.4 77.8 77.2 71.7 78.2 73.4 74.9 72.6 75.1 ...\n",
      " $ PageViewURL               : chr [1:6000] \"/cgi-bin/dea?a=d&d=ekmteataja18811212.1.1\" \"/cgi-bin/dea?a=d&d=livzeitung18820702.1.3\" \"/cgi-bin/dea?a=d&d=livzeitung18830927.1.5\" \"/cgi-bin/dea?a=d&d=livzeitung18820602.1.1\" ...\n",
      " $ PageTextWordCount         : int [1:6000] 1466 1924 1847 1321 1785 1815 1542 1915 729 320 ...\n",
      " $ PagePrevPageID            : chr [1:6000] \"\" \"livzeitung18820702.1.2\" \"livzeitung18830927.1.4\" \"\" ...\n",
      " $ PageNextLogicalPageID     : chr [1:6000] \"ekmteataja18811212.1.2\" \"livzeitung18820702.1.4\" \"livzeitung18830927.1.6\" \"livzeitung18820602.1.2\" ...\n",
      " $ ArrayOfLogicalSectionBlock: chr [1:6000] \"58,64,1316,127ekmteataja18811212.2.1ЗаголовокTITLE_SECTION123,248,406,86ekmteataja18811212.2.1ЗаголовокTITLE_SE\"| __truncated__ \"35,81,319,201livzeitung18820702.2.2.2Местный Отделъ. Locale Abtheilung.ARTICLE35,306,316,326livzeitung18820702.\"| __truncated__ \"48,76,314,969livzeitung18830927.2.2.2Locale Abtheilung.ARTICLE47,1065,314,121livzeitung18830927.2.2.2Locale Abt\"| __truncated__ \"143,0,1100,130livzeitung18820602.2.1KopfleisteTITLE_SECTION88,421,1211,80livzeitung18820602.2.1KopfleisteTITLE_\"| __truncated__ ...\n",
      " $ date                      : chr [1:6000] \"1881-12-12\" \"1882-07-02\" \"1883-09-27\" \"1882-06-02\" ...\n",
      " $ dateraw                   : int [1:6000] 18811212 18820702 18830927 18820602 18800912 18830427 18820104 18841025 18840712 18830323 ...\n",
      " $ year                      : int [1:6000] 1881 1882 1883 1882 1880 1883 1882 1884 1884 1883 ...\n",
      " $ decade                    : int [1:6000] 1880 1880 1880 1880 1880 1880 1880 1880 1880 1880 ...\n",
      " $ id_per                    : chr [1:6000] \"ekmteataja\" \"livzeitung\" \"livzeitung\" \"livzeitung\" ...\n",
      " $ X.y                       : int [1:6000] 22221 69718 71038 69596 67814 70561 68880 23392 23647 70463 ...\n",
      " $ lang                      : chr [1:6000] \"german\" \"german\" \"german\" \"german\" ...\n",
      " $ lang_cln                  : chr [1:6000] \"german\" \"german\" \"german\" \"german\" ...\n"
     ]
    }
   ],
   "source": [
    "np_1880_langs <- np_1880_langs %>% \n",
    "    group_by(lang_cln) %>% \n",
    "    slice_sample(n = 3000) %>% \n",
    "    ungroup()\n",
    "str(np_1880_langs)"
   ]
  },
  {
   "cell_type": "code",
   "execution_count": 14,
   "id": "697e99a1",
   "metadata": {},
   "outputs": [
    {
     "data": {
      "text/plain": [
       "\n",
       " german russian \n",
       "   3000    3000 "
      ]
     },
     "metadata": {},
     "output_type": "display_data"
    }
   ],
   "source": [
    "table(np_1880_langs$lang_cln)"
   ]
  },
  {
   "cell_type": "markdown",
   "id": "8bddf2ec",
   "metadata": {},
   "source": [
    "#### Tokenization"
   ]
  },
  {
   "cell_type": "code",
   "execution_count": 15,
   "id": "00b1d3b8",
   "metadata": {},
   "outputs": [
    {
     "data": {
      "text/plain": [
       "Time difference of 6.2 mins"
      ]
     },
     "metadata": {},
     "output_type": "display_data"
    }
   ],
   "source": [
    "start_time <- Sys.time()\n",
    "tokens <- np_1880_langs %>%\n",
    "    unnest_tokens(input = text, output = word, token = \"words\")\n",
    "\n",
    "top_tokens_1880 <- tokens %>% \n",
    "    group_by(PageID, word) %>% \n",
    "    count(sort = T) %>%\n",
    "    ungroup()\n",
    "\n",
    "end_time <- Sys.time()\n",
    "\n",
    "time_taken <- round(end_time - start_time,2)\n",
    "time_taken"
   ]
  },
  {
   "cell_type": "code",
   "execution_count": 16,
   "id": "503d1219",
   "metadata": {},
   "outputs": [
    {
     "data": {
      "text/html": [
       "<table class=\"dataframe\">\n",
       "<caption>A tibble: 6 × 3</caption>\n",
       "<thead>\n",
       "\t<tr><th scope=col>PageID</th><th scope=col>word</th><th scope=col>n</th></tr>\n",
       "\t<tr><th scope=col>&lt;chr&gt;</th><th scope=col>&lt;chr&gt;</th><th scope=col>&lt;int&gt;</th></tr>\n",
       "</thead>\n",
       "<tbody>\n",
       "\t<tr><td>livzeitung18800709.1.9</td><td>500 </td><td>260</td></tr>\n",
       "\t<tr><td>livzeitung18820531.1.9</td><td>gr  </td><td>260</td></tr>\n",
       "\t<tr><td>livzeitung18820113.1.1</td><td>500 </td><td>259</td></tr>\n",
       "\t<tr><td>livzeitung18820531.1.9</td><td>groß</td><td>259</td></tr>\n",
       "\t<tr><td>livzeitung18820531.1.9</td><td>nr  </td><td>259</td></tr>\n",
       "\t<tr><td>livzeitung18820915.1.1</td><td>500 </td><td>258</td></tr>\n",
       "</tbody>\n",
       "</table>\n"
      ],
      "text/latex": [
       "A tibble: 6 × 3\n",
       "\\begin{tabular}{lll}\n",
       " PageID & word & n\\\\\n",
       " <chr> & <chr> & <int>\\\\\n",
       "\\hline\n",
       "\t livzeitung18800709.1.9 & 500  & 260\\\\\n",
       "\t livzeitung18820531.1.9 & gr   & 260\\\\\n",
       "\t livzeitung18820113.1.1 & 500  & 259\\\\\n",
       "\t livzeitung18820531.1.9 & groß & 259\\\\\n",
       "\t livzeitung18820531.1.9 & nr   & 259\\\\\n",
       "\t livzeitung18820915.1.1 & 500  & 258\\\\\n",
       "\\end{tabular}\n"
      ],
      "text/markdown": [
       "\n",
       "A tibble: 6 × 3\n",
       "\n",
       "| PageID &lt;chr&gt; | word &lt;chr&gt; | n &lt;int&gt; |\n",
       "|---|---|---|\n",
       "| livzeitung18800709.1.9 | 500  | 260 |\n",
       "| livzeitung18820531.1.9 | gr   | 260 |\n",
       "| livzeitung18820113.1.1 | 500  | 259 |\n",
       "| livzeitung18820531.1.9 | groß | 259 |\n",
       "| livzeitung18820531.1.9 | nr   | 259 |\n",
       "| livzeitung18820915.1.1 | 500  | 258 |\n",
       "\n"
      ],
      "text/plain": [
       "  PageID                 word n  \n",
       "1 livzeitung18800709.1.9 500  260\n",
       "2 livzeitung18820531.1.9 gr   260\n",
       "3 livzeitung18820113.1.1 500  259\n",
       "4 livzeitung18820531.1.9 groß 259\n",
       "5 livzeitung18820531.1.9 nr   259\n",
       "6 livzeitung18820915.1.1 500  258"
      ]
     },
     "metadata": {},
     "output_type": "display_data"
    }
   ],
   "source": [
    "head(top_tokens_1880)"
   ]
  },
  {
   "cell_type": "code",
   "execution_count": 17,
   "id": "7f20d4a8",
   "metadata": {},
   "outputs": [
    {
     "data": {
      "text/html": [
       "<table class=\"dataframe\">\n",
       "<caption>A tibble: 6 × 3</caption>\n",
       "<thead>\n",
       "\t<tr><th scope=col>PageID</th><th scope=col>word</th><th scope=col>n</th></tr>\n",
       "\t<tr><th scope=col>&lt;chr&gt;</th><th scope=col>&lt;chr&gt;</th><th scope=col>&lt;int&gt;</th></tr>\n",
       "</thead>\n",
       "<tbody>\n",
       "\t<tr><td>livzeitung18820531.1.9</td><td>groß</td><td>259</td></tr>\n",
       "\t<tr><td>livzeitung18820531.1.9</td><td>thlr</td><td>257</td></tr>\n",
       "\t<tr><td>livzeitung18871113.1.6</td><td>лес </td><td>165</td></tr>\n",
       "\t<tr><td>livzeitung18851023.1.2</td><td>der </td><td>157</td></tr>\n",
       "\t<tr><td>livzeitung18800611.1.6</td><td>groß</td><td>152</td></tr>\n",
       "\t<tr><td>livzeitung18800613.1.5</td><td>groß</td><td>152</td></tr>\n",
       "</tbody>\n",
       "</table>\n"
      ],
      "text/latex": [
       "A tibble: 6 × 3\n",
       "\\begin{tabular}{lll}\n",
       " PageID & word & n\\\\\n",
       " <chr> & <chr> & <int>\\\\\n",
       "\\hline\n",
       "\t livzeitung18820531.1.9 & groß & 259\\\\\n",
       "\t livzeitung18820531.1.9 & thlr & 257\\\\\n",
       "\t livzeitung18871113.1.6 & лес  & 165\\\\\n",
       "\t livzeitung18851023.1.2 & der  & 157\\\\\n",
       "\t livzeitung18800611.1.6 & groß & 152\\\\\n",
       "\t livzeitung18800613.1.5 & groß & 152\\\\\n",
       "\\end{tabular}\n"
      ],
      "text/markdown": [
       "\n",
       "A tibble: 6 × 3\n",
       "\n",
       "| PageID &lt;chr&gt; | word &lt;chr&gt; | n &lt;int&gt; |\n",
       "|---|---|---|\n",
       "| livzeitung18820531.1.9 | groß | 259 |\n",
       "| livzeitung18820531.1.9 | thlr | 257 |\n",
       "| livzeitung18871113.1.6 | лес  | 165 |\n",
       "| livzeitung18851023.1.2 | der  | 157 |\n",
       "| livzeitung18800611.1.6 | groß | 152 |\n",
       "| livzeitung18800613.1.5 | groß | 152 |\n",
       "\n"
      ],
      "text/plain": [
       "  PageID                 word n  \n",
       "1 livzeitung18820531.1.9 groß 259\n",
       "2 livzeitung18820531.1.9 thlr 257\n",
       "3 livzeitung18871113.1.6 лес  165\n",
       "4 livzeitung18851023.1.2 der  157\n",
       "5 livzeitung18800611.1.6 groß 152\n",
       "6 livzeitung18800613.1.5 groß 152"
      ]
     },
     "metadata": {},
     "output_type": "display_data"
    }
   ],
   "source": [
    "top_tokens_1880 <- top_tokens_1880 %>% \n",
    "    filter(!str_detect(word, \"^\\\\d+$|^\\\\W+$\")) %>% \n",
    "    filter(!str_detect(word, \"^\\\\w$|^\\\\w\\\\w$\"))\n",
    "head(top_tokens_1880)"
   ]
  },
  {
   "cell_type": "code",
   "execution_count": 19,
   "id": "28ac7144",
   "metadata": {},
   "outputs": [],
   "source": [
    "write.csv(top_tokens_1880, \"mfw/biling_1880.csv\")"
   ]
  },
  {
   "cell_type": "code",
   "execution_count": null,
   "id": "f5cb6701",
   "metadata": {},
   "outputs": [],
   "source": []
  }
 ],
 "metadata": {
  "kernelspec": {
   "display_name": "R 4.1.2",
   "language": "R",
   "name": "ir4-1"
  },
  "language_info": {
   "codemirror_mode": "r",
   "file_extension": ".r",
   "mimetype": "text/x-r-source",
   "name": "R",
   "pygments_lexer": "r",
   "version": "4.1.2"
  }
 },
 "nbformat": 4,
 "nbformat_minor": 5
}
