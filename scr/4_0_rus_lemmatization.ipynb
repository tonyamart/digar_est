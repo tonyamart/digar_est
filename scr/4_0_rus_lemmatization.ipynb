{
 "cells": [
  {
   "cell_type": "markdown",
   "id": "0c9da31d",
   "metadata": {},
   "source": [
    "### Lemmatization & tagging for Russian texts\n",
    "\n",
    "The package used here is Python [Pymystem3](https://pypi.org/project/pymystem3/)"
   ]
  },
  {
   "cell_type": "code",
   "execution_count": 1,
   "id": "76a0964c",
   "metadata": {},
   "outputs": [],
   "source": [
    "import re\n",
    "import json\n",
    "import pandas as pd\n",
    "from pymystem3 import Mystem\n",
    "\n",
    "m = Mystem()"
   ]
  },
  {
   "cell_type": "code",
   "execution_count": 2,
   "id": "bb551536",
   "metadata": {},
   "outputs": [
    {
     "name": "stdout",
     "output_type": "stream",
     "text": [
      "['попробовать', ' ', 'этот', ' ', 'мягкий', ' ', 'французский', ' ', 'булка', '\\n']\n"
     ]
    }
   ],
   "source": [
    "test = 'Попробуй этих мягких французских булок'\n",
    "lemma = m.lemmatize(test)\n",
    "print(lemma) # list output"
   ]
  },
  {
   "cell_type": "code",
   "execution_count": 3,
   "id": "95cdadf8",
   "metadata": {},
   "outputs": [
    {
     "data": {
      "text/plain": [
       "'/home/tonya/Documents/est_np/scr/rus'"
      ]
     },
     "execution_count": 3,
     "metadata": {},
     "output_type": "execute_result"
    }
   ],
   "source": [
    "import os\n",
    "os.getcwd()"
   ]
  },
  {
   "cell_type": "code",
   "execution_count": 4,
   "id": "de62eeab",
   "metadata": {},
   "outputs": [],
   "source": [
    "os.chdir('../../')"
   ]
  },
  {
   "cell_type": "code",
   "execution_count": 6,
   "id": "2112bfa3",
   "metadata": {},
   "outputs": [
    {
     "data": {
      "text/html": [
       "<div>\n",
       "<style scoped>\n",
       "    .dataframe tbody tr th:only-of-type {\n",
       "        vertical-align: middle;\n",
       "    }\n",
       "\n",
       "    .dataframe tbody tr th {\n",
       "        vertical-align: top;\n",
       "    }\n",
       "\n",
       "    .dataframe thead th {\n",
       "        text-align: right;\n",
       "    }\n",
       "</style>\n",
       "<table border=\"1\" class=\"dataframe\">\n",
       "  <thead>\n",
       "    <tr style=\"text-align: right;\">\n",
       "      <th></th>\n",
       "      <th>Unnamed: 0</th>\n",
       "      <th>PageID</th>\n",
       "      <th>word</th>\n",
       "      <th>n</th>\n",
       "    </tr>\n",
       "  </thead>\n",
       "  <tbody>\n",
       "    <tr>\n",
       "      <th>0</th>\n",
       "      <td>1</td>\n",
       "      <td>livzeitung18820531.1.9</td>\n",
       "      <td>groß</td>\n",
       "      <td>259</td>\n",
       "    </tr>\n",
       "    <tr>\n",
       "      <th>1</th>\n",
       "      <td>2</td>\n",
       "      <td>livzeitung18820531.1.9</td>\n",
       "      <td>thlr</td>\n",
       "      <td>257</td>\n",
       "    </tr>\n",
       "    <tr>\n",
       "      <th>2</th>\n",
       "      <td>3</td>\n",
       "      <td>livzeitung18871113.1.6</td>\n",
       "      <td>лес</td>\n",
       "      <td>165</td>\n",
       "    </tr>\n",
       "    <tr>\n",
       "      <th>3</th>\n",
       "      <td>4</td>\n",
       "      <td>livzeitung18851023.1.2</td>\n",
       "      <td>der</td>\n",
       "      <td>157</td>\n",
       "    </tr>\n",
       "    <tr>\n",
       "      <th>4</th>\n",
       "      <td>5</td>\n",
       "      <td>livzeitung18800611.1.6</td>\n",
       "      <td>groß</td>\n",
       "      <td>152</td>\n",
       "    </tr>\n",
       "  </tbody>\n",
       "</table>\n",
       "</div>"
      ],
      "text/plain": [
       "   Unnamed: 0                  PageID  word    n\n",
       "0           1  livzeitung18820531.1.9  groß  259\n",
       "1           2  livzeitung18820531.1.9  thlr  257\n",
       "2           3  livzeitung18871113.1.6   лес  165\n",
       "3           4  livzeitung18851023.1.2   der  157\n",
       "4           5  livzeitung18800611.1.6  groß  152"
      ]
     },
     "execution_count": 6,
     "metadata": {},
     "output_type": "execute_result"
    }
   ],
   "source": [
    "df = pd.read_csv('data/biling_1880_nf.csv')\n",
    "df.head()"
   ]
  },
  {
   "cell_type": "code",
   "execution_count": 7,
   "id": "d0a1d93d",
   "metadata": {},
   "outputs": [
    {
     "data": {
      "text/plain": [
       "4112746"
      ]
     },
     "execution_count": 7,
     "metadata": {},
     "output_type": "execute_result"
    }
   ],
   "source": [
    "len(df)"
   ]
  },
  {
   "cell_type": "code",
   "execution_count": 8,
   "id": "e13bbe8b",
   "metadata": {},
   "outputs": [],
   "source": [
    "df = df.loc[df.word.apply(lambda x: not isinstance(x, (float, int)))]"
   ]
  },
  {
   "cell_type": "code",
   "execution_count": 9,
   "id": "a11b6df2",
   "metadata": {},
   "outputs": [
    {
     "data": {
      "text/plain": [
       "4112741"
      ]
     },
     "execution_count": 9,
     "metadata": {},
     "output_type": "execute_result"
    }
   ],
   "source": [
    "len(df)"
   ]
  },
  {
   "cell_type": "code",
   "execution_count": 10,
   "id": "a38d12e6",
   "metadata": {},
   "outputs": [],
   "source": [
    "df['lemma'] = df['word'].apply(m.lemmatize)\n",
    "df['lemma'] = [''.join(map(str, l)) for l in df['lemma']] \n",
    "df['lemma'] = df['lemma'].str.replace('\\n', '', regex = True)"
   ]
  },
  {
   "cell_type": "code",
   "execution_count": 11,
   "id": "76103e42",
   "metadata": {},
   "outputs": [
    {
     "name": "stdout",
     "output_type": "stream",
     "text": [
      "     Unnamed: 0                  PageID     word    n    lemma\n",
      "0             1  livzeitung18820531.1.9     groß  259     groß\n",
      "1             2  livzeitung18820531.1.9     thlr  257     thlr\n",
      "2             3  livzeitung18871113.1.6      лес  165      лес\n",
      "3             4  livzeitung18851023.1.2      der  157      der\n",
      "4             5  livzeitung18800611.1.6     groß  152     groß\n",
      "..          ...                     ...      ...  ...      ...\n",
      "995         996  livzeitung18830610.1.6      des   59      des\n",
      "996         997  livzeitung18830919.1.6      von   59      von\n",
      "997         998  livzeitung18831017.1.5      und   59      und\n",
      "998         999  livzeitung18831109.1.3      und   59      und\n",
      "999        1000  livzeitung18840125.1.5  gesinde   59  gesinde\n",
      "\n",
      "[1000 rows x 5 columns]\n"
     ]
    }
   ],
   "source": [
    "print(df.head(1000))"
   ]
  },
  {
   "cell_type": "code",
   "execution_count": 12,
   "id": "a25a53cd",
   "metadata": {},
   "outputs": [],
   "source": [
    "df.to_csv('data/MFW_biling_1880_lem.csv')"
   ]
  },
  {
   "cell_type": "code",
   "execution_count": null,
   "id": "fab7aaef",
   "metadata": {},
   "outputs": [],
   "source": []
  }
 ],
 "metadata": {
  "kernelspec": {
   "display_name": "Python 3 (ipykernel)",
   "language": "python",
   "name": "python3"
  },
  "language_info": {
   "codemirror_mode": {
    "name": "ipython",
    "version": 3
   },
   "file_extension": ".py",
   "mimetype": "text/x-python",
   "name": "python",
   "nbconvert_exporter": "python",
   "pygments_lexer": "ipython3",
   "version": "3.8.10"
  }
 },
 "nbformat": 4,
 "nbformat_minor": 5
}
